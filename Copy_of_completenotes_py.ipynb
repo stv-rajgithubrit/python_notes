{
  "nbformat": 4,
  "nbformat_minor": 0,
  "metadata": {
    "colab": {
      "provenance": [],
      "authorship_tag": "ABX9TyNX6fWSFTN/rRXSSX8rbchS",
      "include_colab_link": true
    },
    "kernelspec": {
      "name": "python3",
      "display_name": "Python 3"
    },
    "language_info": {
      "name": "python"
    }
  },
  "cells": [
    {
      "cell_type": "markdown",
      "metadata": {
        "id": "view-in-github",
        "colab_type": "text"
      },
      "source": [
        "<a href=\"https://colab.research.google.com/github/stv-rajgithubrit/python_notes/blob/main/Copy_of_completenotes_py.ipynb\" target=\"_parent\"><img src=\"https://colab.research.google.com/assets/colab-badge.svg\" alt=\"Open In Colab\"/></a>"
      ]
    },
    {
      "cell_type": "code",
      "execution_count": null,
      "metadata": {
        "id": "ePZjqU6AuLNa"
      },
      "outputs": [],
      "source": [
        "#-->single line commenting\n",
        "#1. What is Python?\n",
        "'''A. High-level Programming Language\n",
        "B. General purpose\n",
        "c. Object oriented programmin language\n",
        "D. Interpreted language\n",
        "e. dynamically typed'''"
      ]
    },
    {
      "cell_type": "code",
      "source": [
        "#why we require comminting?\n",
        "#better understanding of the code"
      ],
      "metadata": {
        "id": "E_sK9-WJujY5"
      },
      "execution_count": null,
      "outputs": []
    },
    {
      "cell_type": "code",
      "source": [
        "#what is an IDE?\n",
        "#integreted development environment-->code executer, compiler, write our code and display our code\n",
        "# google colbnote book, jupyter notebook, pycharm...etc"
      ],
      "metadata": {
        "id": "huQj9gwqukGn"
      },
      "execution_count": null,
      "outputs": []
    },
    {
      "cell_type": "code",
      "source": [
        "#Numerical data types\n",
        "#3 types of numerical data types\n",
        "#1. integer:- A whole number without decimal points\n",
        "#print():-to display our ouput\n",
        "print(10)\n",
        "#how can you find the data type?\n",
        "#type():- used for to know the data type\n",
        "print(type(10))"
      ],
      "metadata": {
        "colab": {
          "base_uri": "https://localhost:8080/"
        },
        "id": "UvutddYJukVo",
        "outputId": "c129b1cb-e466-4273-eb60-6c9b3e3ad3ee"
      },
      "execution_count": null,
      "outputs": [
        {
          "output_type": "stream",
          "name": "stdout",
          "text": [
            "10\n",
            "<class 'int'>\n"
          ]
        }
      ]
    },
    {
      "cell_type": "code",
      "source": [
        "#float:- a whole number either -ve or +ve with decimal points.\n",
        "print(10.5)\n",
        "print(type(10.5))\n",
        "print(2.35)\n",
        "print(type(2.35))\n",
        "print(1.0)\n",
        "print(type(-1.0))"
      ],
      "metadata": {
        "colab": {
          "base_uri": "https://localhost:8080/"
        },
        "id": "7AJKutJtukeY",
        "outputId": "7b762741-3f71-4a4d-f28f-7793b339a9b8"
      },
      "execution_count": null,
      "outputs": [
        {
          "output_type": "stream",
          "name": "stdout",
          "text": [
            "10.5\n",
            "<class 'float'>\n",
            "2.35\n",
            "<class 'float'>\n",
            "1.0\n",
            "<class 'float'>\n"
          ]
        }
      ]
    },
    {
      "cell_type": "code",
      "source": [
        "#complex numbers:- A real number with its imaginary part\n",
        "print(2+4j)\n",
        "print(type(2+4j))\n",
        "#what is \"j'?\n",
        "#j --> iota-->root -1"
      ],
      "metadata": {
        "colab": {
          "base_uri": "https://localhost:8080/"
        },
        "id": "eUDxCri7ukoX",
        "outputId": "ae572f49-34a2-4cd3-9169-fe2ebe0edc96"
      },
      "execution_count": null,
      "outputs": [
        {
          "output_type": "stream",
          "name": "stdout",
          "text": [
            "(2+4j)\n",
            "<class 'complex'>\n"
          ]
        }
      ]
    },
    {
      "cell_type": "code",
      "source": [],
      "metadata": {
        "id": "svHW1DoaukvH"
      },
      "execution_count": null,
      "outputs": []
    },
    {
      "cell_type": "markdown",
      "source": [
        "***Arthamatic operators***\n"
      ],
      "metadata": {
        "id": "qja9vmB7vFOl"
      }
    },
    {
      "cell_type": "code",
      "source": [
        "#what are all arthamatic operators?\n",
        "#Addition:--->\"+\"\n",
        "print(10 + 5)\n",
        "print(type(10 + 5))\n",
        "#substraction---> \"-\"\n",
        "print(10 - 5)\n",
        "#multiplication----> \"*\"\n",
        "print(10 * 5)\n",
        "#division----> \"/\" (forward slash)\n",
        "print(10 / 5)\n",
        "print(type(10 / 5))"
      ],
      "metadata": {
        "colab": {
          "base_uri": "https://localhost:8080/"
        },
        "id": "gJWGDihaukzY",
        "outputId": "d835ef89-bd74-48c9-cc64-fff1e3e4ab80"
      },
      "execution_count": null,
      "outputs": [
        {
          "output_type": "stream",
          "name": "stdout",
          "text": [
            "15\n",
            "<class 'int'>\n",
            "5\n",
            "50\n",
            "2.0\n",
            "<class 'float'>\n"
          ]
        }
      ]
    },
    {
      "cell_type": "code",
      "source": [
        "#exponential:- to the power off --> **\n",
        "print(2 ** 3)\n",
        "print(type(2 ** 3))\n"
      ],
      "metadata": {
        "colab": {
          "base_uri": "https://localhost:8080/"
        },
        "id": "ZOwkWHJfuk3I",
        "outputId": "cb2b70b4-ae29-4b8c-d4ff-365d3e098114"
      },
      "execution_count": null,
      "outputs": [
        {
          "output_type": "stream",
          "name": "stdout",
          "text": [
            "8\n",
            "<class 'int'>\n"
          ]
        }
      ]
    },
    {
      "cell_type": "code",
      "source": [
        "#floor division:- it will ignores the values after decimal points\n",
        "#doneted with--> \"//\"\n",
        "\n",
        "print(10 / 3)\n",
        "print(10 // 3)"
      ],
      "metadata": {
        "colab": {
          "base_uri": "https://localhost:8080/"
        },
        "id": "lvgWi2eiuk63",
        "outputId": "0a260d58-2913-48b5-d021-e4c83e3fe0ff"
      },
      "execution_count": null,
      "outputs": [
        {
          "output_type": "stream",
          "name": "stdout",
          "text": [
            "3.3333333333333335\n",
            "3\n"
          ]
        }
      ]
    },
    {
      "cell_type": "code",
      "source": [
        "#Modulus :- --->\"%\"-->remainder of a division\n",
        "\n",
        "print(10 % 3)\n",
        "print(type(10 % 3))\n",
        "\n",
        "print(10 % 2)\n",
        "print(type(10 % 2))"
      ],
      "metadata": {
        "colab": {
          "base_uri": "https://localhost:8080/"
        },
        "id": "V-wUILaxuk-H",
        "outputId": "fe317489-9ece-4d1c-bdd4-72063af5d8ea"
      },
      "execution_count": null,
      "outputs": [
        {
          "output_type": "stream",
          "name": "stdout",
          "text": [
            "1\n",
            "<class 'int'>\n",
            "0\n",
            "<class 'int'>\n"
          ]
        }
      ]
    },
    {
      "cell_type": "code",
      "source": [
        "#find the given number is odd or even?\n",
        "print(5 % 2) #odd--- in modulus if you get o/p as 1\n",
        "print(6 % 2) #even -- in modulus if u get o/p as 0"
      ],
      "metadata": {
        "colab": {
          "base_uri": "https://localhost:8080/"
        },
        "id": "vd_wAc3LulBX",
        "outputId": "ed5762e8-cbc3-4393-f6c0-62633eb19f44"
      },
      "execution_count": null,
      "outputs": [
        {
          "output_type": "stream",
          "name": "stdout",
          "text": [
            "1\n",
            "0\n"
          ]
        }
      ]
    },
    {
      "cell_type": "code",
      "source": [
        "#what is a floor value?\n",
        "#it is value before decimal point"
      ],
      "metadata": {
        "id": "F7pheF4yulEn"
      },
      "execution_count": null,
      "outputs": []
    },
    {
      "cell_type": "code",
      "source": [],
      "metadata": {
        "id": "yiGdGDz9ulH3"
      },
      "execution_count": null,
      "outputs": []
    },
    {
      "cell_type": "markdown",
      "source": [
        "***Types of Erros***"
      ],
      "metadata": {
        "id": "xkxlsQTFvqjh"
      }
    },
    {
      "cell_type": "code",
      "source": [
        "#there are 2 types pof error\n",
        "#1.syntax error:- if you break the rules of programming language you have syntax error\n",
        "#ex:-print(10 * * 3)\n"
      ],
      "metadata": {
        "id": "Mj_PxEuaulKn"
      },
      "execution_count": null,
      "outputs": []
    },
    {
      "cell_type": "code",
      "source": [
        "#2.Logical errors:- except syntax error all the errors comes under logical error\n",
        "# ex:- indentation error, type error, recurissive  error...etc\n"
      ],
      "metadata": {
        "id": "fMSoiPdIulNn"
      },
      "execution_count": null,
      "outputs": []
    },
    {
      "cell_type": "markdown",
      "source": [
        "**Round()**"
      ],
      "metadata": {
        "id": "kGHhAHQIv03K"
      }
    },
    {
      "cell_type": "code",
      "source": [
        "#it will give the nearest value means we are rounding off the value\n",
        "print(round(10.5))\n",
        "print(round(10.6))\n",
        "#note: if the values are equals to or less than (0.5) point 5 thw round off value can be floor value\n"
      ],
      "metadata": {
        "colab": {
          "base_uri": "https://localhost:8080/"
        },
        "id": "MIDkOtktulQn",
        "outputId": "0ef948aa-f872-47a1-eab0-7e75ea79e28a"
      },
      "execution_count": null,
      "outputs": [
        {
          "output_type": "stream",
          "name": "stdout",
          "text": [
            "10\n",
            "11\n"
          ]
        }
      ]
    },
    {
      "cell_type": "code",
      "source": [
        "#print round off value of 2.3456?\n",
        "print(round(2.3456))\n",
        "#if i want to print number with 2 decimal point?\n",
        "print(round(2.3456,2))\n",
        "#print 1st 3 decimal points?\n",
        "print(round(2.3456,3))"
      ],
      "metadata": {
        "colab": {
          "base_uri": "https://localhost:8080/"
        },
        "id": "2uw30dQIulTn",
        "outputId": "deedc009-59eb-467a-b67e-1fb565a67101"
      },
      "execution_count": null,
      "outputs": [
        {
          "output_type": "stream",
          "name": "stdout",
          "text": [
            "2\n",
            "2.35\n",
            "2.346\n"
          ]
        }
      ]
    },
    {
      "cell_type": "code",
      "source": [
        "#what is ceiling value?\n",
        "#when you use round off fuction if the value is more than point 5(0.5) it will go for neares upcoming value\n",
        "#so upcoming value is known as ceiling value."
      ],
      "metadata": {
        "id": "-E1_pZW1ulW3"
      },
      "execution_count": null,
      "outputs": []
    },
    {
      "cell_type": "code",
      "source": [
        "print(\"hello world!\")"
      ],
      "metadata": {
        "colab": {
          "base_uri": "https://localhost:8080/"
        },
        "id": "UeRymSBiulZ3",
        "outputId": "124085cb-3a1b-415c-ff0a-e46c51663171"
      },
      "execution_count": null,
      "outputs": [
        {
          "output_type": "stream",
          "name": "stdout",
          "text": [
            "hello world!\n"
          ]
        }
      ]
    },
    {
      "cell_type": "code",
      "source": [
        "#print first 3 decimals from the given 9.6543?\n",
        "#9.65\n",
        "print(round(9.6543,3))\n"
      ],
      "metadata": {
        "colab": {
          "base_uri": "https://localhost:8080/"
        },
        "id": "0A9Eyj0xulc5",
        "outputId": "0171fea1-044d-4d85-c191-7d8494a3f1c8"
      },
      "execution_count": null,
      "outputs": [
        {
          "output_type": "stream",
          "name": "stdout",
          "text": [
            "9.654\n"
          ]
        }
      ]
    },
    {
      "cell_type": "code",
      "source": [],
      "metadata": {
        "id": "AuuTghPowPZ8"
      },
      "execution_count": null,
      "outputs": []
    },
    {
      "cell_type": "markdown",
      "source": [
        "***Varaibles***"
      ],
      "metadata": {
        "id": "4A7ATLf6wTLt"
      }
    },
    {
      "cell_type": "code",
      "source": [
        "#why we are using the varibles?\n",
        "#A containers where we can store our valuable information and whenever you want you reuse it\n",
        "#how can we create an variable?\n",
        "\"\"\" lets say father age is x and son\n",
        "age is 1/2 father age\"\"\"\n",
        "x = 40\n",
        "son_age = x/2\n",
        "#how we access an varaible?\n",
        "print(son_age)"
      ],
      "metadata": {
        "colab": {
          "base_uri": "https://localhost:8080/"
        },
        "id": "7M18gNloulf5",
        "outputId": "5f562eab-5d43-4447-b384-e5bbab5d6e08"
      },
      "execution_count": null,
      "outputs": [
        {
          "output_type": "stream",
          "name": "stdout",
          "text": [
            "20.0\n"
          ]
        }
      ]
    },
    {
      "cell_type": "code",
      "source": [
        "#please do all the arthamatic operation by using 2 varible?\n",
        "x = 10\n",
        "y = 5\n",
        "print(x + y)\n",
        "print(x - y)\n",
        "print(x * y)\n",
        "print(x / y)\n",
        "print(x ** y)\n",
        "print(x // y)\n",
        "print(x % y)\n"
      ],
      "metadata": {
        "colab": {
          "base_uri": "https://localhost:8080/"
        },
        "id": "Qm7-YD4xuliq",
        "outputId": "de683ff7-a925-4329-b64b-009912bd2832"
      },
      "execution_count": null,
      "outputs": [
        {
          "output_type": "stream",
          "name": "stdout",
          "text": [
            "15\n",
            "5\n",
            "50\n",
            "2.0\n",
            "100000\n",
            "2\n",
            "0\n"
          ]
        }
      ]
    },
    {
      "cell_type": "code",
      "source": [],
      "metadata": {
        "id": "L2btWmQLull5"
      },
      "execution_count": null,
      "outputs": []
    },
    {
      "cell_type": "code",
      "source": [
        "#rules to follow for writing varible\n",
        "#1. varible can written by using alphabets\n",
        "a = \"hello world!\"\n",
        "print(a)\n",
        "#2. you can not start with the numbers\n",
        "#2 =\"hello world\"\n",
        "#print(2)\n",
        "#3. if you follow rule 1 and 2 then you can start with alphabets in between you use number\n",
        "hello2 = \"hello world\"\n",
        "print(hello2)\n",
        "#4.you start with _\n",
        "_ = 10\n",
        "print(_)\n",
        "#5.you cannot you the special chartacters\n",
        "# @ = 10\n",
        "# print(@)\n",
        "#6. you cannot give spaces in between variables\n",
        "# a b c = 10,20,30\n",
        "# print(a,b,c)\n",
        "#7. dont star a varible name with capital letter\n",
        "#8.varibles are case sensitive"
      ],
      "metadata": {
        "id": "wu-8Y0K5JZtj"
      },
      "execution_count": null,
      "outputs": []
    },
    {
      "cell_type": "code",
      "source": [
        "#varibles are case sensitive\n",
        "c = 10\n",
        "print(C)\n",
        "#Note:- By this we can say python \" is an case sensitive language\""
      ],
      "metadata": {
        "id": "CKsf6cSaulo4"
      },
      "execution_count": null,
      "outputs": []
    },
    {
      "cell_type": "code",
      "source": [
        "#smart ways of writing varibles?\n",
        "#1.Assign multiple values to multiple varibles and print it?\n",
        "a,b,c = 10,20,30\n",
        "print(a,b,c)\n",
        "a = 10\n",
        "b = 20\n",
        "c = 30\n",
        "print(a,b,c, sep='\\n')\n"
      ],
      "metadata": {
        "colab": {
          "base_uri": "https://localhost:8080/"
        },
        "id": "ZafxebIVulsY",
        "outputId": "31012b88-935c-4fef-c40f-95648e128816"
      },
      "execution_count": null,
      "outputs": [
        {
          "output_type": "stream",
          "name": "stdout",
          "text": [
            "10 20 30\n",
            "10\n",
            "20\n",
            "30\n"
          ]
        }
      ]
    },
    {
      "cell_type": "code",
      "source": [],
      "metadata": {
        "id": "3t7WAaE1ulvo"
      },
      "execution_count": null,
      "outputs": []
    },
    {
      "cell_type": "code",
      "source": [
        "#assign single value to the multiple varible and print it?\n",
        "a = 10\n",
        "b = 10\n",
        "c = 10\n",
        "#print(a,b,c)\n",
        "\n",
        "a = b = c = 10\n",
        "# print(a,b,c)\n",
        "#print the output in seprate line?\n",
        "#we are using \"sep = \"\\n\"\" to print the output in n no. of lines\n",
        "# print(a)\n",
        "# print(b)\n",
        "# print(c)\n",
        "print(a,b,c, sep=\"\\n\")"
      ],
      "metadata": {
        "colab": {
          "base_uri": "https://localhost:8080/"
        },
        "id": "bk-DjTJZMnah",
        "outputId": "8ca34963-d865-463e-8263-66151e19cadb"
      },
      "execution_count": null,
      "outputs": [
        {
          "output_type": "stream",
          "name": "stdout",
          "text": [
            "10\n",
            "10\n",
            "10\n"
          ]
        }
      ]
    },
    {
      "cell_type": "markdown",
      "source": [
        "***INPUT***\n"
      ],
      "metadata": {
        "id": "hOtDxV3BxsNI"
      }
    },
    {
      "cell_type": "code",
      "source": [
        "#what is input()?\n",
        "#it will takes what ever information given by user\n",
        "#how to create input()?\n",
        "#to create input function we are using \"input()\" along with varible\n",
        "#how to access the input()?\n",
        "# with help of input varible we can access the input() values.\n",
        "\n",
        "#what is use of input()?\n",
        "#we can give multiple values to the single variable\n"
      ],
      "metadata": {
        "id": "QI3XtAQfulyI"
      },
      "execution_count": null,
      "outputs": []
    },
    {
      "cell_type": "code",
      "source": [
        "#we can give multiple user values to the single variable\n",
        "a = input()\n",
        "print(a)\n",
        "print(type(a))\n",
        "#what is default data type for input()?\n",
        "#string"
      ],
      "metadata": {
        "colab": {
          "base_uri": "https://localhost:8080/"
        },
        "id": "xMMZMIRkxAKL",
        "outputId": "b0f3efc3-b9dc-461c-9a84-cc7a9dcddc76"
      },
      "execution_count": null,
      "outputs": [
        {
          "output_type": "stream",
          "name": "stdout",
          "text": [
            "2+5J\n",
            "2+5J\n",
            "<class 'str'>\n"
          ]
        }
      ]
    },
    {
      "cell_type": "code",
      "source": [
        "#create  2 input() program and do all the arthamatic operation?\n",
        "a = float(input())\n",
        "b = float(input())\n",
        "print(a + b)\n",
        "print(a - b)\n",
        "print(a * b)\n",
        "print(a / b)\n",
        "print(a ** b)\n",
        "print(a // b)\n",
        "print(a % b)\n",
        "print(type(a % b))\n"
      ],
      "metadata": {
        "id": "vqTJJty0xJbK"
      },
      "execution_count": null,
      "outputs": []
    },
    {
      "cell_type": "code",
      "source": [
        "a  = input(\"enter the number :\" )\n",
        "print(a)"
      ],
      "metadata": {
        "colab": {
          "base_uri": "https://localhost:8080/"
        },
        "id": "ApG5lwUjxJm7",
        "outputId": "e0d0fe24-e40d-41f6-916c-80954cb675c7"
      },
      "execution_count": null,
      "outputs": [
        {
          "output_type": "stream",
          "name": "stdout",
          "text": [
            "enter the number :10\n",
            "10\n"
          ]
        }
      ]
    },
    {
      "cell_type": "markdown",
      "source": [
        "***string***"
      ],
      "metadata": {
        "id": "bogb4XGNwzj7"
      }
    },
    {
      "cell_type": "code",
      "source": [
        "#what is astring?\n",
        "#string collection group of character which written inside \" \"\n",
        "a = \"hello world!\"\n",
        "print(a)\n",
        "print(type(a))"
      ],
      "metadata": {
        "colab": {
          "base_uri": "https://localhost:8080/"
        },
        "id": "XjmchA46wzEq",
        "outputId": "9b469b72-ffdf-4187-c29d-3437b4afda53"
      },
      "execution_count": null,
      "outputs": [
        {
          "output_type": "stream",
          "name": "stdout",
          "text": [
            "hello world!\n",
            "<class 'str'>\n"
          ]
        }
      ]
    },
    {
      "cell_type": "code",
      "source": [
        "#write a multiple line of string?\n",
        "#\"\"\"  \"\"\" / ''' '''\n",
        "#note:- when you start with double quotes end with double qouts and vice versa\n",
        "a = \"\"\" Hi, hope your doing well,\n",
        "you been sellected a for x position\"\"\"\n",
        "print(a)\n"
      ],
      "metadata": {
        "colab": {
          "base_uri": "https://localhost:8080/"
        },
        "id": "C4-aZY6-w2QJ",
        "outputId": "0a48bf7f-f01e-40be-9fd0-677aa9282fea"
      },
      "execution_count": null,
      "outputs": [
        {
          "output_type": "stream",
          "name": "stdout",
          "text": [
            " Hi, hope your doing well,\n",
            "you been sellected a for x position\n"
          ]
        }
      ]
    },
    {
      "cell_type": "code",
      "source": [
        "#how can you write a multiple line of message by using input()?\n",
        "a = input(\"enter the message :\")\n",
        "print(a)"
      ],
      "metadata": {
        "colab": {
          "base_uri": "https://localhost:8080/"
        },
        "id": "acFdcWX6w2cJ",
        "outputId": "e47db444-60fc-4112-a193-f7e5a774f35c"
      },
      "execution_count": null,
      "outputs": [
        {
          "output_type": "stream",
          "name": "stdout",
          "text": [
            "enter the message :\"\"\" Hi, hope your doing well,  you been sellected a for x position\"\"\" \"\"\" Hi, hope your doing well,  you been sellected a for x position\"\"\"\n",
            "\"\"\" Hi, hope your doing well,  you been sellected a for x position\"\"\" \"\"\" Hi, hope your doing well,  you been sellected a for x position\"\"\"\n"
          ]
        }
      ]
    },
    {
      "cell_type": "code",
      "source": [
        "#note:string is collection multiple characters eacha and every charceter is accessble.\n",
        "#how can we accesss each element in a string?\n",
        "#indexing:- positional number of each and every element in a string\n",
        "#slicing operator:- --->[]\n",
        "#what is substring?\n",
        "#getting a part from original string is know as substring"
      ],
      "metadata": {
        "id": "wyg6oOzQw2lY"
      },
      "execution_count": null,
      "outputs": []
    },
    {
      "cell_type": "code",
      "source": [
        "#find the length of given string?\n",
        "a = \"hello world!\"\n",
        "#i am using \"len()\" to find klentght of character in string\n",
        "print(len(a))"
      ],
      "metadata": {
        "colab": {
          "base_uri": "https://localhost:8080/"
        },
        "id": "lnFe8krsw2sI",
        "outputId": "32f019e3-8e6d-4fa4-f4ed-c78b95767f2f"
      },
      "execution_count": null,
      "outputs": [
        {
          "output_type": "stream",
          "name": "stdout",
          "text": [
            "12\n"
          ]
        }
      ]
    },
    {
      "cell_type": "code",
      "source": [
        "a = \"hello world!\"\n",
        "#print \"h\" from hello world?\n",
        "#[start]\n",
        "print(a[0])\n",
        "#print \"w\" from hello word!?"
      ],
      "metadata": {
        "colab": {
          "base_uri": "https://localhost:8080/"
        },
        "id": "58sYHHfaw2yY",
        "outputId": "07e4c33c-8288-4bf7-a0e7-9a63ca481aa9"
      },
      "execution_count": null,
      "outputs": [
        {
          "output_type": "stream",
          "name": "stdout",
          "text": [
            "h\n"
          ]
        }
      ]
    },
    {
      "cell_type": "code",
      "source": [
        "#print the range of characters?\n",
        "#[start:end]\n",
        "#print \"hello\" from hello world!?\n",
        "print(a[0:5])\n",
        "print(a[6:11])\n",
        "#note:- if u want to display specific end cahracter you need add it with 1--> n+1"
      ],
      "metadata": {
        "colab": {
          "base_uri": "https://localhost:8080/"
        },
        "id": "A56TQve_w23L",
        "outputId": "cd3451b9-e22d-462e-b643-999fd2e46e3d"
      },
      "execution_count": null,
      "outputs": [
        {
          "output_type": "stream",
          "name": "stdout",
          "text": [
            "hello\n",
            "world\n"
          ]
        }
      ]
    },
    {
      "cell_type": "code",
      "source": [
        "#i want to print step wise elements from a string?\n",
        "#[start:end:step]\n",
        "print(a[0:12:3])\n"
      ],
      "metadata": {
        "colab": {
          "base_uri": "https://localhost:8080/"
        },
        "id": "1pWk8nlxw27o",
        "outputId": "b536fae4-ca03-4b5a-d08f-88e04d6fdcf9"
      },
      "execution_count": null,
      "outputs": [
        {
          "output_type": "stream",
          "name": "stdout",
          "text": [
            "hlwl\n"
          ]
        }
      ]
    },
    {
      "cell_type": "code",
      "source": [
        "#Negative indexing:- accesing the elements in string from reverse direction.\n",
        "#print last character of the string?\n",
        "a = \"hello world!\"\n",
        "# print(a[-1])\n",
        "#print world from hello world in -ve indexing?\n",
        "print(a[-7:-1])"
      ],
      "metadata": {
        "colab": {
          "base_uri": "https://localhost:8080/"
        },
        "id": "qN6MycNuw2_I",
        "outputId": "cbdbd77f-9a3c-4051-c455-1d4634667e13"
      },
      "execution_count": null,
      "outputs": [
        {
          "output_type": "stream",
          "name": "stdout",
          "text": [
            " world\n"
          ]
        }
      ]
    },
    {
      "cell_type": "code",
      "source": [
        "#but i want go in reverse direction\n",
        "#step\n",
        "a = \"hello world!\"\n",
        "print(a[-1:-7:-1])\n"
      ],
      "metadata": {
        "colab": {
          "base_uri": "https://localhost:8080/"
        },
        "id": "MZL0hqCHw3C5",
        "outputId": "977b6a37-f750-4bd1-c1e7-b1c3a466c41e"
      },
      "execution_count": null,
      "outputs": [
        {
          "output_type": "stream",
          "name": "stdout",
          "text": [
            "!dlrow\n"
          ]
        }
      ]
    },
    {
      "cell_type": "code",
      "source": [
        "#reverse a given string?\n",
        "# \"Univerese\"\n",
        "a = \"Univerese\"\n",
        "print(a[-1:-10:-1])\n",
        "#default methods\n",
        "#[start:end:step]\n",
        "print(a[::-1])"
      ],
      "metadata": {
        "colab": {
          "base_uri": "https://localhost:8080/"
        },
        "id": "cP_2H9Spw3GI",
        "outputId": "9a596f1a-d54c-484a-ca30-204c3ebffc87"
      },
      "execution_count": null,
      "outputs": [
        {
          "output_type": "stream",
          "name": "stdout",
          "text": [
            "eserevinU\n",
            "eserevinU\n"
          ]
        }
      ]
    },
    {
      "cell_type": "code",
      "source": [
        "#Tell weather a string is palindrome or not?\n",
        "b = 'mom'\n",
        "print(b)\n",
        "print(b[::-1])"
      ],
      "metadata": {
        "colab": {
          "base_uri": "https://localhost:8080/"
        },
        "id": "VitKmX9gw3Ju",
        "outputId": "24ce3100-d709-40c2-9001-e867148bbb08"
      },
      "execution_count": null,
      "outputs": [
        {
          "output_type": "stream",
          "name": "stdout",
          "text": [
            "mom\n",
            "mom\n"
          ]
        }
      ]
    },
    {
      "cell_type": "code",
      "source": [
        "c = \"hyderabad\"\n",
        "print(c)\n",
        "print(c[::-1])"
      ],
      "metadata": {
        "colab": {
          "base_uri": "https://localhost:8080/"
        },
        "id": "6NWZ--Pxw3M5",
        "outputId": "6f4da8c5-4360-4fab-875c-5614613283b1"
      },
      "execution_count": null,
      "outputs": [
        {
          "output_type": "stream",
          "name": "stdout",
          "text": [
            "hyderabad\n",
            "dabaredyh\n"
          ]
        }
      ]
    },
    {
      "cell_type": "code",
      "source": [
        "string = \"Hello, World!\"\n",
        "print(string[3:7])"
      ],
      "metadata": {
        "colab": {
          "base_uri": "https://localhost:8080/"
        },
        "id": "s-Vzmeraw3Q7",
        "outputId": "43deee13-9cea-4c3f-a4ee-25dd11c2295b"
      },
      "execution_count": null,
      "outputs": [
        {
          "output_type": "stream",
          "name": "stdout",
          "text": [
            "lo, \n"
          ]
        }
      ]
    },
    {
      "cell_type": "code",
      "source": [
        "string = \"Hello, World!\"\n",
        "#[start:end:step]\n",
        "print(string[::-2])"
      ],
      "metadata": {
        "colab": {
          "base_uri": "https://localhost:8080/"
        },
        "id": "B6O63k7yw3Tq",
        "outputId": "b1821895-2526-46a2-a86b-7d19696fa917"
      },
      "execution_count": null,
      "outputs": [
        {
          "output_type": "stream",
          "name": "stdout",
          "text": [
            "!lo olH\n"
          ]
        }
      ]
    },
    {
      "cell_type": "code",
      "source": [
        "#print the end element?\n",
        "print(string[-1])"
      ],
      "metadata": {
        "colab": {
          "base_uri": "https://localhost:8080/"
        },
        "id": "FGQdPEb-w3XY",
        "outputId": "6d608e18-fa72-4245-a6b7-125d63c53c9c"
      },
      "execution_count": null,
      "outputs": [
        {
          "output_type": "stream",
          "name": "stdout",
          "text": [
            "!\n"
          ]
        }
      ]
    },
    {
      "cell_type": "code",
      "source": [
        "#print hello by using -ve indexing?\n",
        "print(string[-8:-14:-1])"
      ],
      "metadata": {
        "colab": {
          "base_uri": "https://localhost:8080/"
        },
        "id": "vl8WZKHAw3ao",
        "outputId": "a826d209-c689-4a18-d5e3-5ecb6241ab8f"
      },
      "execution_count": null,
      "outputs": [
        {
          "output_type": "stream",
          "name": "stdout",
          "text": [
            ",olleH\n"
          ]
        }
      ]
    },
    {
      "cell_type": "markdown",
      "source": [
        "***string methods***"
      ],
      "metadata": {
        "id": "YdiIgpJjy0yp"
      }
    },
    {
      "cell_type": "code",
      "source": [
        "x = \"hello world!\"\n",
        "#what are all the methods i can apply on x = \" hello world!\"\n",
        "#we are using \"dir()\" to know what are all the methods apply on strin\n",
        "print(dir(x))"
      ],
      "metadata": {
        "colab": {
          "base_uri": "https://localhost:8080/"
        },
        "id": "DDJz3jEEw3eY",
        "outputId": "d27e1030-d78c-4944-cb40-9b21fa684366"
      },
      "execution_count": null,
      "outputs": [
        {
          "output_type": "stream",
          "name": "stdout",
          "text": [
            "['__add__', '__class__', '__contains__', '__delattr__', '__dir__', '__doc__', '__eq__', '__format__', '__ge__', '__getattribute__', '__getitem__', '__getnewargs__', '__gt__', '__hash__', '__init__', '__init_subclass__', '__iter__', '__le__', '__len__', '__lt__', '__mod__', '__mul__', '__ne__', '__new__', '__reduce__', '__reduce_ex__', '__repr__', '__rmod__', '__rmul__', '__setattr__', '__sizeof__', '__str__', '__subclasshook__', 'capitalize', 'casefold', 'center', 'count', 'encode', 'endswith', 'expandtabs', 'find', 'format', 'format_map', 'index', 'isalnum', 'isalpha', 'isascii', 'isdecimal', 'isdigit', 'isidentifier', 'islower', 'isnumeric', 'isprintable', 'isspace', 'istitle', 'isupper', 'join', 'ljust', 'lower', 'lstrip', 'maketrans', 'partition', 'removeprefix', 'removesuffix', 'replace', 'rfind', 'rindex', 'rjust', 'rpartition', 'rsplit', 'rstrip', 'split', 'splitlines', 'startswith', 'strip', 'swapcase', 'title', 'translate', 'upper', 'zfill']\n"
          ]
        }
      ]
    },
    {
      "cell_type": "code",
      "source": [
        "#1.capitaize()\n",
        "#2.upper()\n",
        "#3.lower()\n",
        "#4.replace() ***\n",
        "#5.trim()\n",
        "#6.ltrim()\n",
        "#7.rtrim()\n",
        "#8.title()\n",
        "#9.swapcase()\n",
        "#10.split()\n",
        "#how can you applly string methods?\n",
        "x = \"hello world!\"\n",
        "print(x.upper())\n",
        "print(x.lower())\n",
        "print(x.title())\n",
        "print(x.swapcase())"
      ],
      "metadata": {
        "colab": {
          "base_uri": "https://localhost:8080/"
        },
        "id": "xyEqB8fZw3hY",
        "outputId": "d932d536-9b33-41aa-aed0-0a573f370f8a"
      },
      "execution_count": null,
      "outputs": [
        {
          "output_type": "stream",
          "name": "stdout",
          "text": [
            "HELLO WORLD!\n",
            "hello world!\n",
            "Hello World!\n",
            "HELLO WORLD!\n"
          ]
        }
      ]
    },
    {
      "cell_type": "code",
      "source": [],
      "metadata": {
        "id": "l6p2iOxry_fy"
      },
      "execution_count": null,
      "outputs": []
    },
    {
      "cell_type": "markdown",
      "source": [
        "***string formatmethod***"
      ],
      "metadata": {
        "id": "C6FvQqu6y_2i"
      }
    },
    {
      "cell_type": "code",
      "source": [
        "x = \"10\"\n",
        "y = \"my age is \"\n",
        "#print \" my age is\"\n",
        "print(y+\" \" +x)"
      ],
      "metadata": {
        "colab": {
          "base_uri": "https://localhost:8080/"
        },
        "id": "r4NUCPwcw3lI",
        "outputId": "b37da381-a11e-4d4b-c0da-50de7db82fa3"
      },
      "execution_count": null,
      "outputs": [
        {
          "output_type": "stream",
          "name": "stdout",
          "text": [
            "my age is  10\n"
          ]
        }
      ]
    },
    {
      "cell_type": "code",
      "source": [
        "#what is string format method?\n",
        "#FAILLING the placeholder{} with given arguments\n",
        "#there are  format methods"
      ],
      "metadata": {
        "id": "6UbOjGoyw3oZ"
      },
      "execution_count": null,
      "outputs": []
    },
    {
      "cell_type": "code",
      "source": [
        "#1st method\n",
        "age = 40\n",
        "string = \"my age is {}\"\n",
        "print(string.format(age))"
      ],
      "metadata": {
        "colab": {
          "base_uri": "https://localhost:8080/"
        },
        "id": "xO2Ewm6rw3sL",
        "outputId": "1906904d-294f-4a48-850e-491d08067e75"
      },
      "execution_count": null,
      "outputs": [
        {
          "output_type": "stream",
          "name": "stdout",
          "text": [
            "my age is 40\n"
          ]
        }
      ]
    },
    {
      "cell_type": "code",
      "source": [
        "#2nd method\n",
        "age = 40\n",
        "string = \"my age is {}\".format(age)\n",
        "print(string)"
      ],
      "metadata": {
        "colab": {
          "base_uri": "https://localhost:8080/"
        },
        "id": "_m1PvK55w3vM",
        "outputId": "4113abee-217f-4c98-d09b-578d48c6df00"
      },
      "execution_count": null,
      "outputs": [
        {
          "output_type": "stream",
          "name": "stdout",
          "text": [
            "my age is 40\n"
          ]
        }
      ]
    },
    {
      "cell_type": "code",
      "source": [
        "#3rd f'format method' ***\n",
        "age = 40\n",
        "string = f\"my age is {age}\"\n",
        "print(string)\n"
      ],
      "metadata": {
        "colab": {
          "base_uri": "https://localhost:8080/"
        },
        "id": "YnjrUVQBw33I",
        "outputId": "a1aa667b-4e39-4926-eddf-f8e31601f6d2"
      },
      "execution_count": null,
      "outputs": [
        {
          "output_type": "stream",
          "name": "stdout",
          "text": [
            "my age is 40\n"
          ]
        }
      ]
    },
    {
      "cell_type": "code",
      "source": [
        "item = 'Product A'\n",
        "price = 99.9\n",
        "quantity = 20\n",
        "#expected output: your order for product a number of items quantity priced at 99.99 is confiremd\n",
        "text = \"your order for {} number of items {} priced at {} is confiremd\"\n",
        "\n",
        "print(text.format(item,quantity,price))\n",
        "\n"
      ],
      "metadata": {
        "colab": {
          "base_uri": "https://localhost:8080/"
        },
        "id": "3472S2J6w3_4",
        "outputId": "b8fc6f4b-82dd-4b8d-f087-4799563583e9"
      },
      "execution_count": null,
      "outputs": [
        {
          "output_type": "stream",
          "name": "stdout",
          "text": [
            "your order for Product A number of items 20 priced at 99.9 is confiremd\n"
          ]
        }
      ]
    },
    {
      "cell_type": "code",
      "source": [
        "item = 'Product A'\n",
        "price = 99.9\n",
        "quantity = 20\n",
        "#expected output: your order for product a number of items quantity priced at 99.99 is confiremd\n",
        "text = \"your order for {} number of items {} priced at {} is confiremd\".format(item,quantity,price)\n",
        "\n",
        "print(text)"
      ],
      "metadata": {
        "colab": {
          "base_uri": "https://localhost:8080/"
        },
        "id": "28TAtGgww4Eo",
        "outputId": "85ab0a34-d197-4436-f3e3-e445e1088350"
      },
      "execution_count": null,
      "outputs": [
        {
          "output_type": "stream",
          "name": "stdout",
          "text": [
            "your order for Product A number of items 20 priced at 99.9 is confiremd\n"
          ]
        }
      ]
    },
    {
      "cell_type": "code",
      "source": [
        "item = 'Product A'\n",
        "price = 99.9\n",
        "quantity = 20\n",
        "#expected output: your order for product a number of items quantity priced at 99.99 is confiremd\n",
        "text = f\"your order for {item} number of items {quantity} priced at {price*quantity} is confiremd\"\n",
        "\n",
        "print(text)"
      ],
      "metadata": {
        "colab": {
          "base_uri": "https://localhost:8080/"
        },
        "id": "lW54XrQAw4I6",
        "outputId": "a3cf3098-4b30-4799-ed64-f9303e2bf3f6"
      },
      "execution_count": null,
      "outputs": [
        {
          "output_type": "stream",
          "name": "stdout",
          "text": [
            "your order for Product A number of items 20 priced at 1998.0 is confiremd\n"
          ]
        }
      ]
    },
    {
      "cell_type": "markdown",
      "source": [
        "***conditional statements( control structures)\n",
        "***"
      ],
      "metadata": {
        "id": "paTtIxUHzcGu"
      }
    },
    {
      "cell_type": "code",
      "source": [
        "#what are all comparision operators do we have in python?\n",
        "#1.equals to----> ==\n",
        "#2.not equals---> !=\n",
        "#3.greater than---> >\n",
        "#4.less than ---> <\n",
        "#5.greter than ---> >=\n",
        "#6.less than ----> <="
      ],
      "metadata": {
        "id": "Y2cHzLeRw4Mp"
      },
      "execution_count": null,
      "outputs": []
    },
    {
      "cell_type": "code",
      "source": [
        "print( 10 == 10)\n",
        "print( 10 != 10)\n",
        "print( 10 > 10)\n",
        "print( 10 < 10)\n",
        "print( 10 >= 10)\n",
        "print( 10 <= 10)"
      ],
      "metadata": {
        "colab": {
          "base_uri": "https://localhost:8080/"
        },
        "id": "9ylfq1nqw4QI",
        "outputId": "78eb2bd1-1f9e-406d-985d-005a6e02e464"
      },
      "execution_count": null,
      "outputs": [
        {
          "output_type": "stream",
          "name": "stdout",
          "text": [
            "True\n",
            "False\n",
            "False\n",
            "False\n",
            "True\n",
            "True\n"
          ]
        }
      ]
    },
    {
      "cell_type": "code",
      "source": [
        "print(\"Hello\" == \"hello\")"
      ],
      "metadata": {
        "colab": {
          "base_uri": "https://localhost:8080/"
        },
        "id": "gtL9NdM6w4UY",
        "outputId": "f98bded1-6213-450d-d1f7-54743d22ab6c"
      },
      "execution_count": null,
      "outputs": [
        {
          "output_type": "stream",
          "name": "stdout",
          "text": [
            "False\n"
          ]
        }
      ]
    },
    {
      "cell_type": "code",
      "source": [
        "#what are all conditional statements we are having?\n",
        "#if,elif, else"
      ],
      "metadata": {
        "id": "0ZtTJw0Xw4X4"
      },
      "execution_count": null,
      "outputs": []
    },
    {
      "cell_type": "code",
      "source": [],
      "metadata": {
        "id": "5ZLXBmX-w4bL"
      },
      "execution_count": null,
      "outputs": []
    },
    {
      "cell_type": "code",
      "source": [
        "marks = 34\n",
        "passing_marks = 35\n",
        "total_marks = 100\n",
        "if marks >= passing_marks:\n",
        "  print(\"congratulation\")\n",
        "  print(f'you have passed with {marks} marks')\n",
        "else:\n",
        "  print(\"better luck next time\")\n",
        "  print(f\"you have got {marks} marks\")\n"
      ],
      "metadata": {
        "colab": {
          "base_uri": "https://localhost:8080/"
        },
        "id": "GNqO6tAuul1Z",
        "outputId": "f2cdeb18-87fb-42b4-cbb6-7528dc65dcb2"
      },
      "execution_count": null,
      "outputs": [
        {
          "output_type": "stream",
          "name": "stdout",
          "text": [
            "better luck next time\n",
            "you have got 34 marks\n"
          ]
        }
      ]
    },
    {
      "cell_type": "code",
      "source": [
        "#print a number if it os +ve print +ve and if it is _ve pribt \"-ve\" if it is zero print \"neutral\"\n",
        "a = int(input())\n",
        "if a > 0:\n",
        "  print(\"+ve\")\n",
        "elif a == 0:\n",
        "  print(\"neutral\")\n",
        "else:\n",
        "  print(\"-ve\")"
      ],
      "metadata": {
        "colab": {
          "base_uri": "https://localhost:8080/"
        },
        "id": "P9Gm71UAul4r",
        "outputId": "4fa2caad-e7dd-4236-915e-e713f6e93835"
      },
      "execution_count": null,
      "outputs": [
        {
          "output_type": "stream",
          "name": "stdout",
          "text": [
            "-0\n",
            "neutral\n"
          ]
        }
      ]
    },
    {
      "cell_type": "code",
      "source": [
        "#Logical Operators:- and, or, not\n",
        "#and:- all the condition present true\n",
        "#or:- if any one condition satisfied\n",
        "#not:- reverse out put"
      ],
      "metadata": {
        "id": "UtPDCINPz4kO"
      },
      "execution_count": null,
      "outputs": []
    },
    {
      "cell_type": "code",
      "source": [
        "print(10 == 10)\n",
        "print(not(10 == 10))"
      ],
      "metadata": {
        "colab": {
          "base_uri": "https://localhost:8080/"
        },
        "id": "lKXqFjsuz4se",
        "outputId": "d5890948-3d41-4c30-d3c4-f1725073973a"
      },
      "execution_count": null,
      "outputs": [
        {
          "output_type": "stream",
          "name": "stdout",
          "text": [
            "True\n",
            "False\n"
          ]
        }
      ]
    },
    {
      "cell_type": "code",
      "source": [
        "a = 10\n",
        "b = 56\n",
        "c = 455\n",
        "#check the condition that s is lesser than b and b is lesser than c and b is greater than a\n",
        "if a < b and b < c and b > a:\n",
        "  print(\"yes\")\n",
        "else:\n",
        "  print(\"no\")"
      ],
      "metadata": {
        "colab": {
          "base_uri": "https://localhost:8080/"
        },
        "id": "ufGn0HBOz4xA",
        "outputId": "b8a1d4b3-7b84-45c7-c84f-d8717d2110ee"
      },
      "execution_count": null,
      "outputs": [
        {
          "output_type": "stream",
          "name": "stdout",
          "text": [
            "yes\n"
          ]
        }
      ]
    },
    {
      "cell_type": "code",
      "source": [
        "a = 10\n",
        "b = 56\n",
        "c = 455\n",
        "#check the condition that s is lesser than b and b is lesser than c and b is greater than a\n",
        "if a > b or b < c or b > a:\n",
        "  print(\"yes\")\n",
        "else:\n",
        "  print(\"no\")"
      ],
      "metadata": {
        "colab": {
          "base_uri": "https://localhost:8080/"
        },
        "id": "iF-kSIf1z40e",
        "outputId": "77956f81-d60e-4239-d40b-0581b0bcf987"
      },
      "execution_count": null,
      "outputs": [
        {
          "output_type": "stream",
          "name": "stdout",
          "text": [
            "yes\n"
          ]
        }
      ]
    },
    {
      "cell_type": "code",
      "source": [
        "#Nested condition:\n",
        "#when we have to use nested condition.\n",
        "a = int(input())\n",
        "#  i want display  all th conditions satified\n",
        "if a > 10:\n",
        "  print(\"a is greater than 10\")\n",
        "  if a > 20:\n",
        "    print(\"a is greater than 20\")\n",
        "    if a > 30:\n",
        "      print(\"a is greater than 30\")\n",
        "      if a > 50:\n",
        "        print(\"a is greater than 50\")\n",
        "      else:\n",
        "        print(\"a is lesser than 50\")\n",
        "    else:\n",
        "      print(\"a is lesser tha 30\")\n",
        "  else:\n",
        "    print(\" ais  lesser tha 20\")\n",
        "else:\n",
        "  print(\"a is less than 10\")\n"
      ],
      "metadata": {
        "colab": {
          "base_uri": "https://localhost:8080/"
        },
        "id": "qX9Fp9Ozz43-",
        "outputId": "acaa2b6b-8f9b-461b-ebae-a9b231bdb210"
      },
      "execution_count": null,
      "outputs": [
        {
          "output_type": "stream",
          "name": "stdout",
          "text": [
            "20\n",
            "a is greater than 10\n",
            " ais  lesser tha 20\n"
          ]
        }
      ]
    },
    {
      "cell_type": "code",
      "source": [
        "#pass:- is a null place holder when you execute it nothing will happens\n",
        "a = int(input(\" enter your number: \"))\n",
        "if a > 0:\n",
        "  print(\"+ve\")\n",
        "\n",
        "elif a == 0:\n",
        "  pass\n",
        "\n",
        "else:\n",
        "  print(\"-ve\")"
      ],
      "metadata": {
        "colab": {
          "base_uri": "https://localhost:8080/"
        },
        "id": "7XHpXToVz47t",
        "outputId": "57bc789a-3896-4718-8c70-c7e67afe55e5"
      },
      "execution_count": null,
      "outputs": [
        {
          "output_type": "stream",
          "name": "stdout",
          "text": [
            " enter your number: 8\n",
            "+ve\n"
          ]
        }
      ]
    },
    {
      "cell_type": "code",
      "source": [
        "#check what grade we can give to the students based upon their marks?\n",
        "#total marks = 100\n",
        "#if the student get 90 to 100 --> A+\n",
        "#if the student get 80 to 90 --> A\n",
        "#if the student get 70 to 80 --> B+\n",
        "#if the student get 60 to 70 --> B\n",
        "#if the student get 50 to 60 --> c\n",
        "#if the student get 40 to 50 --> D\n",
        "#Below it display \"better luck next time.\""
      ],
      "metadata": {
        "id": "YqBRAEBez4-9"
      },
      "execution_count": null,
      "outputs": []
    },
    {
      "cell_type": "markdown",
      "source": [
        "***Loops***"
      ],
      "metadata": {
        "id": "R0kjUgrR0X8e"
      }
    },
    {
      "cell_type": "code",
      "source": [
        "#why we use the loops\n",
        "#we are using this loops to avoid \"wet code\" and to encourage \"dry code.\"\n",
        "#1. WET Code -->mean youare repeating the code.\n",
        "\n",
        "\"\"\" w--> write\n",
        "    e--> everything\n",
        "    t---> twice \"\"\"\n",
        "\n",
        "#DRY Code  --> not repeating the same code\n",
        "\"\"\" D --> Don't\n",
        "    R ---> repeat\n",
        "    y---> yourself\"\"\"\n",
        "#how may types of loops in py prog lang?\n",
        "# 1. while\n",
        "#2. for loop"
      ],
      "metadata": {
        "id": "P6RmnTDbz5C_"
      },
      "execution_count": null,
      "outputs": []
    },
    {
      "cell_type": "code",
      "source": [
        "#While loop:- it works / runs a set of instruction as long as the conditions true.\n",
        "target = 5\n",
        "intial = 0\n",
        "while intial < target:\n",
        "  print(\"go down\")\n",
        "  print(\"go up\")\n",
        "  print(\"=====rep is completed=====\")\n",
        "  intial = intial + 2"
      ],
      "metadata": {
        "colab": {
          "base_uri": "https://localhost:8080/"
        },
        "id": "cD6X_jQyz5F-",
        "outputId": "b06c0d8f-745e-476e-fb4a-47328f15ebc7"
      },
      "execution_count": null,
      "outputs": [
        {
          "output_type": "stream",
          "name": "stdout",
          "text": [
            "go down\n",
            "go up\n",
            "=====rep is completed=====\n",
            "go down\n",
            "go up\n",
            "=====rep is completed=====\n",
            "go down\n",
            "go up\n",
            "=====rep is completed=====\n"
          ]
        }
      ]
    },
    {
      "cell_type": "code",
      "source": [
        "#write a program to run a lift to reach 4th floor?\n",
        "D = 4\n",
        "i = 0\n",
        "while i < D:\n",
        "  print(\"reach destination\")\n",
        "  print(\"==================\")\n",
        "  i = i + 1"
      ],
      "metadata": {
        "colab": {
          "base_uri": "https://localhost:8080/"
        },
        "id": "Jcrxkl4yz5Jg",
        "outputId": "7b14e9c6-b699-492e-91fc-cc8edab9271d"
      },
      "execution_count": null,
      "outputs": [
        {
          "output_type": "stream",
          "name": "stdout",
          "text": [
            "reach destination\n",
            "==================\n",
            "reach destination\n",
            "==================\n",
            "reach destination\n",
            "==================\n",
            "reach destination\n",
            "==================\n"
          ]
        }
      ]
    },
    {
      "cell_type": "code",
      "source": [
        "#let say i = 10 while the i value is less than 10 print the values of i upto 10?\n",
        "i = 0\n",
        "while i < 10:\n",
        "  print(i)\n",
        "  i = i + 1   # i += 1\n"
      ],
      "metadata": {
        "colab": {
          "base_uri": "https://localhost:8080/"
        },
        "id": "PLjKvgBez5Mw",
        "outputId": "036ff127-91c7-4899-fb46-a00d8d4415de"
      },
      "execution_count": null,
      "outputs": [
        {
          "output_type": "stream",
          "name": "stdout",
          "text": [
            "0\n",
            "1\n",
            "2\n",
            "3\n",
            "4\n",
            "5\n",
            "6\n",
            "7\n",
            "8\n",
            "9\n"
          ]
        }
      ]
    },
    {
      "cell_type": "code",
      "source": [
        "d = 10\n",
        "s = 0\n",
        "while s <= d:\n",
        "  print(s)\n",
        "  s = s + 1"
      ],
      "metadata": {
        "colab": {
          "base_uri": "https://localhost:8080/"
        },
        "id": "yS2QvrFLz5P_",
        "outputId": "0b14ec3e-c9a2-40d7-a2b1-1ee3186c4da4"
      },
      "execution_count": null,
      "outputs": [
        {
          "output_type": "stream",
          "name": "stdout",
          "text": [
            "0\n",
            "1\n",
            "2\n",
            "3\n",
            "4\n",
            "5\n",
            "6\n",
            "7\n",
            "8\n",
            "9\n",
            "10\n"
          ]
        }
      ]
    },
    {
      "cell_type": "code",
      "source": [
        "#print the muliples of 2 upto 10  for that write a program?\n",
        "i = int(input())\n",
        "target = int(input())\n",
        "while i <= target:\n",
        "  print(i)\n",
        "  i = i * 2"
      ],
      "metadata": {
        "id": "gbB9el07z5TW"
      },
      "execution_count": null,
      "outputs": []
    },
    {
      "cell_type": "code",
      "source": [
        "#write a program weater the given string is palindrome or not?\n",
        "a = input()\n",
        "a_rev = a[::-1]\n",
        "print(f'rev of string {a_rev}')\n",
        "if a.upper() == a_rev.upper():\n",
        "  print(f'{a} is palidrome')\n",
        "else:\n",
        "  print(f'{a} is not palindrome')\n",
        "\n",
        "\n"
      ],
      "metadata": {
        "id": "vxNLTG92z5Xd"
      },
      "execution_count": null,
      "outputs": []
    },
    {
      "cell_type": "code",
      "source": [
        "print(\"malayalam\"== \"Malayalam\")"
      ],
      "metadata": {
        "id": "G14pYp6yz5du"
      },
      "execution_count": null,
      "outputs": []
    },
    {
      "cell_type": "code",
      "source": [
        "a =\"HydeRAbad\"\n",
        "print(a.lower())"
      ],
      "metadata": {
        "id": "v3cSJu1hz5hf"
      },
      "execution_count": null,
      "outputs": []
    },
    {
      "cell_type": "code",
      "source": [
        "#write a program to print multiples of 2 in the given list?\n",
        "#list = [1,2,3,4,5,6,7,8,9,10]  #--->[2,4,6,8,10,12,14,16,18,20]\n",
        "list = [1,2,3,4,5,6,7,8,9,10]\n",
        "print(list * 2)"
      ],
      "metadata": {
        "id": "8o2DsE2Bz5kt"
      },
      "execution_count": null,
      "outputs": []
    },
    {
      "cell_type": "code",
      "source": [],
      "metadata": {
        "id": "hgAOBhDQz5oh"
      },
      "execution_count": null,
      "outputs": []
    },
    {
      "cell_type": "markdown",
      "source": [
        "***for loop***"
      ],
      "metadata": {
        "id": "TjeJapk91ch2"
      }
    },
    {
      "cell_type": "code",
      "source": [
        "#it runs a set of instruction overa collections(list, tuple, set, dictionary)\n",
        "list = [1,2,3,4,5,6,7,8,9,10]\n",
        "new_list = []\n",
        "for i in list:\n",
        "  print(i *2)"
      ],
      "metadata": {
        "id": "UdyfQCaCz5ru"
      },
      "execution_count": null,
      "outputs": []
    },
    {
      "cell_type": "code",
      "source": [
        "#print \"hello world\" in separate line?\n",
        "x = \"hello wordl\"\n",
        "for i in x:\n",
        "  print(i)"
      ],
      "metadata": {
        "id": "RXEwB1y8z5vV"
      },
      "execution_count": null,
      "outputs": []
    },
    {
      "cell_type": "code",
      "source": [
        "#break & continue\n",
        "#breaks :- stops the loops irrespective of entire.\n",
        "#continue :- skip the current iteration\n",
        "number = [1,2,3,4,5,6]\n",
        "for i in number:\n",
        "  if i < 3:\n",
        "    break\n",
        "  print(i)"
      ],
      "metadata": {
        "id": "jcSJUq-fz6JR"
      },
      "execution_count": null,
      "outputs": []
    },
    {
      "cell_type": "code",
      "source": [
        "number = [1,2,3,4,5,6]\n",
        "for i in number:\n",
        "  if i > 3:\n",
        "    continue\n",
        "  print(i)"
      ],
      "metadata": {
        "id": "D2GDNPt1z6M9"
      },
      "execution_count": null,
      "outputs": []
    },
    {
      "cell_type": "code",
      "source": [
        "#a =[10,20,30,40,50,60,70,80,90]\n",
        "#skip 20,40,70\n",
        "#o/p--: 10 30 50 60 80 90\n",
        "a =[10,20,30,40,50,60,70,80,90]\n",
        "for i in a:\n",
        "  if i == 20 or i == 40 or i == 70:\n",
        "    continue\n",
        "  print(i)\n"
      ],
      "metadata": {
        "id": "FFT8ThLJz6QO"
      },
      "execution_count": null,
      "outputs": []
    },
    {
      "cell_type": "code",
      "source": [
        "#using range function in a loop\n",
        "#range(start)\n",
        "#print number from 1 to 10?\n",
        "#note: range function is used only in foor loop.\n",
        "for i in range(11):\n",
        "  print(i)\n",
        "\n",
        "#use input() and print range of number as per user input?\n"
      ],
      "metadata": {
        "id": "zlkcBE9az6Tf"
      },
      "execution_count": null,
      "outputs": []
    },
    {
      "cell_type": "code",
      "source": [
        "#if i want the number start from 2 and till user given input\n",
        "#range(start,end)\n",
        "a = int(input())\n",
        "for i in range(2,a+1):\n",
        "  print(i)"
      ],
      "metadata": {
        "id": "nIE2etYMz6XN"
      },
      "execution_count": null,
      "outputs": []
    },
    {
      "cell_type": "code",
      "source": [
        "#i want to print range of 100 number but i want print all the even number upto 100\n",
        "#range(start,end,step)\n",
        "for i in range(0,101,2):\n",
        "  print(i)\n"
      ],
      "metadata": {
        "id": "rdMSurZzz6eg"
      },
      "execution_count": null,
      "outputs": []
    },
    {
      "cell_type": "code",
      "source": [
        "a = int(input())\n",
        "for i in range(0,a,3):\n",
        "  print(i)"
      ],
      "metadata": {
        "id": "n79eu-5Cz6hv"
      },
      "execution_count": null,
      "outputs": []
    },
    {
      "cell_type": "code",
      "source": [
        "#write the program to print range odd number from user inuput()?\n",
        "a = int(input())\n",
        "for i in range(a):\n",
        "  if i % 2 != 0:\n",
        "    print(i)\n"
      ],
      "metadata": {
        "id": "CWAPN2YFz6lg",
        "colab": {
          "base_uri": "https://localhost:8080/"
        },
        "outputId": "6b7ff0ac-b31b-4ee2-f0b3-f6ecc7f866f7"
      },
      "execution_count": null,
      "outputs": [
        {
          "output_type": "stream",
          "name": "stdout",
          "text": [
            "9\n",
            "1\n",
            "3\n",
            "5\n",
            "7\n"
          ]
        }
      ]
    },
    {
      "cell_type": "code",
      "source": [],
      "metadata": {
        "id": "xdiUlqOcz6ox"
      },
      "execution_count": null,
      "outputs": []
    },
    {
      "cell_type": "markdown",
      "source": [
        "***collections***"
      ],
      "metadata": {
        "id": "jfbMkQs02F26"
      }
    },
    {
      "cell_type": "code",
      "source": [
        "#1.List\n",
        "#2.Tuple\n",
        "#3.Set\n",
        "#4.Dictionary"
      ],
      "metadata": {
        "id": "CqEpaUU3z6se"
      },
      "execution_count": null,
      "outputs": []
    },
    {
      "cell_type": "code",
      "source": [
        "#what is a list?\n",
        "#List:-created with []\n",
        "#--ordered, allows duplicates, mutable(chnagable)\n",
        "l1 = ['apple',\"banana\",'mango','strawberry','Blueberry']\n",
        "print(l1)\n",
        "print(type(l1))\n",
        "#what can be stored in a list?\n",
        "l2 = ['True','False','True','False']\n",
        "print(l2)\n",
        "print(type(l2))\n",
        "l3 =[1,2,3,4,5,6,7,8,9,10]\n",
        "print(l3)\n",
        "print(type(l3))"
      ],
      "metadata": {
        "id": "4JkvwGPNz6vu",
        "colab": {
          "base_uri": "https://localhost:8080/"
        },
        "outputId": "3e3c9694-01e3-4760-8362-1bcfebac237c"
      },
      "execution_count": null,
      "outputs": [
        {
          "output_type": "stream",
          "name": "stdout",
          "text": [
            "['apple', 'banana', 'mango', 'strawberry', 'Blueberry']\n",
            "<class 'list'>\n",
            "['True', 'False', 'True', 'False']\n",
            "<class 'list'>\n",
            "[1, 2, 3, 4, 5, 6, 7, 8, 9, 10]\n",
            "<class 'list'>\n"
          ]
        }
      ]
    },
    {
      "cell_type": "code",
      "source": [
        "#print above l1,l2,l3 data types in singles with sep function\n",
        "print(type(l1),type(l2),type(l3),sep = \"\\n\")"
      ],
      "metadata": {
        "id": "8M_Waynhz6zv",
        "colab": {
          "base_uri": "https://localhost:8080/"
        },
        "outputId": "eb8ac94d-a2c6-4b95-f9b4-7d32adaa5a2d"
      },
      "execution_count": null,
      "outputs": [
        {
          "output_type": "stream",
          "name": "stdout",
          "text": [
            "<class 'list'>\n",
            "<class 'list'>\n",
            "<class 'list'>\n"
          ]
        }
      ]
    },
    {
      "cell_type": "code",
      "source": [
        "#list allows duplicats means prints duplicate values also\n",
        "l1 = ['apple',\"banana\",'mango','strawberry','Blueberry','apples','banana','grapes']\n",
        "print(l1)"
      ],
      "metadata": {
        "id": "mmOolpZ_z63x",
        "colab": {
          "base_uri": "https://localhost:8080/"
        },
        "outputId": "4fa2b727-31c4-4314-9366-17c479df3a83"
      },
      "execution_count": null,
      "outputs": [
        {
          "output_type": "stream",
          "name": "stdout",
          "text": [
            "['apple', 'banana', 'mango', 'strawberry', 'Blueberry', 'apples', 'banana', 'grapes']\n"
          ]
        }
      ]
    },
    {
      "cell_type": "code",
      "source": [
        "#list are ordered.\n",
        "#what is ordered?\n",
        "#means we can access each and every element in list by using indexing position numbers\n",
        "l1 = ['apple',\"banana\",'mango','strawberry','Blueberry','apples','banana','grapes']\n",
        "print(l1[0])\n",
        "print(l1[3:6])\n",
        "print(l1[::2])\n",
        "print(l1[::-1])"
      ],
      "metadata": {
        "id": "1Ru71UeAz67S",
        "colab": {
          "base_uri": "https://localhost:8080/"
        },
        "outputId": "1711380b-0c25-4c0e-8d02-95aa59e60801"
      },
      "execution_count": null,
      "outputs": [
        {
          "output_type": "stream",
          "name": "stdout",
          "text": [
            "apple\n",
            "['strawberry', 'Blueberry', 'apples']\n",
            "['apple', 'mango', 'Blueberry', 'banana']\n",
            "['grapes', 'banana', 'apples', 'Blueberry', 'strawberry', 'mango', 'banana', 'apple']\n"
          ]
        }
      ]
    },
    {
      "cell_type": "code",
      "source": [
        "#How you can say a collection is mutable?\n",
        "\"\"\"1. swapping #A--->B and B---> A\n",
        "2. Adding --> adding new items to the list\n",
        "3. Removing --> removing items from the list\"\"\"\n"
      ],
      "metadata": {
        "id": "nBNDvfIIz6-_"
      },
      "execution_count": null,
      "outputs": []
    },
    {
      "cell_type": "code",
      "source": [
        "#swapping\n",
        "l1 = ['apple',\"banana\",'mango','strawberry','Blueberry','apples','banana','grapes']\n",
        "l1[0]='orange'\n",
        "print(l1)"
      ],
      "metadata": {
        "id": "9ky7aibDz7Gt",
        "colab": {
          "base_uri": "https://localhost:8080/"
        },
        "outputId": "e6d416ef-5e3e-4c54-e555-33e96b30297a"
      },
      "execution_count": null,
      "outputs": [
        {
          "output_type": "stream",
          "name": "stdout",
          "text": [
            "['orange', 'banana', 'mango', 'strawberry', 'Blueberry', 'apples', 'banana', 'grapes']\n"
          ]
        }
      ]
    },
    {
      "cell_type": "code",
      "source": [
        "l1['apple'] = 'kiwi'\n",
        "print(l1)"
      ],
      "metadata": {
        "id": "RinZ8E2Ez7Jd",
        "colab": {
          "base_uri": "https://localhost:8080/",
          "height": 162
        },
        "outputId": "3846a618-59f2-4b59-d29e-72fd0a2628d8"
      },
      "execution_count": null,
      "outputs": [
        {
          "output_type": "error",
          "ename": "TypeError",
          "evalue": "list indices must be integers or slices, not str",
          "traceback": [
            "\u001b[0;31m---------------------------------------------------------------------------\u001b[0m",
            "\u001b[0;31mTypeError\u001b[0m                                 Traceback (most recent call last)",
            "\u001b[0;32m<ipython-input-8-6bdef83998c1>\u001b[0m in \u001b[0;36m<cell line: 1>\u001b[0;34m()\u001b[0m\n\u001b[0;32m----> 1\u001b[0;31m \u001b[0ml1\u001b[0m\u001b[0;34m[\u001b[0m\u001b[0;34m'apple'\u001b[0m\u001b[0;34m]\u001b[0m \u001b[0;34m=\u001b[0m \u001b[0;34m'kiwi'\u001b[0m\u001b[0;34m\u001b[0m\u001b[0;34m\u001b[0m\u001b[0m\n\u001b[0m\u001b[1;32m      2\u001b[0m \u001b[0mprint\u001b[0m\u001b[0;34m(\u001b[0m\u001b[0ml1\u001b[0m\u001b[0;34m)\u001b[0m\u001b[0;34m\u001b[0m\u001b[0;34m\u001b[0m\u001b[0m\n",
            "\u001b[0;31mTypeError\u001b[0m: list indices must be integers or slices, not str"
          ]
        }
      ]
    },
    {
      "cell_type": "code",
      "source": [
        "#swap the elememts  fron index 1 to 4 ?"
      ],
      "metadata": {
        "id": "WEqW5l2Jz7Ng"
      },
      "execution_count": null,
      "outputs": []
    },
    {
      "cell_type": "code",
      "source": [
        "l1[1:4] = ['blackberry','water,elon','kiwi']\n",
        "print(l1)"
      ],
      "metadata": {
        "id": "JFW5fMzJz7RS",
        "colab": {
          "base_uri": "https://localhost:8080/"
        },
        "outputId": "3967bb5f-ae69-4790-9bb2-94c90478be74"
      },
      "execution_count": null,
      "outputs": [
        {
          "output_type": "stream",
          "name": "stdout",
          "text": [
            "['orange', 'blackberry', 'water,elon', 'kiwi', 'Blueberry', 'apples', 'banana', 'grapes']\n"
          ]
        }
      ]
    },
    {
      "cell_type": "code",
      "source": [
        "#Append :- adding the extra element/ data at end of the list\n",
        "l1 = ['apple',\"banana\",'mango','strawberry','Blueberry','grapes']\n",
        "l1.append('orange')\n",
        "print(l1)\n",
        "#what is the default index position when you use append method?\n",
        "#end position\n",
        "#if i want to add more than 2 elements with append is it possible?\n",
        "#NO  --> append can take only one argument\n",
        "# l1.append('orange', 'kiwi', 'watermelon')\n",
        "# print(l1)"
      ],
      "metadata": {
        "id": "qfgGY8-Oz7U-",
        "colab": {
          "base_uri": "https://localhost:8080/"
        },
        "outputId": "f569cf9d-43d0-4341-95bf-35d83f92409d"
      },
      "execution_count": null,
      "outputs": [
        {
          "output_type": "stream",
          "name": "stdout",
          "text": [
            "['apple', 'banana', 'mango', 'strawberry', 'Blueberry', 'grapes', 'orange']\n"
          ]
        }
      ]
    },
    {
      "cell_type": "code",
      "source": [
        "#insert method:- inserting data at certain position -->(insert(index number, \"item name\"))\n",
        "l1 = ['apple',\"banana\",'mango','strawberry','Blueberry','grapes']\n",
        "l1.insert(2,'orange')\n",
        "print(l1)\n"
      ],
      "metadata": {
        "id": "MJmDorVPz7Ye",
        "colab": {
          "base_uri": "https://localhost:8080/"
        },
        "outputId": "da03141e-b047-42fc-ab3d-c5526a03637e"
      },
      "execution_count": null,
      "outputs": [
        {
          "output_type": "stream",
          "name": "stdout",
          "text": [
            "['apple', 'banana', 'orange', 'mango', 'strawberry', 'Blueberry', 'grapes']\n"
          ]
        }
      ]
    },
    {
      "cell_type": "code",
      "source": [
        "#extend method:- add the items from the other collection\n",
        "l2=[1,2,3,4,5,6,7,8,9,10]\n",
        "# l1.extend(l2)\n",
        "l1.append(l2)\n",
        "print(l1)\n"
      ],
      "metadata": {
        "id": "JSCWkzuVz7b-",
        "colab": {
          "base_uri": "https://localhost:8080/"
        },
        "outputId": "f4fec00a-081b-461f-f457-397c54c28332"
      },
      "execution_count": null,
      "outputs": [
        {
          "output_type": "stream",
          "name": "stdout",
          "text": [
            "['apple', 'banana', 'orange', 'mango', 'strawberry', 'Blueberry', 'grapes', [1, 2, 3, 4, 5, 6, 7, 8, 9, 10]]\n"
          ]
        }
      ]
    },
    {
      "cell_type": "code",
      "source": [
        "#i want to insert another collection at particular indexc?\n",
        "l3 = [\"python\",\"java\",\"c++\"]\n",
        "l1 = ['apple',\"banana\",'mango','strawberry','Blueberry','grapes']\n",
        "l1.insert(2,l3)\n",
        "print(l1)"
      ],
      "metadata": {
        "id": "IKvfWEavz7fN",
        "colab": {
          "base_uri": "https://localhost:8080/"
        },
        "outputId": "475a48ba-3d0e-4d90-8cdb-35ecfb7639cc"
      },
      "execution_count": null,
      "outputs": [
        {
          "output_type": "stream",
          "name": "stdout",
          "text": [
            "['apple', 'banana', ['python', 'java', 'c++'], 'mango', 'strawberry', 'Blueberry', 'grapes']\n"
          ]
        }
      ]
    },
    {
      "cell_type": "code",
      "source": [
        "l1 = ['apple',\"banana\",'mango','strawberry','Blueberry','grapes','@',\"&\"]"
      ],
      "metadata": {
        "id": "f8vMeKuYz7ih"
      },
      "execution_count": null,
      "outputs": []
    },
    {
      "cell_type": "code",
      "source": [
        "#pop:--->pop(index) --> you should have to ive only index\n",
        "\n",
        "\n",
        "l1.pop(2)\n",
        "print(l1)"
      ],
      "metadata": {
        "id": "gVrl8ba0z7me",
        "colab": {
          "base_uri": "https://localhost:8080/"
        },
        "outputId": "8d5b2d88-288b-4097-8b33-39cf91ed5035"
      },
      "execution_count": null,
      "outputs": [
        {
          "output_type": "stream",
          "name": "stdout",
          "text": [
            "['apple', 'banana', 'strawberry', 'Blueberry', 'grapes', '@', '&']\n"
          ]
        }
      ]
    },
    {
      "cell_type": "code",
      "source": [
        "#3rd. delete -->del collection_name[index_pos_number]\n",
        "del l1[2]\n",
        "print(l1)"
      ],
      "metadata": {
        "id": "kxLFJjA2z7tn",
        "colab": {
          "base_uri": "https://localhost:8080/"
        },
        "outputId": "d7a249ac-c9f8-4e69-a757-7c6b9b6112e9"
      },
      "execution_count": null,
      "outputs": [
        {
          "output_type": "stream",
          "name": "stdout",
          "text": [
            "['apple', 'banana', 'Blueberry', 'grapes', '@', '&']\n"
          ]
        }
      ]
    },
    {
      "cell_type": "code",
      "source": [
        "#4th clear\n",
        "l1 = ['apple',\"banana\",'mango','strawberry','Blueberry','grapes','@',\"&\"]\n",
        "l1.clear()\n",
        "print(l1)"
      ],
      "metadata": {
        "id": "kkm_-bm2ul_I",
        "colab": {
          "base_uri": "https://localhost:8080/"
        },
        "outputId": "45518e29-a5b9-4f7c-a93b-6b5de2e059a4"
      },
      "execution_count": null,
      "outputs": [
        {
          "output_type": "stream",
          "name": "stdout",
          "text": [
            "[]\n"
          ]
        }
      ]
    },
    {
      "cell_type": "code",
      "source": [
        "l1 = ['apple',\"banana\",'mango','strawberry','Blueberry','grapes','@',\"&\"]\n",
        "del l1\n",
        "print(l1)\n"
      ],
      "metadata": {
        "id": "ZopczUxi3MH7",
        "colab": {
          "base_uri": "https://localhost:8080/",
          "height": 180
        },
        "outputId": "10ab668c-fc73-4207-d770-6777115fe9ea"
      },
      "execution_count": null,
      "outputs": [
        {
          "output_type": "error",
          "ename": "NameError",
          "evalue": "name 'l1' is not defined",
          "traceback": [
            "\u001b[0;31m---------------------------------------------------------------------------\u001b[0m",
            "\u001b[0;31mNameError\u001b[0m                                 Traceback (most recent call last)",
            "\u001b[0;32m<ipython-input-18-0f589039a875>\u001b[0m in \u001b[0;36m<cell line: 3>\u001b[0;34m()\u001b[0m\n\u001b[1;32m      1\u001b[0m \u001b[0ml1\u001b[0m \u001b[0;34m=\u001b[0m \u001b[0;34m[\u001b[0m\u001b[0;34m'apple'\u001b[0m\u001b[0;34m,\u001b[0m\u001b[0;34m\"banana\"\u001b[0m\u001b[0;34m,\u001b[0m\u001b[0;34m'mango'\u001b[0m\u001b[0;34m,\u001b[0m\u001b[0;34m'strawberry'\u001b[0m\u001b[0;34m,\u001b[0m\u001b[0;34m'Blueberry'\u001b[0m\u001b[0;34m,\u001b[0m\u001b[0;34m'grapes'\u001b[0m\u001b[0;34m,\u001b[0m\u001b[0;34m'@'\u001b[0m\u001b[0;34m,\u001b[0m\u001b[0;34m\"&\"\u001b[0m\u001b[0;34m]\u001b[0m\u001b[0;34m\u001b[0m\u001b[0;34m\u001b[0m\u001b[0m\n\u001b[1;32m      2\u001b[0m \u001b[0;32mdel\u001b[0m \u001b[0ml1\u001b[0m\u001b[0;34m\u001b[0m\u001b[0;34m\u001b[0m\u001b[0m\n\u001b[0;32m----> 3\u001b[0;31m \u001b[0mprint\u001b[0m\u001b[0;34m(\u001b[0m\u001b[0ml1\u001b[0m\u001b[0;34m)\u001b[0m\u001b[0;34m\u001b[0m\u001b[0;34m\u001b[0m\u001b[0m\n\u001b[0m",
            "\u001b[0;31mNameError\u001b[0m: name 'l1' is not defined"
          ]
        }
      ]
    },
    {
      "cell_type": "code",
      "source": [
        "#tuple--> ()\n",
        "#ordered, immutable, allows duplicates\n",
        "t1 = ('apple','banana','mango','strawberry','Blueberry','grapes')\n",
        "print(t1)\n",
        "print(type(t1))"
      ],
      "metadata": {
        "id": "QwSt-Hhh3MN3",
        "colab": {
          "base_uri": "https://localhost:8080/"
        },
        "outputId": "7890e4cf-7741-4e9c-90a3-e5372b948b73"
      },
      "execution_count": null,
      "outputs": [
        {
          "output_type": "stream",
          "name": "stdout",
          "text": [
            "('apple', 'banana', 'mango', 'strawberry', 'Blueberry', 'grapes')\n",
            "<class 'tuple'>\n"
          ]
        }
      ]
    },
    {
      "cell_type": "code",
      "source": [
        "#allows duplicates\n",
        "t1 = ('apple','banana','mango','strawberry','Blueberry','grapes','apple','banana','grapes')\n",
        "print(t1)"
      ],
      "metadata": {
        "id": "mmErRdUD3MTL",
        "colab": {
          "base_uri": "https://localhost:8080/"
        },
        "outputId": "9ac1a269-f1ac-42bc-8870-fd3d38ec91a9"
      },
      "execution_count": null,
      "outputs": [
        {
          "output_type": "stream",
          "name": "stdout",
          "text": [
            "('apple', 'banana', 'mango', 'strawberry', 'Blueberry', 'grapes', 'apple', 'banana', 'grapes')\n"
          ]
        }
      ]
    },
    {
      "cell_type": "code",
      "source": [
        "#tuple are ordered\n",
        "t1 = ('apple','banana','mango','strawberry','Blueberry','grapes')\n",
        "print(t1[3])\n",
        "#print 'banana','mango','strawberry','Blueberry' from above collection?\n",
        "print(t1[1:5])\n",
        "#print even position elements of above collection?\n",
        "print(t1[::2])\n",
        "#print revere of above collection\n",
        "print(t1[::-1])\n"
      ],
      "metadata": {
        "id": "JUPe_o9k3MXL",
        "colab": {
          "base_uri": "https://localhost:8080/"
        },
        "outputId": "a41dba18-9d58-4afa-e2e6-04858e279663"
      },
      "execution_count": null,
      "outputs": [
        {
          "output_type": "stream",
          "name": "stdout",
          "text": [
            "strawberry\n",
            "('banana', 'mango', 'strawberry', 'Blueberry')\n",
            "('apple', 'mango', 'Blueberry')\n",
            "('grapes', 'Blueberry', 'strawberry', 'mango', 'banana', 'apple')\n"
          ]
        }
      ]
    },
    {
      "cell_type": "code",
      "source": [
        "#tuple is mmutable\n",
        "t1 = ('apple','banana','mango','strawberry','Blueberry','grapes')\n",
        "l = list(t1)"
      ],
      "metadata": {
        "id": "I8ZG9gaG3Mbn"
      },
      "execution_count": null,
      "outputs": []
    },
    {
      "cell_type": "code",
      "source": [
        "#How can you add new items in the given tuple? take an example and do it?\n",
        "#what is diff b\\w list and tuple?\n",
        "#when i should use list and when i should use tuple?"
      ],
      "metadata": {
        "id": "nlSUo7Oc3Mg9"
      },
      "execution_count": null,
      "outputs": []
    },
    {
      "cell_type": "code",
      "source": [
        "#set-->{}\n",
        "#unordered, it wont allow duplicates, immutable\n",
        "s1 = {'apple','banana','mango','strawberry','Blueberry','grapes','apple','banana','grapes' }\n",
        "print(s1)\n",
        "print(type(s1))"
      ],
      "metadata": {
        "id": "huuPfvgt3MlG",
        "colab": {
          "base_uri": "https://localhost:8080/"
        },
        "outputId": "6637345d-12c6-4749-9e0b-b2b850bf895e"
      },
      "execution_count": null,
      "outputs": [
        {
          "output_type": "stream",
          "name": "stdout",
          "text": [
            "{'strawberry', 'Blueberry', 'apple', 'grapes', 'banana', 'mango'}\n",
            "<class 'set'>\n"
          ]
        }
      ]
    },
    {
      "cell_type": "code",
      "source": [
        "#sets are unoredered\n",
        "print(s1[0])"
      ],
      "metadata": {
        "id": "gxv78I-U3Mop"
      },
      "execution_count": null,
      "outputs": []
    },
    {
      "cell_type": "code",
      "source": [
        "#why sets are immutable?\n",
        "\"\"\"so in sets we can can add new elements/items and we can remove the items but we\n",
        " cannot swap(replace) items because sets desont have specific index position\"\"\""
      ],
      "metadata": {
        "id": "-BP-hTy73MxI"
      },
      "execution_count": null,
      "outputs": []
    },
    {
      "cell_type": "code",
      "source": [
        "#add items in to set\n",
        "#1.add(item name)\n",
        "s1 ={\"dog\",\"horse\",\"hen\",\"elephant\"}\n",
        "s1.add(\"cow\")\n",
        "print(s1)"
      ],
      "metadata": {
        "id": "AqddBqAj3M1J",
        "colab": {
          "base_uri": "https://localhost:8080/"
        },
        "outputId": "78192d28-2ebf-4c25-93e3-37c003ac8b41"
      },
      "execution_count": null,
      "outputs": [
        {
          "output_type": "stream",
          "name": "stdout",
          "text": [
            "{'elephant', 'dog', 'cow', 'hen', 'horse'}\n"
          ]
        }
      ]
    },
    {
      "cell_type": "code",
      "source": [
        "#update method:- we can update other collection values in the taken set\\\\\n",
        "l = [1,2,3,4,5,6]\n",
        "s1.update(l)\n",
        "print(s1)\n"
      ],
      "metadata": {
        "id": "KfBnTcG53M5V",
        "colab": {
          "base_uri": "https://localhost:8080/"
        },
        "outputId": "5e3c2d25-5402-4ab5-d2be-0a0da0a5fbe5"
      },
      "execution_count": null,
      "outputs": [
        {
          "output_type": "stream",
          "name": "stdout",
          "text": [
            "{1, 2, 3, 4, 5, 6, 'elephant', 'dog', 'cow', 'hen', 'horse'}\n"
          ]
        }
      ]
    },
    {
      "cell_type": "code",
      "source": [
        "#1. remove\n",
        "s1.remove(\"elephant\")\n",
        "print(s1)"
      ],
      "metadata": {
        "id": "aJ5yxhRO3M9Y",
        "colab": {
          "base_uri": "https://localhost:8080/"
        },
        "outputId": "ba3f167b-02c0-4ac8-e526-7ecbe80d7743"
      },
      "execution_count": null,
      "outputs": [
        {
          "output_type": "stream",
          "name": "stdout",
          "text": [
            "{1, 2, 3, 4, 5, 6, 'dog', 'cow', 'hen', 'horse'}\n"
          ]
        }
      ]
    },
    {
      "cell_type": "code",
      "source": [
        "#discard method:-\n",
        "s1.discard(\"hen\")\n",
        "print(s1)"
      ],
      "metadata": {
        "id": "O93G-xlp3NAs",
        "colab": {
          "base_uri": "https://localhost:8080/"
        },
        "outputId": "807ba2da-ba53-486c-e145-0e7939339903"
      },
      "execution_count": null,
      "outputs": [
        {
          "output_type": "stream",
          "name": "stdout",
          "text": [
            "{1, 2, 3, 4, 5, 6, 'dog', 'cow', 'horse'}\n"
          ]
        }
      ]
    },
    {
      "cell_type": "code",
      "source": [
        "#pop method\n",
        "s1.pop()\n",
        "print(s1)"
      ],
      "metadata": {
        "id": "WfdLDd-q34nj",
        "colab": {
          "base_uri": "https://localhost:8080/"
        },
        "outputId": "073f17dc-730e-4549-dceb-fd86a3898967"
      },
      "execution_count": null,
      "outputs": [
        {
          "output_type": "stream",
          "name": "stdout",
          "text": [
            "{2, 3, 4, 5, 6, 'dog', 'cow', 'horse'}\n"
          ]
        }
      ]
    },
    {
      "cell_type": "code",
      "source": [
        "#del\n",
        "del s1\n",
        "print(s1)"
      ],
      "metadata": {
        "id": "gfS0-SZ63-Rf"
      },
      "execution_count": null,
      "outputs": []
    },
    {
      "cell_type": "code",
      "source": [
        "#clear\n",
        "s2 = {1,2,3,4,5,6,7,8,9,10}\n",
        "s2.clear()\n",
        "print(s2)"
      ],
      "metadata": {
        "id": "PF9W_XTh3-XO",
        "colab": {
          "base_uri": "https://localhost:8080/"
        },
        "outputId": "10f916fa-eb31-41cf-f81f-cbf5cbc598f6"
      },
      "execution_count": null,
      "outputs": [
        {
          "output_type": "stream",
          "name": "stdout",
          "text": [
            "set()\n"
          ]
        }
      ]
    },
    {
      "cell_type": "code",
      "source": [
        "#what is the main reason we use sets?\n",
        "s1 = {'a','b','c','d'}\n",
        "s2 = {'d','e', 'f','g'}\n",
        "s4 = s1.intersection(s2)\n",
        "print(s4)"
      ],
      "metadata": {
        "id": "lC5U0K7-3-a-",
        "colab": {
          "base_uri": "https://localhost:8080/"
        },
        "outputId": "c483042e-137e-4918-9898-7bb4c7b15628"
      },
      "execution_count": null,
      "outputs": [
        {
          "output_type": "stream",
          "name": "stdout",
          "text": [
            "{'d'}\n"
          ]
        }
      ]
    },
    {
      "cell_type": "code",
      "source": [
        "s3 = s1.union(s2)\n",
        "print(s3)"
      ],
      "metadata": {
        "id": "PD8E7eBU3-h8",
        "colab": {
          "base_uri": "https://localhost:8080/"
        },
        "outputId": "1d1f48b7-bf39-40b8-f24a-f5c3a473179b"
      },
      "execution_count": null,
      "outputs": [
        {
          "output_type": "stream",
          "name": "stdout",
          "text": [
            "{'a', 'f', 'd', 'b', 'e', 'c', 'g'}\n"
          ]
        }
      ]
    },
    {
      "cell_type": "code",
      "source": [
        "#write a program to print multiples of 2 in the given list?\n",
        "list = [1,2,3,4,5,6,7,8,9,10]\n",
        "new_list = []\n",
        "for i in list:\n",
        "  new_list.append(i * 2)\n",
        "  print(new_list)"
      ],
      "metadata": {
        "id": "J9OaDw_u3-ls",
        "colab": {
          "base_uri": "https://localhost:8080/"
        },
        "outputId": "757aea13-7308-416f-ccea-b9762343cd41"
      },
      "execution_count": null,
      "outputs": [
        {
          "output_type": "stream",
          "name": "stdout",
          "text": [
            "[2]\n",
            "[2, 4]\n",
            "[2, 4, 6]\n",
            "[2, 4, 6, 8]\n",
            "[2, 4, 6, 8, 10]\n",
            "[2, 4, 6, 8, 10, 12]\n",
            "[2, 4, 6, 8, 10, 12, 14]\n",
            "[2, 4, 6, 8, 10, 12, 14, 16]\n",
            "[2, 4, 6, 8, 10, 12, 14, 16, 18]\n",
            "[2, 4, 6, 8, 10, 12, 14, 16, 18, 20]\n"
          ]
        }
      ]
    },
    {
      "cell_type": "code",
      "source": [
        "*** heterogeneous data and homogeneous data ***\n"
      ],
      "metadata": {
        "id": "XXDUnVyD3-p8"
      },
      "execution_count": null,
      "outputs": []
    },
    {
      "cell_type": "code",
      "source": [],
      "metadata": {
        "id": "hykejDtT3-s_"
      },
      "execution_count": null,
      "outputs": []
    },
    {
      "cell_type": "markdown",
      "source": [
        "*** heterogeneous data and homogeneous data ***\n"
      ],
      "metadata": {
        "id": "HTpOj24bcH-F"
      }
    },
    {
      "cell_type": "code",
      "source": [],
      "metadata": {
        "id": "qOIRDzw5cLBR"
      },
      "execution_count": null,
      "outputs": []
    },
    {
      "cell_type": "markdown",
      "source": [
        "*** dictionary***"
      ],
      "metadata": {
        "id": "Y0bSIgw4cP7N"
      }
    },
    {
      "cell_type": "code",
      "source": [
        "#where we can store our items in the dictionary?\n",
        "#A) key value pairs\n",
        "#dictionary--> {}\n",
        "#--> unorderd, it won't allow dupliactes, mutable\n"
      ],
      "metadata": {
        "id": "xO1UtKI8cVNE"
      },
      "execution_count": null,
      "outputs": []
    },
    {
      "cell_type": "code",
      "source": [
        "d1 = {\n",
        "    \"name\" : \"python\",\n",
        "    \"last_name\": \"programming\",\n",
        "    \"age\":29,\n",
        "    \"module\": True #-->boolean\n",
        "}\n",
        "print(d1)\n",
        "print(type(d1)) #dict"
      ],
      "metadata": {
        "colab": {
          "base_uri": "https://localhost:8080/"
        },
        "id": "uLsZ_5qDczKY",
        "outputId": "d8590578-5e47-4633-eb9a-bcd3f97d2fdf"
      },
      "execution_count": null,
      "outputs": [
        {
          "output_type": "stream",
          "name": "stdout",
          "text": [
            "{'name': 'python', 'last_name': 'programming', 'age': 29, 'module': True}\n",
            "<class 'dict'>\n"
          ]
        }
      ]
    },
    {
      "cell_type": "code",
      "source": [
        "# how can we print keys and values separetly?\n",
        "print(d1.keys())\n",
        "print(d1.values())"
      ],
      "metadata": {
        "colab": {
          "base_uri": "https://localhost:8080/"
        },
        "id": "lKJWypbbeUWr",
        "outputId": "1dffb5b4-d4b0-48ab-b97b-c52dd0fd2b9b"
      },
      "execution_count": null,
      "outputs": [
        {
          "output_type": "stream",
          "name": "stdout",
          "text": [
            "dict_keys(['name', 'last_name', 'age', 'module'])\n",
            "dict_values(['python', 'programming', 29, True])\n"
          ]
        }
      ]
    },
    {
      "cell_type": "code",
      "source": [
        "#print each item()\n",
        "print(d1.items())"
      ],
      "metadata": {
        "colab": {
          "base_uri": "https://localhost:8080/"
        },
        "id": "Ym3TfeUwefaO",
        "outputId": "1cd9cd93-3119-4b3a-dc5c-81ec78059965"
      },
      "execution_count": null,
      "outputs": [
        {
          "output_type": "stream",
          "name": "stdout",
          "text": [
            "dict_items([('name', 'python'), ('last_name', 'programming'), ('age', 29), ('module', True)])\n"
          ]
        }
      ]
    },
    {
      "cell_type": "code",
      "source": [
        "#python is an interpreted language?#it will execute the code line by line\n",
        "#yes\n",
        "d1 = {\n",
        "    \"name\" : \"python\",\n",
        "    \"last_name\": \"programming\",\n",
        "    \"age\":29,\n",
        "    \"module\": True #-->boolean\n",
        "    \"name\": \"java\",\n",
        "    \"age\": 30,\n",
        "}\n",
        "print(d1)\n",
        "print(type(d1)) #dict\n",
        "    \"module\": True #-->boolean\n",
        "}\n",
        "print(d1)\n",
        "print(type(d1)) #dict\n"
      ],
      "metadata": {
        "id": "Li2Bx2RaeDED"
      },
      "execution_count": null,
      "outputs": []
    },
    {
      "cell_type": "code",
      "source": [
        "#find the length of dict1?\n",
        "print(len(d1))\n"
      ],
      "metadata": {
        "colab": {
          "base_uri": "https://localhost:8080/"
        },
        "id": "_HwVpW6tfryT",
        "outputId": "09c90901-d7b9-4a74-d94d-c70a87ea7161"
      },
      "execution_count": null,
      "outputs": [
        {
          "output_type": "stream",
          "name": "stdout",
          "text": [
            "4\n"
          ]
        }
      ]
    },
    {
      "cell_type": "code",
      "source": [
        "#dict is an unorderd?\n",
        "print(d1[0])  #-->error\n",
        "#NOTE: dict is unorderd"
      ],
      "metadata": {
        "id": "0d2gB7F2f6ji"
      },
      "execution_count": null,
      "outputs": []
    },
    {
      "cell_type": "code",
      "source": [
        "#how can we access elements from the dictionary?\n",
        "#by using keys we can access the elements from dictionary\n",
        "\n",
        "print(d1['name'])\n",
        "print(d1['age'])"
      ],
      "metadata": {
        "colab": {
          "base_uri": "https://localhost:8080/"
        },
        "id": "0-q52tHPf62z",
        "outputId": "910a1cfe-5721-49de-fc3f-08a437c72ba8"
      },
      "execution_count": null,
      "outputs": [
        {
          "output_type": "stream",
          "name": "stdout",
          "text": [
            "python\n",
            "29\n"
          ]
        }
      ]
    },
    {
      "cell_type": "code",
      "source": [
        "print(d1['name'])\n",
        "print(d1.get('name'))"
      ],
      "metadata": {
        "colab": {
          "base_uri": "https://localhost:8080/"
        },
        "id": "jUEPPvUcf67i",
        "outputId": "8ce0a5aa-9758-48a2-d1b8-723a0b8e41c2"
      },
      "execution_count": null,
      "outputs": [
        {
          "output_type": "stream",
          "name": "stdout",
          "text": [
            "python\n",
            "python\n"
          ]
        }
      ]
    },
    {
      "cell_type": "code",
      "source": [
        "#how can we change values to the particular key?\n",
        "d1['name'] = 'c++'\n",
        "print(d1)"
      ],
      "metadata": {
        "colab": {
          "base_uri": "https://localhost:8080/"
        },
        "id": "XfY4s94Sf6-7",
        "outputId": "92f8e905-eaf0-440c-9035-085cada29ff9"
      },
      "execution_count": null,
      "outputs": [
        {
          "output_type": "stream",
          "name": "stdout",
          "text": [
            "{'name': 'c++', 'last_name': 'programming', 'age': 29, 'module': True}\n"
          ]
        }
      ]
    },
    {
      "cell_type": "code",
      "source": [
        "#update is also similar method we are using to update/replace values in dict\n",
        "d1.update({'module' : 'yes'})\n",
        "print(d1)"
      ],
      "metadata": {
        "colab": {
          "base_uri": "https://localhost:8080/"
        },
        "id": "E9pHa5sihab9",
        "outputId": "0e37e77d-316b-4716-a1d1-051da98b461d"
      },
      "execution_count": null,
      "outputs": [
        {
          "output_type": "stream",
          "name": "stdout",
          "text": [
            "{'name': 'c++', 'last_name': 'programming', 'age': 29, 'module': 'yes'}\n"
          ]
        }
      ]
    },
    {
      "cell_type": "code",
      "source": [
        "#how can i add new elements in to dictionary\n",
        "d1['typed'] = 'dynamically typed'\n",
        "print(d1)\n",
        "\n",
        "#NOTE:-if the input keys are present the value get updated if it not present new key: value pairs added"
      ],
      "metadata": {
        "colab": {
          "base_uri": "https://localhost:8080/"
        },
        "id": "oRKgqp8KiAwG",
        "outputId": "eae77a28-6fc4-4a4a-aa63-fc46f517d67f"
      },
      "execution_count": null,
      "outputs": [
        {
          "output_type": "stream",
          "name": "stdout",
          "text": [
            "{'name': 'c++', 'last_name': 'programming', 'age': 29, 'module': 'yes', 'typed': 'dynamically typed'}\n"
          ]
        }
      ]
    },
    {
      "cell_type": "code",
      "source": [
        "#how can we remove the items in dict?\n",
        "#pop(key)\n",
        "d1.pop('typed2')\n",
        "print(d1)"
      ],
      "metadata": {
        "id": "YogyuT6vjsp5"
      },
      "execution_count": null,
      "outputs": []
    },
    {
      "cell_type": "code",
      "source": [
        "#print c++ from d1\n",
        "print(d1['name'])\n",
        "print(d1['name'][1])\n"
      ],
      "metadata": {
        "colab": {
          "base_uri": "https://localhost:8080/"
        },
        "id": "nJ4A3zHLk5kj",
        "outputId": "2d0731d4-ebdf-4639-d0df-087644141fc1"
      },
      "execution_count": null,
      "outputs": [
        {
          "output_type": "stream",
          "name": "stdout",
          "text": [
            "c++\n",
            "+\n"
          ]
        }
      ]
    },
    {
      "cell_type": "code",
      "source": [
        "d1['name'][1] = 'c'\n",
        "print(d1)"
      ],
      "metadata": {
        "id": "k6poKYtilUYp"
      },
      "execution_count": null,
      "outputs": []
    },
    {
      "cell_type": "code",
      "source": [
        "#add new items in to the list in name?\n",
        "d1['name'].append('R')\n",
        "print(d1)"
      ],
      "metadata": {
        "id": "7nZhUhe-lnkc"
      },
      "execution_count": null,
      "outputs": []
    },
    {
      "cell_type": "code",
      "source": [
        "#print only R from name of d1?\n",
        "print(d1['name'][3])\n"
      ],
      "metadata": {
        "id": "IXS6W9UAl3n8"
      },
      "execution_count": null,
      "outputs": []
    },
    {
      "cell_type": "code",
      "source": [
        "# delete java from the name?\n",
        "del d1['name'][2]\n",
        "print(d1)"
      ],
      "metadata": {
        "id": "ryh_NhmUmBAV"
      },
      "execution_count": null,
      "outputs": []
    },
    {
      "cell_type": "code",
      "source": [
        "#clear entire dictionary\n",
        "d1.clear()\n",
        "print(d1)"
      ],
      "metadata": {
        "id": "1kQwZHY5mb1R"
      },
      "execution_count": null,
      "outputs": []
    },
    {
      "cell_type": "code",
      "source": [
        "#working with loops in dictionary\n",
        "d3= {'name': ['python','c','java'],\n",
        "     'last_name' : 'programming',\n",
        "     'age': 29,\n",
        "     'module': True}\n",
        "  #print keys()\n",
        "for i in d3:\n",
        "  print(i)"
      ],
      "metadata": {
        "id": "k2EXelLLmpYL"
      },
      "execution_count": null,
      "outputs": []
    },
    {
      "cell_type": "code",
      "source": [
        "#by using for loop print key:value pair in separate lines\n",
        "#for i,j in d3.items():\n",
        " # print(i,j)\n",
        "# i want o/p in dict format?\n",
        "for x in d3.keys():\n",
        "  print(f'{x}': {d3[x]}')  ##screening question"
      ],
      "metadata": {
        "id": "uUTUHp-doDx9"
      },
      "execution_count": null,
      "outputs": []
    },
    {
      "cell_type": "code",
      "source": [
        "#Dict-->{}-->unoreder, key:value pairs,won't allow duplicates,where values are changable and keys are unchangable\n",
        "#list-->[]-->ordered,allows the duplicates,mutable\n",
        "#tuple-->()-->ordered,allows the duplicates,immutable\n",
        "#set-->{}-->unordered,it won't allow duplicates,immutable"
      ],
      "metadata": {
        "id": "OAkiAYv2oEF9"
      },
      "execution_count": null,
      "outputs": []
    },
    {
      "cell_type": "code",
      "source": [],
      "metadata": {
        "id": "HctHuQ28qA0Y"
      },
      "execution_count": null,
      "outputs": []
    },
    {
      "cell_type": "markdown",
      "source": [
        "***Escape characters***"
      ],
      "metadata": {
        "id": "sW4xixYasLZH"
      }
    },
    {
      "cell_type": "code",
      "source": [
        "#escape characters are used to print illegal characters.\n",
        "print('dwyane \\\"The Rock\\\" Kohnson')\n",
        "#NOTE--> give the backward slash before illegal characters\n"
      ],
      "metadata": {
        "colab": {
          "base_uri": "https://localhost:8080/"
        },
        "id": "3Ey9SUCCsSX9",
        "outputId": "46548211-ad9e-4851-df33-44623f584f0c"
      },
      "execution_count": null,
      "outputs": [
        {
          "output_type": "stream",
          "name": "stdout",
          "text": [
            "dwyane \"The Rock\" Kohnson\n"
          ]
        }
      ]
    },
    {
      "cell_type": "markdown",
      "source": [],
      "metadata": {
        "id": "d6kB1NrsqCc4"
      }
    },
    {
      "cell_type": "code",
      "source": [],
      "metadata": {
        "id": "xd6l4KwZmpo8"
      },
      "execution_count": null,
      "outputs": []
    },
    {
      "cell_type": "markdown",
      "source": [
        "***FUNCTIONS***"
      ],
      "metadata": {
        "id": "3R908aTd93F_"
      }
    },
    {
      "cell_type": "code",
      "source": [],
      "metadata": {
        "id": "BBs51R4H97CY"
      },
      "execution_count": null,
      "outputs": []
    }
  ]
}