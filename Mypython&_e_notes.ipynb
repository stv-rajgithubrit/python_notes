{
  "nbformat": 4,
  "nbformat_minor": 0,
  "metadata": {
    "colab": {
      "provenance": [],
      "authorship_tag": "ABX9TyNsfocrZbWDI8wBIYbH6qZO",
      "include_colab_link": true
    },
    "kernelspec": {
      "name": "python3",
      "display_name": "Python 3"
    },
    "language_info": {
      "name": "python"
    }
  },
  "cells": [
    {
      "cell_type": "markdown",
      "metadata": {
        "id": "view-in-github",
        "colab_type": "text"
      },
      "source": [
        "<a href=\"https://colab.research.google.com/github/stv-rajgithubrit/python_notes/blob/main/Mypython%26_e_notes.ipynb\" target=\"_parent\"><img src=\"https://colab.research.google.com/assets/colab-badge.svg\" alt=\"Open In Colab\"/></a>"
      ]
    },
    {
      "cell_type": "code",
      "execution_count": null,
      "metadata": {
        "id": "H4dr5lKo0f0O"
      },
      "outputs": [],
      "source": [
        "#-->single line commenting\n",
        "#1. What is Python?\n",
        "'''A. High-level Programming Language\n",
        "B. General purpose\n",
        "c. Object oriented programmin language\n",
        "D. Interpreted language\n",
        "e. dynamically typed'''"
      ]
    },
    {
      "cell_type": "code",
      "source": [
        "#why we require comminting?\n",
        "#better understanding of the code"
      ],
      "metadata": {
        "id": "BhWdE4SX0tvG"
      },
      "execution_count": null,
      "outputs": []
    },
    {
      "cell_type": "code",
      "source": [
        "#what is an IDE?\n",
        "#integreted development environment-->code executer, compiler, write our code and display our code\n",
        "# google colbnote book, jupyter notebook, pycharm...etc"
      ],
      "metadata": {
        "id": "pSew9X1T0wyV"
      },
      "execution_count": null,
      "outputs": []
    },
    {
      "cell_type": "code",
      "source": [
        "#Numerical data types\n",
        "#3 types of numerical data types\n",
        "#1. integer:- A whole number without decimal points\n",
        "#print():-to display our ouput\n",
        "print(10)\n",
        "#how can you find the data type?\n",
        "#type():- used for to know the data type\n",
        "print(type(10))"
      ],
      "metadata": {
        "colab": {
          "base_uri": "https://localhost:8080/"
        },
        "id": "2M3Ws_zl0w31",
        "outputId": "9f2fb76d-db50-4afb-f6ef-385261fe484a"
      },
      "execution_count": null,
      "outputs": [
        {
          "output_type": "stream",
          "name": "stdout",
          "text": [
            "10\n",
            "<class 'int'>\n"
          ]
        }
      ]
    },
    {
      "cell_type": "code",
      "source": [
        "#float:- a whole number either -ve or +ve with decimal points.\n",
        "print(10.5)\n",
        "print(type(10.5))\n",
        "print(2.35)\n",
        "print(type(2.35))\n",
        "print(1.0)\n",
        "print(type(-1.0))"
      ],
      "metadata": {
        "colab": {
          "base_uri": "https://localhost:8080/"
        },
        "id": "Z5c0AnUS0w71",
        "outputId": "ed09b396-4e19-40ad-eea6-d51138cbb42c"
      },
      "execution_count": null,
      "outputs": [
        {
          "output_type": "stream",
          "name": "stdout",
          "text": [
            "10.5\n",
            "<class 'float'>\n",
            "2.35\n",
            "<class 'float'>\n",
            "1.0\n",
            "<class 'float'>\n"
          ]
        }
      ]
    },
    {
      "cell_type": "code",
      "source": [
        "#complex numbers:- A real number with its imaginary part\n",
        "print(2+4j)\n",
        "print(type(2+4j))\n",
        "#what is \"j'?\n",
        "#j --> iota-->root -1"
      ],
      "metadata": {
        "colab": {
          "base_uri": "https://localhost:8080/"
        },
        "id": "kXuICPNn0xCk",
        "outputId": "d8eaee8d-aa73-42a0-b996-b9b2e63cadf5"
      },
      "execution_count": null,
      "outputs": [
        {
          "output_type": "stream",
          "name": "stdout",
          "text": [
            "(2+4j)\n",
            "<class 'complex'>\n"
          ]
        }
      ]
    },
    {
      "cell_type": "markdown",
      "source": [
        "***Arthamatic operators***"
      ],
      "metadata": {
        "id": "qbXDP2Td1GOA"
      }
    },
    {
      "cell_type": "code",
      "source": [
        "#what are all arthamatic operators?\n",
        "#Addition:--->\"+\"\n",
        "print(10 + 5)\n",
        "print(type(10 + 5))\n",
        "#substraction---> \"-\"\n",
        "print(10 - 5)\n",
        "#multiplication----> \"*\"\n",
        "print(10 * 5)\n",
        "#division----> \"/\" (forward slash)\n",
        "print(10 / 5)\n",
        "print(type(10 / 5))"
      ],
      "metadata": {
        "colab": {
          "base_uri": "https://localhost:8080/"
        },
        "id": "mNhdvy9P0xGT",
        "outputId": "b4b8ac42-028b-4ece-c360-6c3b2d3602bc"
      },
      "execution_count": null,
      "outputs": [
        {
          "output_type": "stream",
          "name": "stdout",
          "text": [
            "15\n",
            "<class 'int'>\n",
            "5\n",
            "50\n",
            "2.0\n",
            "<class 'float'>\n"
          ]
        }
      ]
    },
    {
      "cell_type": "code",
      "source": [
        "#exponential:- to the power off --> **\n",
        "print(2 ** 3)\n",
        "print(type(2 ** 3))\n"
      ],
      "metadata": {
        "colab": {
          "base_uri": "https://localhost:8080/"
        },
        "id": "ZhxzzS8G0xJT",
        "outputId": "32cd8c76-1fc9-4998-d9bc-e69cfc646e55"
      },
      "execution_count": null,
      "outputs": [
        {
          "output_type": "stream",
          "name": "stdout",
          "text": [
            "8\n",
            "<class 'int'>\n"
          ]
        }
      ]
    },
    {
      "cell_type": "code",
      "source": [
        "#floor division:- it will ignores the values after decimal points\n",
        "#doneted with--> \"//\"\n",
        "\n",
        "print(10 / 3)\n",
        "print(10 // 3)"
      ],
      "metadata": {
        "colab": {
          "base_uri": "https://localhost:8080/"
        },
        "id": "0DEW41CX0xMV",
        "outputId": "04834734-42f4-4a8b-8f17-c6636e0a3de1"
      },
      "execution_count": null,
      "outputs": [
        {
          "output_type": "stream",
          "name": "stdout",
          "text": [
            "3.3333333333333335\n",
            "3\n"
          ]
        }
      ]
    },
    {
      "cell_type": "code",
      "source": [
        "#Modulus :- --->\"%\"-->remainder of a division\n",
        "\n",
        "print(10 % 3)\n",
        "print(type(10 % 3))\n",
        "\n",
        "print(10 % 2)\n",
        "print(type(10 % 2))"
      ],
      "metadata": {
        "colab": {
          "base_uri": "https://localhost:8080/"
        },
        "id": "y5PSdiI90xP1",
        "outputId": "47769c31-268d-4e2b-d39b-d382eb976a56"
      },
      "execution_count": null,
      "outputs": [
        {
          "output_type": "stream",
          "name": "stdout",
          "text": [
            "1\n",
            "<class 'int'>\n",
            "0\n",
            "<class 'int'>\n"
          ]
        }
      ]
    },
    {
      "cell_type": "code",
      "source": [
        "#find the given number is odd or even?\n",
        "print(5 % 2) #odd--- in modulus if you get o/p as 1\n",
        "print(6 % 2) #even -- in modulus if u get o/p as 0"
      ],
      "metadata": {
        "colab": {
          "base_uri": "https://localhost:8080/"
        },
        "id": "har5HCUE0xST",
        "outputId": "68cc99de-2353-4b44-f676-120f55acf76a"
      },
      "execution_count": null,
      "outputs": [
        {
          "output_type": "stream",
          "name": "stdout",
          "text": [
            "1\n",
            "0\n"
          ]
        }
      ]
    },
    {
      "cell_type": "code",
      "source": [
        "#what is a floor value?\n",
        "#it is value before decimal point"
      ],
      "metadata": {
        "id": "EQvSF_s40xV1"
      },
      "execution_count": null,
      "outputs": []
    },
    {
      "cell_type": "markdown",
      "source": [
        "**Types of Errors**"
      ],
      "metadata": {
        "id": "FJJrKL0v1tED"
      }
    },
    {
      "cell_type": "code",
      "source": [
        "#there are 2 types pof error\n",
        "#1.syntax error:- if you break the rules of programming language you have syntax error\n",
        "#ex:-print(10 * * 3)\n"
      ],
      "metadata": {
        "id": "tuKcpmuC0xYU"
      },
      "execution_count": null,
      "outputs": []
    },
    {
      "cell_type": "code",
      "source": [
        "#2.Logical errors:- except syntax error all the errors comes under logical error\n",
        "# ex:- indentation error, type error, recurissive  error...etc\n"
      ],
      "metadata": {
        "id": "8H1KrN2l1zm7"
      },
      "execution_count": null,
      "outputs": []
    },
    {
      "cell_type": "markdown",
      "source": [
        "**Round()**"
      ],
      "metadata": {
        "id": "-dUQ0HIq1-j1"
      }
    },
    {
      "cell_type": "code",
      "source": [
        "#it will give the nearest value means we are rounding off the value\n",
        "print(round(10.5))\n",
        "print(round(10.6))\n",
        "#note: if the values are equals to or less than (0.5) point 5 thw round off value can be floor value\n"
      ],
      "metadata": {
        "colab": {
          "base_uri": "https://localhost:8080/"
        },
        "id": "NfckcBNM1zr7",
        "outputId": "e2a67a2a-cb23-4350-c9ff-53c2abefb2b5"
      },
      "execution_count": null,
      "outputs": [
        {
          "output_type": "stream",
          "name": "stdout",
          "text": [
            "10\n",
            "11\n"
          ]
        }
      ]
    },
    {
      "cell_type": "code",
      "source": [
        "#print round off value of 2.3456?\n",
        "print(round(2.3456))\n",
        "#if i want to print number with 2 decimal point?\n",
        "print(round(2.3456,2))\n",
        "#print 1st 3 decimal points?\n",
        "print(round(2.3456,3))"
      ],
      "metadata": {
        "colab": {
          "base_uri": "https://localhost:8080/"
        },
        "id": "Ysi6ldDC1zvL",
        "outputId": "b1236793-b45e-4858-ef01-0958889f339b"
      },
      "execution_count": null,
      "outputs": [
        {
          "output_type": "stream",
          "name": "stdout",
          "text": [
            "2\n",
            "2.35\n",
            "2.346\n"
          ]
        }
      ]
    },
    {
      "cell_type": "code",
      "source": [
        "#what is ceiling value?\n",
        "#when you use round off fuction if the value is more than point 5(0.5) it will go for neares upcoming value\n",
        "#so upcoming value is known as ceiling value."
      ],
      "metadata": {
        "id": "D3ywyXOX1zyr"
      },
      "execution_count": null,
      "outputs": []
    },
    {
      "cell_type": "code",
      "source": [
        "print(\"hello world!\")"
      ],
      "metadata": {
        "colab": {
          "base_uri": "https://localhost:8080/"
        },
        "id": "WJHMNuu11z2P",
        "outputId": "471cdf41-e20d-481b-d577-a3da7166c2f3"
      },
      "execution_count": null,
      "outputs": [
        {
          "output_type": "stream",
          "name": "stdout",
          "text": [
            "hello world!\n"
          ]
        }
      ]
    },
    {
      "cell_type": "code",
      "source": [
        "#print first 3 decimals from the given 9.6543?\n",
        "#9.65\n",
        "print(round(9.6543,3))\n"
      ],
      "metadata": {
        "colab": {
          "base_uri": "https://localhost:8080/"
        },
        "id": "1anw-iCk1z5u",
        "outputId": "38ac48ca-f53e-43d8-c61d-c5d8c6dacde9"
      },
      "execution_count": null,
      "outputs": [
        {
          "output_type": "stream",
          "name": "stdout",
          "text": [
            "9.654\n"
          ]
        }
      ]
    },
    {
      "cell_type": "markdown",
      "source": [
        "***Variables***"
      ],
      "metadata": {
        "id": "RclQOK2h2uOL"
      }
    },
    {
      "cell_type": "code",
      "source": [
        "#why we are using the variables?\n",
        "#A containers where we can store our valuable information and whenever you want you reuse it\n",
        "#how can we create an variable?\n",
        "\"\"\" lets say father age is x and son\n",
        "age is 1/2 father age\"\"\"\n",
        "x = 40\n",
        "son_age = x/2\n",
        "#how we access an varaible?\n",
        "print(son_age)"
      ],
      "metadata": {
        "colab": {
          "base_uri": "https://localhost:8080/"
        },
        "id": "yQNOoPEc1z9L",
        "outputId": "5a8c56f0-0bbf-4782-aa4c-1b78beb9a0a0"
      },
      "execution_count": null,
      "outputs": [
        {
          "output_type": "stream",
          "name": "stdout",
          "text": [
            "20.0\n"
          ]
        }
      ]
    },
    {
      "cell_type": "code",
      "source": [
        "#please do all the arthamatic operation by using 2 varible?\n",
        "x = 10\n",
        "y = 5\n",
        "print(x + y)\n",
        "print(x - y)\n",
        "print(x * y)\n",
        "print(x / y)\n",
        "print(x ** y)\n",
        "print(x // y)\n",
        "print(x % y)\n"
      ],
      "metadata": {
        "colab": {
          "base_uri": "https://localhost:8080/"
        },
        "id": "xeQu_fem10Au",
        "outputId": "93ef6526-1560-4337-d667-5a9d7cb8e3eb"
      },
      "execution_count": null,
      "outputs": [
        {
          "output_type": "stream",
          "name": "stdout",
          "text": [
            "15\n",
            "5\n",
            "50\n",
            "2.0\n",
            "100000\n",
            "2\n",
            "0\n"
          ]
        }
      ]
    },
    {
      "cell_type": "code",
      "source": [
        "#rules to follow for writing varible\n",
        "#1. varible can written by using alphabets\n",
        "a = \"hello world!\"\n",
        "print(a)\n",
        "#2. you can not start with the numbers\n",
        "#2 =\"hello world\"\n",
        "#print(2)\n",
        "#3. if you follow rule 1 and 2 then you can start with alphabets in between you use number\n",
        "hello2 = \"hello world\"\n",
        "print(hello2)\n",
        "#4.you start with _\n",
        "_ = 10\n",
        "print(_)\n",
        "#5.you cannot you the special chartacters\n",
        "# @ = 10\n",
        "# print(@)\n",
        "#6. you cannot give spaces in between variables\n",
        "# a b c = 10,20,30\n",
        "# print(a,b,c)\n",
        "#7. dont star a varible name with capital letter\n",
        "#8.varibles are case sensitive"
      ],
      "metadata": {
        "colab": {
          "base_uri": "https://localhost:8080/"
        },
        "id": "b64vkeqD10EL",
        "outputId": "0a62fd75-7442-49de-f1e5-993b3c3d7963"
      },
      "execution_count": null,
      "outputs": [
        {
          "output_type": "stream",
          "name": "stdout",
          "text": [
            "hello world!\n",
            "hello world\n",
            "10\n"
          ]
        }
      ]
    },
    {
      "cell_type": "code",
      "source": [
        "#varibles are case sensitive\n",
        "c = 10\n",
        "print(C)\n",
        "#Note:- By this we can say python \" is an case sensitive language\""
      ],
      "metadata": {
        "id": "VgCXOuMG10Hr"
      },
      "execution_count": null,
      "outputs": []
    },
    {
      "cell_type": "code",
      "source": [
        "#smart ways of writing varibles?\n",
        "#1.Assign multiple values to multiple varibles and print it?\n",
        "a,b,c = 10,20,30\n",
        "print(a,b,c)\n",
        "a = 10\n",
        "b = 20\n",
        "c = 30\n",
        "print(a,b,c, sep='\\n')\n"
      ],
      "metadata": {
        "colab": {
          "base_uri": "https://localhost:8080/"
        },
        "id": "xevIKrCz10L8",
        "outputId": "702e883b-8550-494f-9b8d-8f600c1ab108"
      },
      "execution_count": null,
      "outputs": [
        {
          "output_type": "stream",
          "name": "stdout",
          "text": [
            "10 20 30\n",
            "10\n",
            "20\n",
            "30\n"
          ]
        }
      ]
    },
    {
      "cell_type": "code",
      "source": [
        "#assign single value to the multiple varible and print it?\n",
        "a = 10\n",
        "b = 10\n",
        "c = 10\n",
        "#print(a,b,c)\n",
        "\n",
        "a = b = c = 10\n",
        "# print(a,b,c)\n",
        "#print the output in seprate line?\n",
        "#we are using \"sep = \"\\n\"\" to print the output in n no. of lines\n",
        "# print(a)\n",
        "# print(b)\n",
        "# print(c)\n",
        "print(a,b,c, sep=\"\\n\")"
      ],
      "metadata": {
        "colab": {
          "base_uri": "https://localhost:8080/"
        },
        "id": "XJA7t6bV10PN",
        "outputId": "98b8b36a-6320-473f-c08b-d0788902cf25"
      },
      "execution_count": null,
      "outputs": [
        {
          "output_type": "stream",
          "name": "stdout",
          "text": [
            "10\n",
            "10\n",
            "10\n"
          ]
        }
      ]
    },
    {
      "cell_type": "markdown",
      "source": [
        "***input()***"
      ],
      "metadata": {
        "id": "7NiyUXJh3LTO"
      }
    },
    {
      "cell_type": "code",
      "source": [
        "#what is input()?\n",
        "#it will takes what ever information given by user\n",
        "#how to create input()?\n",
        "#to create input function we are using \"input()\" along with varible\n",
        "#how to access the input()?\n",
        "# with help of input varible we can access the input() values.\n",
        "\n",
        "#what is use of input()?\n",
        "#we can give multiple values to the single variable\n"
      ],
      "metadata": {
        "id": "e8_TyU-X10St"
      },
      "execution_count": null,
      "outputs": []
    },
    {
      "cell_type": "code",
      "source": [
        "#we can give multiple user values to the single variable\n",
        "a = input()\n",
        "print(a)\n",
        "print(type(a))\n",
        "#what is default data type for input()?\n",
        "#string"
      ],
      "metadata": {
        "colab": {
          "base_uri": "https://localhost:8080/"
        },
        "id": "HzU01pvf10Vz",
        "outputId": "7d1264a9-8d62-45db-de0a-df95bda890cc"
      },
      "execution_count": null,
      "outputs": [
        {
          "output_type": "stream",
          "name": "stdout",
          "text": [
            "2+iJ\n",
            "2+iJ\n",
            "<class 'str'>\n"
          ]
        }
      ]
    },
    {
      "cell_type": "code",
      "source": [
        "#create  2 input() program and do all the arthamatic operation?\n",
        "a = float(input())\n",
        "b = float(input())\n",
        "print(a + b)\n",
        "print(a - b)\n",
        "print(a * b)\n",
        "print(a / b)\n",
        "print(a ** b)\n",
        "print(a // b)\n",
        "print(a % b)\n",
        "print(type(a % b))\n"
      ],
      "metadata": {
        "colab": {
          "base_uri": "https://localhost:8080/"
        },
        "id": "YguBQwuz4Nut",
        "outputId": "8d124606-928c-4d61-9943-02474149c650"
      },
      "execution_count": null,
      "outputs": [
        {
          "output_type": "stream",
          "name": "stdout",
          "text": [
            "7\n",
            "10\n",
            "17.0\n",
            "-3.0\n",
            "70.0\n",
            "0.7\n",
            "282475249.0\n",
            "0.0\n",
            "7.0\n",
            "<class 'float'>\n"
          ]
        }
      ]
    },
    {
      "cell_type": "code",
      "source": [
        "a  = input(\"enter the number :\" )\n",
        "print(a)"
      ],
      "metadata": {
        "colab": {
          "base_uri": "https://localhost:8080/"
        },
        "id": "pbMUK8cd4N0t",
        "outputId": "96ca8615-db9d-40cb-8cc0-50fe163eef92"
      },
      "execution_count": null,
      "outputs": [
        {
          "output_type": "stream",
          "name": "stdout",
          "text": [
            "enter the number :10\n",
            "10\n"
          ]
        }
      ]
    },
    {
      "cell_type": "markdown",
      "source": [
        "**string**"
      ],
      "metadata": {
        "id": "B36Jc2Pu4gph"
      }
    },
    {
      "cell_type": "code",
      "source": [
        "#what is astring?\n",
        "#string collection group of character which written inside \" \"\n",
        "a = \"hello world!\"\n",
        "print(a)\n",
        "print(type(a))"
      ],
      "metadata": {
        "colab": {
          "base_uri": "https://localhost:8080/"
        },
        "id": "L87qU0ld4N4R",
        "outputId": "59c36b8d-7b90-4c3d-f110-45fb1614abae"
      },
      "execution_count": null,
      "outputs": [
        {
          "output_type": "stream",
          "name": "stdout",
          "text": [
            "hello world!\n",
            "<class 'str'>\n"
          ]
        }
      ]
    },
    {
      "cell_type": "code",
      "source": [
        "#write a multiple line of string?\n",
        "#\"\"\"  \"\"\" / ''' '''\n",
        "#note:- when you start with double quotes end with double qouts and vice versa\n",
        "a = \"\"\" Hi, hope your doing well,\n",
        "you been sellected a for x position\"\"\"\n",
        "print(a)\n"
      ],
      "metadata": {
        "colab": {
          "base_uri": "https://localhost:8080/"
        },
        "id": "Ufi29Y-C4N7Q",
        "outputId": "cca50e22-83e4-41db-8bbd-a60d5a016327"
      },
      "execution_count": null,
      "outputs": [
        {
          "output_type": "stream",
          "name": "stdout",
          "text": [
            " Hi, hope your doing well,\n",
            "you been sellected a for x position\n"
          ]
        }
      ]
    },
    {
      "cell_type": "code",
      "source": [
        "#how can you write a multiple line of message by using input()?\n",
        "a = input(\"enter the message :\")\n",
        "print(a)"
      ],
      "metadata": {
        "colab": {
          "base_uri": "https://localhost:8080/"
        },
        "id": "nuHaIqpB4N-h",
        "outputId": "d3041cf7-7323-4e22-c113-9e848f53fb6a"
      },
      "execution_count": null,
      "outputs": [
        {
          "output_type": "stream",
          "name": "stdout",
          "text": [
            "enter the message :hi hope your doing well\n",
            "hi hope your doing well\n"
          ]
        }
      ]
    },
    {
      "cell_type": "code",
      "source": [
        "#note:string is collection multiple characters eacha and every charceter is accessble.\n",
        "#how can we accesss each element in a string?\n",
        "#indexing:- positional number of each and every element in a string\n",
        "#slicing operator:- --->[]\n",
        "#what is substring?\n",
        "#getting a part from original string is know as substring"
      ],
      "metadata": {
        "id": "VZjvZgfk4OBu"
      },
      "execution_count": null,
      "outputs": []
    },
    {
      "cell_type": "code",
      "source": [
        "#find the length of given string?\n",
        "a = \"hello world!\"\n",
        "#i am using \"len()\" to find klentght of character in string\n",
        "print(len(a))"
      ],
      "metadata": {
        "colab": {
          "base_uri": "https://localhost:8080/"
        },
        "id": "z44Ionti4OE-",
        "outputId": "e2f91b28-0cd0-42f0-fcd1-4acab4b31430"
      },
      "execution_count": null,
      "outputs": [
        {
          "output_type": "stream",
          "name": "stdout",
          "text": [
            "12\n"
          ]
        }
      ]
    },
    {
      "cell_type": "code",
      "source": [
        "a = \"hello world!\"\n",
        "#print \"h\" from hello world?\n",
        "#[start]\n",
        "print(a[0])\n",
        "#print \"w\" from hello word!?"
      ],
      "metadata": {
        "colab": {
          "base_uri": "https://localhost:8080/"
        },
        "id": "LvhtWyeC4OIe",
        "outputId": "dfbf7427-c933-4412-f302-d217cf879b3e"
      },
      "execution_count": null,
      "outputs": [
        {
          "output_type": "stream",
          "name": "stdout",
          "text": [
            "h\n"
          ]
        }
      ]
    },
    {
      "cell_type": "code",
      "source": [
        "#print the range of characters?\n",
        "#[start:end]\n",
        "#print \"hello\" from hello world!?\n",
        "print(a[0:5])\n",
        "print(a[6:11])\n",
        "#note:- if u want to display specific end cahracter you need add it with 1--> n+1"
      ],
      "metadata": {
        "colab": {
          "base_uri": "https://localhost:8080/"
        },
        "id": "vgSIE5t24OLf",
        "outputId": "fa950fdb-7d9f-48d8-f9dc-4c545eba0a41"
      },
      "execution_count": null,
      "outputs": [
        {
          "output_type": "stream",
          "name": "stdout",
          "text": [
            "hello\n",
            "world\n"
          ]
        }
      ]
    },
    {
      "cell_type": "code",
      "source": [
        "#i want to print step wise elements from a string?\n",
        "#[start:end:step]\n",
        "print(a[0:12:3])\n"
      ],
      "metadata": {
        "colab": {
          "base_uri": "https://localhost:8080/"
        },
        "id": "3vq6RwGV4OOu",
        "outputId": "9388e665-e8aa-4d9c-cec3-cfc4b7be3c85"
      },
      "execution_count": null,
      "outputs": [
        {
          "output_type": "stream",
          "name": "stdout",
          "text": [
            "hlwl\n"
          ]
        }
      ]
    },
    {
      "cell_type": "code",
      "source": [
        "#Negative indexing:- accesing the elements in string from reverse direction.\n",
        "#print last character of the string?\n",
        "a = \"hello world!\"\n",
        "# print(a[-1])\n",
        "#print world from hello world in -ve indexing?\n",
        "print(a[-7:-1])"
      ],
      "metadata": {
        "colab": {
          "base_uri": "https://localhost:8080/"
        },
        "id": "4nSPkAau4ORt",
        "outputId": "47fa5290-ae93-4c9c-88ad-da8b5e38df02"
      },
      "execution_count": null,
      "outputs": [
        {
          "output_type": "stream",
          "name": "stdout",
          "text": [
            " world\n"
          ]
        }
      ]
    },
    {
      "cell_type": "code",
      "source": [
        "#but i want go in reverse direction\n",
        "#step\n",
        "a = \"hello world!\"\n",
        "print(a[-1:-7:-1])\n"
      ],
      "metadata": {
        "colab": {
          "base_uri": "https://localhost:8080/"
        },
        "id": "4LXrAwjS4OVO",
        "outputId": "059f8a8a-3aea-498f-b6c5-0fe13a614eef"
      },
      "execution_count": null,
      "outputs": [
        {
          "output_type": "stream",
          "name": "stdout",
          "text": [
            "!dlrow\n"
          ]
        }
      ]
    },
    {
      "cell_type": "code",
      "source": [
        "#reverse a given string?\n",
        "# \"Univerese\"\n",
        "a = \"Univerese\"\n",
        "print(a[-1:-10:-1])\n",
        "#default methods\n",
        "#[start:end:step]\n",
        "print(a[::-1])"
      ],
      "metadata": {
        "colab": {
          "base_uri": "https://localhost:8080/"
        },
        "id": "mWW1HsHV4OX9",
        "outputId": "a17a4b13-166d-4c5f-d667-e5c197ebfb8d"
      },
      "execution_count": null,
      "outputs": [
        {
          "output_type": "stream",
          "name": "stdout",
          "text": [
            "eserevinU\n",
            "eserevinU\n"
          ]
        }
      ]
    },
    {
      "cell_type": "code",
      "source": [
        "#Tell weather a string is palindrome or not?\n",
        "b = 'mom'\n",
        "print(b)\n",
        "print(b[::-1])"
      ],
      "metadata": {
        "colab": {
          "base_uri": "https://localhost:8080/"
        },
        "id": "9tzJjUyG4Obs",
        "outputId": "d6a1e1d1-06f0-4133-87ec-ac3b4c3aaa90"
      },
      "execution_count": null,
      "outputs": [
        {
          "output_type": "stream",
          "name": "stdout",
          "text": [
            "mom\n",
            "mom\n"
          ]
        }
      ]
    },
    {
      "cell_type": "code",
      "source": [
        "c = \"hyderabad\"\n",
        "print(c)\n",
        "print(c[::-1])"
      ],
      "metadata": {
        "id": "v9ajzF0r4Oet",
        "colab": {
          "base_uri": "https://localhost:8080/"
        },
        "outputId": "4610d2f7-82d7-4d77-ae67-431a1e826a2b"
      },
      "execution_count": 1,
      "outputs": [
        {
          "output_type": "stream",
          "name": "stdout",
          "text": [
            "hyderabad\n",
            "dabaredyh\n"
          ]
        }
      ]
    },
    {
      "cell_type": "code",
      "source": [
        "string = \"Hello, World!\"\n",
        "print(string[3:7])"
      ],
      "metadata": {
        "id": "t6hM5tOf5WJH",
        "colab": {
          "base_uri": "https://localhost:8080/"
        },
        "outputId": "d9cf41cd-01a7-440f-dce1-46a44d69057a"
      },
      "execution_count": 2,
      "outputs": [
        {
          "output_type": "stream",
          "name": "stdout",
          "text": [
            "lo, \n"
          ]
        }
      ]
    },
    {
      "cell_type": "code",
      "source": [
        "string = \"Hello, World!\"\n",
        "#[start:end:step]\n",
        "print(string[::-2])"
      ],
      "metadata": {
        "id": "qeSI7hQy5WNc",
        "colab": {
          "base_uri": "https://localhost:8080/"
        },
        "outputId": "fddcd2fc-7e77-4fb6-f52c-e160b8ea6738"
      },
      "execution_count": 3,
      "outputs": [
        {
          "output_type": "stream",
          "name": "stdout",
          "text": [
            "!lo olH\n"
          ]
        }
      ]
    },
    {
      "cell_type": "code",
      "source": [
        "string = \"Hello, World!\"\n",
        "print(string[::2])"
      ],
      "metadata": {
        "id": "PgzSaAAr5WRX",
        "colab": {
          "base_uri": "https://localhost:8080/"
        },
        "outputId": "d1d40a58-384d-425a-e949-6cec9c903899"
      },
      "execution_count": 4,
      "outputs": [
        {
          "output_type": "stream",
          "name": "stdout",
          "text": [
            "Hlo ol!\n"
          ]
        }
      ]
    },
    {
      "cell_type": "code",
      "source": [
        "#print the end element?\n",
        "print(string[-1])"
      ],
      "metadata": {
        "id": "IqdWvJ-R5WUn",
        "colab": {
          "base_uri": "https://localhost:8080/"
        },
        "outputId": "a49c9a93-1c75-4c79-c129-7d33225132c4"
      },
      "execution_count": 5,
      "outputs": [
        {
          "output_type": "stream",
          "name": "stdout",
          "text": [
            "!\n"
          ]
        }
      ]
    },
    {
      "cell_type": "code",
      "source": [
        "#print hello by using -ve indexing?\n",
        "print(string[-8:-14:-1])"
      ],
      "metadata": {
        "id": "ofyX-VWz5WYR",
        "colab": {
          "base_uri": "https://localhost:8080/"
        },
        "outputId": "b35c808b-2600-48f5-ce2d-c13702caa242"
      },
      "execution_count": 6,
      "outputs": [
        {
          "output_type": "stream",
          "name": "stdout",
          "text": [
            ",olleH\n"
          ]
        }
      ]
    },
    {
      "cell_type": "markdown",
      "source": [
        "**string methods**"
      ],
      "metadata": {
        "id": "sY-wAAqAKaKp"
      }
    },
    {
      "cell_type": "code",
      "source": [
        "x = \"hello world!\"\n",
        "#what are all the methods i can apply on x = \" hello world!\"\n",
        "#we are using \"dir()\" to know what are all the methods apply on strin\n",
        "print(dir(x))"
      ],
      "metadata": {
        "id": "w7QeiOYC5WbR",
        "colab": {
          "base_uri": "https://localhost:8080/"
        },
        "outputId": "90dc8341-8660-4d93-ff0a-0a3e1cb24ae3"
      },
      "execution_count": 7,
      "outputs": [
        {
          "output_type": "stream",
          "name": "stdout",
          "text": [
            "['__add__', '__class__', '__contains__', '__delattr__', '__dir__', '__doc__', '__eq__', '__format__', '__ge__', '__getattribute__', '__getitem__', '__getnewargs__', '__gt__', '__hash__', '__init__', '__init_subclass__', '__iter__', '__le__', '__len__', '__lt__', '__mod__', '__mul__', '__ne__', '__new__', '__reduce__', '__reduce_ex__', '__repr__', '__rmod__', '__rmul__', '__setattr__', '__sizeof__', '__str__', '__subclasshook__', 'capitalize', 'casefold', 'center', 'count', 'encode', 'endswith', 'expandtabs', 'find', 'format', 'format_map', 'index', 'isalnum', 'isalpha', 'isascii', 'isdecimal', 'isdigit', 'isidentifier', 'islower', 'isnumeric', 'isprintable', 'isspace', 'istitle', 'isupper', 'join', 'ljust', 'lower', 'lstrip', 'maketrans', 'partition', 'removeprefix', 'removesuffix', 'replace', 'rfind', 'rindex', 'rjust', 'rpartition', 'rsplit', 'rstrip', 'split', 'splitlines', 'startswith', 'strip', 'swapcase', 'title', 'translate', 'upper', 'zfill']\n"
          ]
        }
      ]
    },
    {
      "cell_type": "code",
      "source": [
        "#1.capitaize()\n",
        "#2.upper()\n",
        "#3.lower()\n",
        "#4.replace() ***\n",
        "#5.trim()\n",
        "#6.ltrim()\n",
        "#7.rtrim()\n",
        "#8.title()\n",
        "#9.swapcase()\n",
        "#10.split()\n",
        "#how can you applly string methods?\n",
        "x = \"hello world!\"\n",
        "print(x.upper())\n",
        "print(x.lower())\n",
        "print(x.title())\n",
        "print(x.swapcase())"
      ],
      "metadata": {
        "id": "hXwlkk_N5WeJ",
        "colab": {
          "base_uri": "https://localhost:8080/"
        },
        "outputId": "2156a5ff-b078-4753-803a-ec02ff20eaec"
      },
      "execution_count": 8,
      "outputs": [
        {
          "output_type": "stream",
          "name": "stdout",
          "text": [
            "HELLO WORLD!\n",
            "hello world!\n",
            "Hello World!\n",
            "HELLO WORLD!\n"
          ]
        }
      ]
    },
    {
      "cell_type": "code",
      "source": [],
      "metadata": {
        "id": "aW3C-iV95WhX"
      },
      "execution_count": null,
      "outputs": []
    },
    {
      "cell_type": "markdown",
      "source": [
        "**string formatmethod**"
      ],
      "metadata": {
        "id": "HPycQqO_5Wkm"
      }
    },
    {
      "cell_type": "code",
      "source": [
        "x = \"10\"\n",
        "y = \"my age is \"\n",
        "#print \" my age is\"\n",
        "print(y+\" \" +x)"
      ],
      "metadata": {
        "id": "BeHB80ry5Wu2",
        "colab": {
          "base_uri": "https://localhost:8080/"
        },
        "outputId": "f5eb605d-ed25-4bb8-dc8a-1f08e152bebe"
      },
      "execution_count": 9,
      "outputs": [
        {
          "output_type": "stream",
          "name": "stdout",
          "text": [
            "my age is  10\n"
          ]
        }
      ]
    },
    {
      "cell_type": "code",
      "source": [
        "#what is string format method?\n",
        "#FAILLING the placeholder{} with given arguments\n",
        "#there are  format methods"
      ],
      "metadata": {
        "id": "f6Lu7Ymx5WyH"
      },
      "execution_count": 10,
      "outputs": []
    },
    {
      "cell_type": "code",
      "source": [
        "#1st method\n",
        "age = 40\n",
        "string = \"my age is {}\"\n",
        "print(string.format(age))"
      ],
      "metadata": {
        "id": "rUHnKWfP5W1p",
        "colab": {
          "base_uri": "https://localhost:8080/"
        },
        "outputId": "2358536e-9284-40ff-f029-92a84799db45"
      },
      "execution_count": 11,
      "outputs": [
        {
          "output_type": "stream",
          "name": "stdout",
          "text": [
            "my age is 40\n"
          ]
        }
      ]
    },
    {
      "cell_type": "code",
      "source": [
        "#2nd method\n",
        "age = 40\n",
        "string = \"my age is {}\".format(age)\n",
        "print(string)"
      ],
      "metadata": {
        "id": "SMY23ghm5W45",
        "colab": {
          "base_uri": "https://localhost:8080/"
        },
        "outputId": "f8bf49c6-08f3-44ab-9b86-9daec0d42712"
      },
      "execution_count": 12,
      "outputs": [
        {
          "output_type": "stream",
          "name": "stdout",
          "text": [
            "my age is 40\n"
          ]
        }
      ]
    },
    {
      "cell_type": "code",
      "source": [
        "#3rd f'format method' ***\n",
        "age = 40\n",
        "string = f\"my age is {age}\"\n",
        "print(string)\n"
      ],
      "metadata": {
        "colab": {
          "base_uri": "https://localhost:8080/"
        },
        "id": "7fT5kg1BKz4z",
        "outputId": "6bbbe14f-d91f-455a-b5f8-941be8bf98a4"
      },
      "execution_count": 13,
      "outputs": [
        {
          "output_type": "stream",
          "name": "stdout",
          "text": [
            "my age is 40\n"
          ]
        }
      ]
    },
    {
      "cell_type": "code",
      "source": [
        "item = 'Product A'\n",
        "price = 99.9\n",
        "quantity = 20\n",
        "#expected output: your order for product a number of items quantity priced at 99.99 is confiremd\n",
        "text = \"your order for {} number of items {} priced at {} is confiremd\"\n",
        "\n",
        "print(text.format(item,quantity,price))\n",
        "\n"
      ],
      "metadata": {
        "colab": {
          "base_uri": "https://localhost:8080/"
        },
        "id": "9f6h3erXK5-j",
        "outputId": "d4af74a3-3093-4046-d4af-2e2bf413fd97"
      },
      "execution_count": 14,
      "outputs": [
        {
          "output_type": "stream",
          "name": "stdout",
          "text": [
            "your order for Product A number of items 20 priced at 99.9 is confiremd\n"
          ]
        }
      ]
    },
    {
      "cell_type": "code",
      "source": [
        "item = 'Product A'\n",
        "price = 99.9\n",
        "quantity = 20\n",
        "#expected output: your order for product a number of items quantity priced at 99.99 is confiremd\n",
        "text = \"your order for {} number of items {} priced at {} is confiremd\".format(item,quantity,price)\n",
        "\n",
        "print(text)"
      ],
      "metadata": {
        "colab": {
          "base_uri": "https://localhost:8080/"
        },
        "id": "KgvnNWkQK6Lj",
        "outputId": "0706b3bf-7bf9-4bc6-d4a3-15dd01b0fd6a"
      },
      "execution_count": 15,
      "outputs": [
        {
          "output_type": "stream",
          "name": "stdout",
          "text": [
            "your order for Product A number of items 20 priced at 99.9 is confiremd\n"
          ]
        }
      ]
    },
    {
      "cell_type": "code",
      "source": [
        "item = 'Product A'\n",
        "price = 99.9\n",
        "quantity = 20\n",
        "#expected output: your order for product a number of items quantity priced at 99.99 is confiremd\n",
        "text = f\"your order for {item} number of items {quantity} priced at {price*quantity} is confiremd\"\n",
        "\n",
        "print(text)"
      ],
      "metadata": {
        "colab": {
          "base_uri": "https://localhost:8080/"
        },
        "id": "FktLM9RAK6Qz",
        "outputId": "1f8ef486-fb46-4cd2-9e46-7fa204bdb5f8"
      },
      "execution_count": 16,
      "outputs": [
        {
          "output_type": "stream",
          "name": "stdout",
          "text": [
            "your order for Product A number of items 20 priced at 1998.0 is confiremd\n"
          ]
        }
      ]
    },
    {
      "cell_type": "markdown",
      "source": [
        "**conditional statements( control structures)**"
      ],
      "metadata": {
        "id": "rR4wnUBO5W8L"
      }
    },
    {
      "cell_type": "code",
      "source": [
        "#what are all comparision operators do we have in python?\n",
        "#1.equals to----> ==\n",
        "#2.not equals---> !=\n",
        "#3.greater than---> >\n",
        "#4.less than ---> <\n",
        "#5.greter than ---> >=\n",
        "#6.less than ----> <="
      ],
      "metadata": {
        "id": "9Z0axtBY5XFn"
      },
      "execution_count": null,
      "outputs": []
    },
    {
      "cell_type": "code",
      "source": [
        "print( 10 == 10)\n",
        "print( 10 != 10)\n",
        "print( 10 > 10)\n",
        "print( 10 < 10)\n",
        "print( 10 >= 10)\n",
        "print( 10 <= 10)"
      ],
      "metadata": {
        "id": "w_1zeT9-5XIt",
        "colab": {
          "base_uri": "https://localhost:8080/"
        },
        "outputId": "07d59339-b52f-49b0-e209-50f201512423"
      },
      "execution_count": 17,
      "outputs": [
        {
          "output_type": "stream",
          "name": "stdout",
          "text": [
            "True\n",
            "False\n",
            "False\n",
            "False\n",
            "True\n",
            "True\n"
          ]
        }
      ]
    },
    {
      "cell_type": "code",
      "source": [
        "print(\"Hello\" == \"hello\")"
      ],
      "metadata": {
        "id": "gnwnzowG5XT4",
        "colab": {
          "base_uri": "https://localhost:8080/"
        },
        "outputId": "73918b9b-e0f9-42dd-cd57-6331e2723d7e"
      },
      "execution_count": 18,
      "outputs": [
        {
          "output_type": "stream",
          "name": "stdout",
          "text": [
            "False\n"
          ]
        }
      ]
    },
    {
      "cell_type": "code",
      "source": [
        "#what are all conditional statements we are having?\n",
        "#if,elif, else"
      ],
      "metadata": {
        "id": "ihLmARM_5Xbn"
      },
      "execution_count": 19,
      "outputs": []
    },
    {
      "cell_type": "code",
      "source": [
        "marks = 34\n",
        "passing_marks = 35\n",
        "total_marks = 100\n",
        "if marks >= passing_marks:\n",
        "  print(\"congratulation\")\n",
        "  print(f'you have passed with {marks} marks')\n",
        "else:\n",
        "  print(\"better luck next time\")\n",
        "  print(f\"you have got {marks} marks\")\n"
      ],
      "metadata": {
        "id": "m_qavMS45Xfe",
        "colab": {
          "base_uri": "https://localhost:8080/"
        },
        "outputId": "9ca4f683-93c1-4327-d5b3-372b4e1f4502"
      },
      "execution_count": 20,
      "outputs": [
        {
          "output_type": "stream",
          "name": "stdout",
          "text": [
            "better luck next time\n",
            "you have got 34 marks\n"
          ]
        }
      ]
    },
    {
      "cell_type": "code",
      "source": [
        "#print a number if it os +ve print +ve and if it is _ve pribt \"-ve\" if it is zero print \"neutral\"\n",
        "a = int(input())\n",
        "if a > 0:\n",
        "  print(\"+ve\")\n",
        "elif a == 0:\n",
        "  print(\"neutral\")\n",
        "else:\n",
        "  print(\"-ve\")"
      ],
      "metadata": {
        "id": "4ublFU2a5Xip",
        "colab": {
          "base_uri": "https://localhost:8080/"
        },
        "outputId": "00ced6a3-d2d4-457c-9097-431c2b8372bd"
      },
      "execution_count": 21,
      "outputs": [
        {
          "output_type": "stream",
          "name": "stdout",
          "text": [
            "-0\n",
            "neutral\n"
          ]
        }
      ]
    },
    {
      "cell_type": "code",
      "source": [
        "print(10 == 10)\n",
        "print(not(10 == 10))"
      ],
      "metadata": {
        "id": "uv4VKtbY5XmX",
        "colab": {
          "base_uri": "https://localhost:8080/"
        },
        "outputId": "d97457e5-108a-44f7-bc3b-191ff5010049"
      },
      "execution_count": 22,
      "outputs": [
        {
          "output_type": "stream",
          "name": "stdout",
          "text": [
            "True\n",
            "False\n"
          ]
        }
      ]
    },
    {
      "cell_type": "code",
      "source": [
        "a = 10\n",
        "b = 56\n",
        "c = 455\n",
        "#check the condition that s is lesser than b and b is lesser than c and b is greater than a\n",
        "if a < b and b < c and b > a:\n",
        "  print(\"yes\")\n",
        "else:\n",
        "  print(\"no\")"
      ],
      "metadata": {
        "id": "yqa_Bx-P5Xpo",
        "colab": {
          "base_uri": "https://localhost:8080/"
        },
        "outputId": "f043c833-2f11-46d5-f05b-e8132b156c82"
      },
      "execution_count": 23,
      "outputs": [
        {
          "output_type": "stream",
          "name": "stdout",
          "text": [
            "yes\n"
          ]
        }
      ]
    },
    {
      "cell_type": "code",
      "source": [
        "a = 10\n",
        "b = 56\n",
        "c = 455\n",
        "#check the condition that s is lesser than b and b is lesser than c and b is greater than a\n",
        "if a > b or b < c or b > a:\n",
        "  print(\"yes\")\n",
        "else:\n",
        "  print(\"no\")"
      ],
      "metadata": {
        "id": "Rk0BWde85XtW",
        "colab": {
          "base_uri": "https://localhost:8080/"
        },
        "outputId": "03aeb95a-b4d3-4689-949c-b869781ec710"
      },
      "execution_count": 24,
      "outputs": [
        {
          "output_type": "stream",
          "name": "stdout",
          "text": [
            "yes\n"
          ]
        }
      ]
    },
    {
      "cell_type": "code",
      "source": [
        "#Nested condition:\n",
        "#when we have to use nested condition.\n",
        "a = int(input())\n",
        "#  i want display  all th conditions satified\n",
        "if a > 10:\n",
        "  print(\"a is greater than 10\")\n",
        "  if a > 20:\n",
        "    print(\"a is greater than 20\")\n",
        "    if a > 30:\n",
        "      print(\"a is greater than 30\")\n",
        "      if a > 50:\n",
        "        print(\"a is greater than 50\")\n",
        "      else:\n",
        "        print(\"a is lesser than 50\")\n",
        "    else:\n",
        "      print(\"a is lesser tha 30\")\n",
        "  else:\n",
        "    print(\" ais  lesser tha 20\")\n",
        "else:\n",
        "  print(\"a is less than 10\")\n"
      ],
      "metadata": {
        "id": "28tdIwn45Xw3",
        "colab": {
          "base_uri": "https://localhost:8080/"
        },
        "outputId": "e33f0975-0040-4c77-c00e-c1cc6693d0fd"
      },
      "execution_count": 25,
      "outputs": [
        {
          "output_type": "stream",
          "name": "stdout",
          "text": [
            "70\n",
            "a is greater than 10\n",
            "a is greater than 20\n",
            "a is greater than 30\n",
            "a is greater than 50\n"
          ]
        }
      ]
    },
    {
      "cell_type": "code",
      "source": [
        "#pass:- is a null place holder when you execute it nothing will happens\n",
        "a = int(input(\" enter your number: \"))\n",
        "if a > 0:\n",
        "  print(\"+ve\")\n",
        "\n",
        "elif a == 0:\n",
        "  pass\n",
        "\n",
        "else:\n",
        "  print(\"-ve\")"
      ],
      "metadata": {
        "id": "XlWLKsR25X0X",
        "colab": {
          "base_uri": "https://localhost:8080/"
        },
        "outputId": "7506ecd8-1d79-4a67-8209-68fbb07274c4"
      },
      "execution_count": 26,
      "outputs": [
        {
          "output_type": "stream",
          "name": "stdout",
          "text": [
            " enter your number: 7\n",
            "+ve\n"
          ]
        }
      ]
    },
    {
      "cell_type": "code",
      "source": [
        "#check what grade we can give to the students based upon their marks?\n",
        "#total marks = 100\n",
        "#if the student get 90 to 100 --> A+\n",
        "#if the student get 80 to 90 --> A\n",
        "#if the student get 70 to 80 --> B+\n",
        "#if the student get 60 to 70 --> B\n",
        "#if the student get 50 to 60 --> c\n",
        "#if the student get 40 to 50 --> D\n",
        "#Below it display \"better luck next time.\""
      ],
      "metadata": {
        "id": "6wqgXVxw5X-I"
      },
      "execution_count": 27,
      "outputs": []
    },
    {
      "cell_type": "markdown",
      "source": [
        "**Loops**"
      ],
      "metadata": {
        "id": "Q_-zDg0mL9rj"
      }
    },
    {
      "cell_type": "code",
      "source": [
        "#why we use the loops\n",
        "#we are using this loops to avoid \"wet code\" and to encourage \"dry code.\"\n",
        "#1. WET Code -->mean youare repeating the code.\n",
        "\n",
        "\"\"\" w--> write\n",
        "    e--> everything\n",
        "    t---> twice \"\"\"\n",
        "\n",
        "#DRY Code  --> not repeating the same code\n",
        "\"\"\" D --> Don't\n",
        "    R ---> repeat\n",
        "    y---> yourself\"\"\"\n",
        "#how may types of loops in py prog lang?\n",
        "# 1. while\n",
        "#2. for loop"
      ],
      "metadata": {
        "id": "Kk_o_q7u4OiM",
        "colab": {
          "base_uri": "https://localhost:8080/",
          "height": 35
        },
        "outputId": "03471d64-7e06-4cfa-da07-8241fd731108"
      },
      "execution_count": 28,
      "outputs": [
        {
          "output_type": "execute_result",
          "data": {
            "text/plain": [
              "\" D --> Don't\\n    R ---> repeat\\n    y---> yourself\""
            ],
            "application/vnd.google.colaboratory.intrinsic+json": {
              "type": "string"
            }
          },
          "metadata": {},
          "execution_count": 28
        }
      ]
    },
    {
      "cell_type": "code",
      "source": [
        "#While loop:- it works / runs a set of instruction as long as the conditions true.\n",
        "target = 5\n",
        "intial = 0\n",
        "while intial < target:\n",
        "  print(\"go down\")\n",
        "  print(\"go up\")\n",
        "  print(\"=====rep is completed=====\")\n",
        "  intial = intial + 2"
      ],
      "metadata": {
        "id": "gF1smZWk4Oks",
        "colab": {
          "base_uri": "https://localhost:8080/"
        },
        "outputId": "79bd99ed-1537-4c0f-91ea-069a3e491907"
      },
      "execution_count": 29,
      "outputs": [
        {
          "output_type": "stream",
          "name": "stdout",
          "text": [
            "go down\n",
            "go up\n",
            "=====rep is completed=====\n",
            "go down\n",
            "go up\n",
            "=====rep is completed=====\n",
            "go down\n",
            "go up\n",
            "=====rep is completed=====\n"
          ]
        }
      ]
    },
    {
      "cell_type": "code",
      "source": [
        "#write a program to run a lift to reach 4th floor?\n",
        "D = 4\n",
        "i = 0\n",
        "while i < D:\n",
        "  print(\"reach destination\")\n",
        "  print(\"==================\")\n",
        "  i = i + 1"
      ],
      "metadata": {
        "colab": {
          "base_uri": "https://localhost:8080/"
        },
        "id": "v3NZ9wm6MInc",
        "outputId": "8fdab4e7-ac80-43fe-d8a7-bfbfba3e869b"
      },
      "execution_count": 30,
      "outputs": [
        {
          "output_type": "stream",
          "name": "stdout",
          "text": [
            "reach destination\n",
            "==================\n",
            "reach destination\n",
            "==================\n",
            "reach destination\n",
            "==================\n",
            "reach destination\n",
            "==================\n"
          ]
        }
      ]
    },
    {
      "cell_type": "code",
      "source": [
        "#let say i = 10 while the i value is less than 10 print the values of i upto 10?\n",
        "i = 0\n",
        "while i < 10:\n",
        "  print(i)\n",
        "  i = i + 1   # i += 1\n"
      ],
      "metadata": {
        "colab": {
          "base_uri": "https://localhost:8080/"
        },
        "id": "ynKjWh8TMIs_",
        "outputId": "a12533fb-81dd-442c-f4a7-511cb6ab5313"
      },
      "execution_count": 31,
      "outputs": [
        {
          "output_type": "stream",
          "name": "stdout",
          "text": [
            "0\n",
            "1\n",
            "2\n",
            "3\n",
            "4\n",
            "5\n",
            "6\n",
            "7\n",
            "8\n",
            "9\n"
          ]
        }
      ]
    },
    {
      "cell_type": "code",
      "source": [
        "d = 10\n",
        "s = 0\n",
        "while s <= d:\n",
        "  print(s)\n",
        "  s = s + 1"
      ],
      "metadata": {
        "colab": {
          "base_uri": "https://localhost:8080/"
        },
        "id": "qkCsaOvQMIxE",
        "outputId": "1c54a9e8-0883-428e-cd76-acdf6ea2875d"
      },
      "execution_count": 32,
      "outputs": [
        {
          "output_type": "stream",
          "name": "stdout",
          "text": [
            "0\n",
            "1\n",
            "2\n",
            "3\n",
            "4\n",
            "5\n",
            "6\n",
            "7\n",
            "8\n",
            "9\n",
            "10\n"
          ]
        }
      ]
    },
    {
      "cell_type": "code",
      "source": [
        "#print the muliples of 2 upto 10  for that write a program?\n",
        "i = int(input())\n",
        "target = int(input())\n",
        "while i <= target:\n",
        "  print(i)\n",
        "  i = i * 2"
      ],
      "metadata": {
        "colab": {
          "base_uri": "https://localhost:8080/"
        },
        "id": "2QPJbvG6MI1O",
        "outputId": "cf7a587f-bc43-4b6b-c085-a7048f82b93c"
      },
      "execution_count": 33,
      "outputs": [
        {
          "output_type": "stream",
          "name": "stdout",
          "text": [
            "2\n",
            "7\n",
            "2\n",
            "4\n"
          ]
        }
      ]
    },
    {
      "cell_type": "code",
      "source": [],
      "metadata": {
        "id": "VS3XxWyuMpMx"
      },
      "execution_count": null,
      "outputs": []
    },
    {
      "cell_type": "code",
      "source": [
        "#write a program weater the given string is palindrome or not?\n",
        "a = input()\n",
        "a_rev = a[::-1]\n",
        "print(f'rev of string {a_rev}')\n",
        "if a.upper() == a_rev.upper():\n",
        "  print(f'{a} is palidrome')\n",
        "else:\n",
        "  print(f'{a} is not palindrome')\n",
        "\n",
        "\n"
      ],
      "metadata": {
        "colab": {
          "base_uri": "https://localhost:8080/"
        },
        "id": "0gcp4LUbMI48",
        "outputId": "9a96e638-5b02-4548-9253-b370e3c3c666"
      },
      "execution_count": 35,
      "outputs": [
        {
          "output_type": "stream",
          "name": "stdout",
          "text": [
            "Malayalam\n",
            "rev of string malayalaM\n",
            "Malayalam is palidrome\n"
          ]
        }
      ]
    },
    {
      "cell_type": "code",
      "source": [
        "print(\"malayalam\"== \"Malayalam\")"
      ],
      "metadata": {
        "colab": {
          "base_uri": "https://localhost:8080/"
        },
        "id": "5Uwv4zFIMI8d",
        "outputId": "36552fa1-61c7-42b6-bcb1-6802f9005271"
      },
      "execution_count": 36,
      "outputs": [
        {
          "output_type": "stream",
          "name": "stdout",
          "text": [
            "False\n"
          ]
        }
      ]
    },
    {
      "cell_type": "code",
      "source": [
        "a =\"HydeRAbad\"\n",
        "print(a.lower())"
      ],
      "metadata": {
        "colab": {
          "base_uri": "https://localhost:8080/"
        },
        "id": "Z3pBbSxNMJAy",
        "outputId": "a266a3f4-fcf0-402d-88f7-bb4444fe5e1e"
      },
      "execution_count": 37,
      "outputs": [
        {
          "output_type": "stream",
          "name": "stdout",
          "text": [
            "hyderabad\n"
          ]
        }
      ]
    },
    {
      "cell_type": "code",
      "source": [
        "#write a program to print multiples of 2 in the given list?\n",
        "#list = [1,2,3,4,5,6,7,8,9,10]  #--->[2,4,6,8,10,12,14,16,18,20]\n",
        "list = [1,2,3,4,5,6,7,8,9,10]\n",
        "print(list * 2)"
      ],
      "metadata": {
        "colab": {
          "base_uri": "https://localhost:8080/"
        },
        "id": "ECCjXAPEMJGU",
        "outputId": "e2bdcbd8-54c7-4631-a4d2-ef844b90cb50"
      },
      "execution_count": 38,
      "outputs": [
        {
          "output_type": "stream",
          "name": "stdout",
          "text": [
            "[1, 2, 3, 4, 5, 6, 7, 8, 9, 10, 1, 2, 3, 4, 5, 6, 7, 8, 9, 10]\n"
          ]
        }
      ]
    },
    {
      "cell_type": "markdown",
      "source": [
        "**for loop**"
      ],
      "metadata": {
        "id": "HisJe3pvM3g5"
      }
    },
    {
      "cell_type": "code",
      "source": [
        "#it runs a set of instruction overa collections(list, tuple, set, dictionary)\n",
        "list = [1,2,3,4,5,6,7,8,9,10]\n",
        "new_list = []\n",
        "for i in list:\n",
        "  print(i *2)"
      ],
      "metadata": {
        "colab": {
          "base_uri": "https://localhost:8080/"
        },
        "id": "kwW3t0zlMJNO",
        "outputId": "d59acd5a-582b-475a-bb63-7020bed6cdd8"
      },
      "execution_count": 39,
      "outputs": [
        {
          "output_type": "stream",
          "name": "stdout",
          "text": [
            "2\n",
            "4\n",
            "6\n",
            "8\n",
            "10\n",
            "12\n",
            "14\n",
            "16\n",
            "18\n",
            "20\n"
          ]
        }
      ]
    },
    {
      "cell_type": "code",
      "source": [
        "#print \"hello world\" in separate line?\n",
        "x = \"hello wordl\"\n",
        "for i in x:\n",
        "  print(i)"
      ],
      "metadata": {
        "colab": {
          "base_uri": "https://localhost:8080/"
        },
        "id": "HZuW0d_rMJSB",
        "outputId": "3b3b8572-f3d1-4a76-a748-a3c318b8de46"
      },
      "execution_count": 40,
      "outputs": [
        {
          "output_type": "stream",
          "name": "stdout",
          "text": [
            "h\n",
            "e\n",
            "l\n",
            "l\n",
            "o\n",
            " \n",
            "w\n",
            "o\n",
            "r\n",
            "d\n",
            "l\n"
          ]
        }
      ]
    },
    {
      "cell_type": "code",
      "source": [
        "#break & continue\n",
        "#breaks :- stops the loops irrespective of entire.\n",
        "#continue :- skip the current iteration\n",
        "number = [1,2,3,4,5,6]\n",
        "for i in number:\n",
        "  if i < 3:\n",
        "    break\n",
        "  print(i)"
      ],
      "metadata": {
        "id": "jN6qVsShMJVv"
      },
      "execution_count": 42,
      "outputs": []
    },
    {
      "cell_type": "code",
      "source": [
        "number = [1,2,3,4,5,6]\n",
        "for i in number:\n",
        "  if i > 3:\n",
        "    continue\n",
        "  print(i)"
      ],
      "metadata": {
        "colab": {
          "base_uri": "https://localhost:8080/"
        },
        "id": "7ZiDVgiOMJaO",
        "outputId": "9ee34d15-1a41-4816-ad4b-4816afa76b9c"
      },
      "execution_count": 43,
      "outputs": [
        {
          "output_type": "stream",
          "name": "stdout",
          "text": [
            "1\n",
            "2\n",
            "3\n"
          ]
        }
      ]
    },
    {
      "cell_type": "code",
      "source": [
        "#a =[10,20,30,40,50,60,70,80,90]\n",
        "#skip 20,40,70\n",
        "#o/p--: 10 30 50 60 80 90\n",
        "a =[10,20,30,40,50,60,70,80,90]\n",
        "for i in a:\n",
        "  if i == 20 or i == 40 or i == 70:\n",
        "    continue\n",
        "  print(i)\n"
      ],
      "metadata": {
        "colab": {
          "base_uri": "https://localhost:8080/"
        },
        "id": "1r3u0rziNKAG",
        "outputId": "a4192ada-fd8a-42b3-e521-c12a4545574e"
      },
      "execution_count": 44,
      "outputs": [
        {
          "output_type": "stream",
          "name": "stdout",
          "text": [
            "10\n",
            "30\n",
            "50\n",
            "60\n",
            "80\n",
            "90\n"
          ]
        }
      ]
    },
    {
      "cell_type": "code",
      "source": [
        "#using range function in a loop\n",
        "#range(start)\n",
        "#print number from 1 to 10?\n",
        "#note: range function is used only in foor loop.\n",
        "for i in range(11):\n",
        "  print(i)\n",
        "\n",
        "#use input() and print range of number as per user input?\n"
      ],
      "metadata": {
        "colab": {
          "base_uri": "https://localhost:8080/"
        },
        "id": "0lCYhuPENKFF",
        "outputId": "2b1129ec-64e2-4166-c642-d437ea3dcf74"
      },
      "execution_count": 45,
      "outputs": [
        {
          "output_type": "stream",
          "name": "stdout",
          "text": [
            "0\n",
            "1\n",
            "2\n",
            "3\n",
            "4\n",
            "5\n",
            "6\n",
            "7\n",
            "8\n",
            "9\n",
            "10\n"
          ]
        }
      ]
    },
    {
      "cell_type": "code",
      "source": [
        "#if i want the number start from 2 and till user given input\n",
        "#range(start,end)\n",
        "a = int(input())\n",
        "for i in range(2,a+1):\n",
        "  print(i)"
      ],
      "metadata": {
        "colab": {
          "base_uri": "https://localhost:8080/"
        },
        "id": "lW4nRxszNKIm",
        "outputId": "822ba1dd-e335-4061-a729-3ada31f2aedd"
      },
      "execution_count": 46,
      "outputs": [
        {
          "output_type": "stream",
          "name": "stdout",
          "text": [
            "7\n",
            "2\n",
            "3\n",
            "4\n",
            "5\n",
            "6\n",
            "7\n"
          ]
        }
      ]
    },
    {
      "cell_type": "code",
      "source": [
        "#i want to print range of 100 number but i want print all the even number upto 100\n",
        "#range(start,end,step)\n",
        "for i in range(0,101,2):\n",
        "  print(i)\n"
      ],
      "metadata": {
        "collapsed": true,
        "id": "TrCRF0IaNKMl"
      },
      "execution_count": null,
      "outputs": []
    },
    {
      "cell_type": "code",
      "source": [
        "#write the program to print range odd number from user inuput()?\n",
        "a = int(input())\n",
        "for i in range(a):\n",
        "  if i % 2 != 0:\n",
        "    print(i)\n"
      ],
      "metadata": {
        "colab": {
          "base_uri": "https://localhost:8080/"
        },
        "id": "1CrktkhuNKQP",
        "outputId": "a3935218-617d-4b51-99ad-18bdf35eaa9c"
      },
      "execution_count": 48,
      "outputs": [
        {
          "output_type": "stream",
          "name": "stdout",
          "text": [
            "9\n",
            "1\n",
            "3\n",
            "5\n",
            "7\n"
          ]
        }
      ]
    },
    {
      "cell_type": "markdown",
      "source": [
        "**collections**"
      ],
      "metadata": {
        "id": "ofxi3bAMNjUA"
      }
    },
    {
      "cell_type": "code",
      "source": [
        "#1.List\n",
        "#2.Tuple\n",
        "#3.Set\n",
        "#4.Dictionary"
      ],
      "metadata": {
        "id": "ShO7OttoNKUe"
      },
      "execution_count": null,
      "outputs": []
    },
    {
      "cell_type": "code",
      "source": [
        "#what is a list?\n",
        "#List:-created with []\n",
        "#--ordered, allows duplicates, mutable(chnagable)\n",
        "l1 = ['apple',\"banana\",'mango','strawberry','Blueberry']\n",
        "print(l1)\n",
        "print(type(l1))\n",
        "#what can be stored in a list?\n",
        "l2 = ['True','False','True','False']\n",
        "print(l2)\n",
        "print(type(l2))\n",
        "l3 =[1,2,3,4,5,6,7,8,9,10]\n",
        "print(l3)\n",
        "print(type(l3))"
      ],
      "metadata": {
        "colab": {
          "base_uri": "https://localhost:8080/"
        },
        "id": "J0gMH93MNKX1",
        "outputId": "77b29ce3-c06f-44f4-fc44-5e9380b08659"
      },
      "execution_count": 49,
      "outputs": [
        {
          "output_type": "stream",
          "name": "stdout",
          "text": [
            "['apple', 'banana', 'mango', 'strawberry', 'Blueberry']\n",
            "<class 'list'>\n",
            "['True', 'False', 'True', 'False']\n",
            "<class 'list'>\n",
            "[1, 2, 3, 4, 5, 6, 7, 8, 9, 10]\n",
            "<class 'list'>\n"
          ]
        }
      ]
    },
    {
      "cell_type": "code",
      "source": [
        "#print above l1,l2,l3 data types in singles with sep function\n",
        "print(type(l1),type(l2),type(l3),sep = \"\\n\")"
      ],
      "metadata": {
        "colab": {
          "base_uri": "https://localhost:8080/"
        },
        "id": "Oxnmcy-1NKbI",
        "outputId": "6db1dbc9-ba0b-4030-c7f6-216524802452"
      },
      "execution_count": 50,
      "outputs": [
        {
          "output_type": "stream",
          "name": "stdout",
          "text": [
            "<class 'list'>\n",
            "<class 'list'>\n",
            "<class 'list'>\n"
          ]
        }
      ]
    },
    {
      "cell_type": "code",
      "source": [
        "#list allows duplicats means prints duplicate values also\n",
        "l1 = ['apple',\"banana\",'mango','strawberry','Blueberry','apples','banana','grapes']\n",
        "print(l1)"
      ],
      "metadata": {
        "colab": {
          "base_uri": "https://localhost:8080/"
        },
        "id": "l32vxtj0NKfF",
        "outputId": "53f64f79-714c-40f6-bc54-cd13a598b73e"
      },
      "execution_count": 51,
      "outputs": [
        {
          "output_type": "stream",
          "name": "stdout",
          "text": [
            "['apple', 'banana', 'mango', 'strawberry', 'Blueberry', 'apples', 'banana', 'grapes']\n"
          ]
        }
      ]
    },
    {
      "cell_type": "code",
      "source": [
        "#list are ordered.\n",
        "#what is ordered?\n",
        "#means we can access each and every element in list by using indexing position numbers\n",
        "l1 = ['apple',\"banana\",'mango','strawberry','Blueberry','apples','banana','grapes']\n",
        "print(l1[0])\n",
        "print(l1[3:6])\n",
        "print(l1[::2])\n",
        "print(l1[::-1])"
      ],
      "metadata": {
        "colab": {
          "base_uri": "https://localhost:8080/"
        },
        "id": "oaYcCTifNKil",
        "outputId": "40d39565-c445-49cc-9060-e2e6258a336c"
      },
      "execution_count": 52,
      "outputs": [
        {
          "output_type": "stream",
          "name": "stdout",
          "text": [
            "apple\n",
            "['strawberry', 'Blueberry', 'apples']\n",
            "['apple', 'mango', 'Blueberry', 'banana']\n",
            "['grapes', 'banana', 'apples', 'Blueberry', 'strawberry', 'mango', 'banana', 'apple']\n"
          ]
        }
      ]
    },
    {
      "cell_type": "code",
      "source": [
        "#How you can say a collection is mutable?\n",
        "\"\"\"1. swapping #A--->B and B---> A\n",
        "2. Adding --> adding new items to the list\n",
        "3. Removing --> removing items from the list\"\"\"\n"
      ],
      "metadata": {
        "colab": {
          "base_uri": "https://localhost:8080/",
          "height": 35
        },
        "id": "k32zTOOvNyTb",
        "outputId": "f81ce53d-746a-4a32-cec2-747c9a151611"
      },
      "execution_count": 53,
      "outputs": [
        {
          "output_type": "execute_result",
          "data": {
            "text/plain": [
              "'1. swapping #A--->B and B---> A\\n2. Adding --> adding new items to the list\\n3. Removing --> removing items from the list'"
            ],
            "application/vnd.google.colaboratory.intrinsic+json": {
              "type": "string"
            }
          },
          "metadata": {},
          "execution_count": 53
        }
      ]
    },
    {
      "cell_type": "code",
      "source": [
        "#swapping\n",
        "l1 = ['apple',\"banana\",'mango','strawberry','Blueberry','apples','banana','grapes']\n",
        "l1[0]='orange'\n",
        "print(l1)"
      ],
      "metadata": {
        "colab": {
          "base_uri": "https://localhost:8080/"
        },
        "id": "RXUkovk5Nyf7",
        "outputId": "33271618-7d91-43e2-dc7f-2709581e3065"
      },
      "execution_count": 54,
      "outputs": [
        {
          "output_type": "stream",
          "name": "stdout",
          "text": [
            "['orange', 'banana', 'mango', 'strawberry', 'Blueberry', 'apples', 'banana', 'grapes']\n"
          ]
        }
      ]
    },
    {
      "cell_type": "code",
      "source": [
        "l1['apple'] = 'kiwi'\n",
        "printl1"
      ],
      "metadata": {
        "id": "H8gcwmvoNylu"
      },
      "execution_count": null,
      "outputs": []
    },
    {
      "cell_type": "code",
      "source": [
        "#swap the elememts  fron index 1 to 4 ?"
      ],
      "metadata": {
        "id": "gJOyR7UmNypx"
      },
      "execution_count": null,
      "outputs": []
    },
    {
      "cell_type": "code",
      "source": [
        "l1[1:4] = ['blackberry','water,elon','kiwi']\n",
        "print(l1)"
      ],
      "metadata": {
        "colab": {
          "base_uri": "https://localhost:8080/"
        },
        "id": "_nYAm5qYNyuM",
        "outputId": "0aef467c-ccfa-4ff9-9d8f-2c5752085a6b"
      },
      "execution_count": 56,
      "outputs": [
        {
          "output_type": "stream",
          "name": "stdout",
          "text": [
            "['orange', 'blackberry', 'water,elon', 'kiwi', 'Blueberry', 'apples', 'banana', 'grapes']\n"
          ]
        }
      ]
    },
    {
      "cell_type": "code",
      "source": [
        "#Append :- adding the extra element/ data at end of the list\n",
        "l1 = ['apple',\"banana\",'mango','strawberry','Blueberry','grapes']\n",
        "l1.append('orange')\n",
        "print(l1)\n",
        "#what is the default index position when you use append method?\n",
        "#end position\n",
        "#if i want to add more than 2 elements with append is it possible?\n",
        "#NO  --> append can take only one argument\n",
        "# l1.append('orange', 'kiwi', 'watermelon')\n",
        "# print(l1)"
      ],
      "metadata": {
        "colab": {
          "base_uri": "https://localhost:8080/"
        },
        "id": "ReY2bmpRNyx-",
        "outputId": "38a67583-c207-45ea-98c7-f3fa504a509b"
      },
      "execution_count": 57,
      "outputs": [
        {
          "output_type": "stream",
          "name": "stdout",
          "text": [
            "['apple', 'banana', 'mango', 'strawberry', 'Blueberry', 'grapes', 'orange']\n"
          ]
        }
      ]
    },
    {
      "cell_type": "code",
      "source": [
        "#insert method:- inserting data at certain position -->(insert(index number, \"item name\"))\n",
        "l1 = ['apple',\"banana\",'mango','strawberry','Blueberry','grapes']\n",
        "l1.insert(2,'orange')\n",
        "print(l1)\n"
      ],
      "metadata": {
        "colab": {
          "base_uri": "https://localhost:8080/"
        },
        "id": "kSGmzqx-Ny1v",
        "outputId": "ef757ec9-9841-44f8-aab1-300d1c838480"
      },
      "execution_count": 58,
      "outputs": [
        {
          "output_type": "stream",
          "name": "stdout",
          "text": [
            "['apple', 'banana', 'orange', 'mango', 'strawberry', 'Blueberry', 'grapes']\n"
          ]
        }
      ]
    },
    {
      "cell_type": "code",
      "source": [
        "#extend method:- add the items from the other collection\n",
        "l2=[1,2,3,4,5,6,7,8,9,10]\n",
        "# l1.extend(l2)\n",
        "l1.append(l2)\n",
        "print(l1)\n"
      ],
      "metadata": {
        "colab": {
          "base_uri": "https://localhost:8080/"
        },
        "id": "U3Hxhx58Ny55",
        "outputId": "326040ef-d8b1-4185-c014-9c97bcb9b9cd"
      },
      "execution_count": 59,
      "outputs": [
        {
          "output_type": "stream",
          "name": "stdout",
          "text": [
            "['apple', 'banana', 'orange', 'mango', 'strawberry', 'Blueberry', 'grapes', [1, 2, 3, 4, 5, 6, 7, 8, 9, 10]]\n"
          ]
        }
      ]
    },
    {
      "cell_type": "code",
      "source": [
        "#i want to insert another collection at particular indexc?\n",
        "l3 = [\"python\",\"java\",\"c++\"]\n",
        "l1 = ['apple',\"banana\",'mango','strawberry','Blueberry','grapes']\n",
        "l1.insert(2,l3)\n",
        "print(l1)"
      ],
      "metadata": {
        "colab": {
          "base_uri": "https://localhost:8080/"
        },
        "id": "PTFScS1ONy9Z",
        "outputId": "cbe0146f-c34b-4e3d-851b-e247c12696c7"
      },
      "execution_count": 60,
      "outputs": [
        {
          "output_type": "stream",
          "name": "stdout",
          "text": [
            "['apple', 'banana', ['python', 'java', 'c++'], 'mango', 'strawberry', 'Blueberry', 'grapes']\n"
          ]
        }
      ]
    },
    {
      "cell_type": "code",
      "source": [
        "#access the 2nd position element and print only python?\n",
        "print(l1[2][0])"
      ],
      "metadata": {
        "colab": {
          "base_uri": "https://localhost:8080/"
        },
        "id": "CCMUdLhKNzBJ",
        "outputId": "0cc392f0-d8a2-45b3-c0e7-745514a6f1e1"
      },
      "execution_count": 61,
      "outputs": [
        {
          "output_type": "stream",
          "name": "stdout",
          "text": [
            "python\n"
          ]
        }
      ]
    },
    {
      "cell_type": "code",
      "source": [
        "#removing of elements in a list?\n",
        "#remove(item or index position number)\n",
        "l1 = ['apple',\"banana\",'mango','strawberry','Blueberry','grapes','@',\"&\"]\n",
        "l1.remove('banana')\n",
        "print(l1)\n",
        "#"
      ],
      "metadata": {
        "colab": {
          "base_uri": "https://localhost:8080/"
        },
        "id": "1cs6_6OFNzE9",
        "outputId": "58e84454-ae08-4d41-9e63-6a6f0356b9a3"
      },
      "execution_count": 62,
      "outputs": [
        {
          "output_type": "stream",
          "name": "stdout",
          "text": [
            "['apple', 'mango', 'strawberry', 'Blueberry', 'grapes', '@', '&']\n"
          ]
        }
      ]
    },
    {
      "cell_type": "code",
      "source": [
        "l1 = ['apple',\"banana\",'mango','strawberry','Blueberry','grapes','@',\"&\"]"
      ],
      "metadata": {
        "id": "JuWe1plcNzIL"
      },
      "execution_count": 63,
      "outputs": []
    },
    {
      "cell_type": "code",
      "source": [
        "f1()"
      ],
      "metadata": {
        "id": "fEpGmVxlNzLb"
      },
      "execution_count": null,
      "outputs": []
    },
    {
      "cell_type": "code",
      "source": [
        "#pop:--->pop(index) --> you should have to ive only index\n",
        "\n",
        "l1.pop(2)\n",
        "print(l1)"
      ],
      "metadata": {
        "colab": {
          "base_uri": "https://localhost:8080/"
        },
        "id": "WSH2Se1PNzOz",
        "outputId": "13da37b9-6c4a-4e74-9ff3-db3924762d88"
      },
      "execution_count": 65,
      "outputs": [
        {
          "output_type": "stream",
          "name": "stdout",
          "text": [
            "['apple', 'banana', 'strawberry', 'Blueberry', 'grapes', '@', '&']\n"
          ]
        }
      ]
    },
    {
      "cell_type": "code",
      "source": [
        "#3rd. delete -->del collection_name[index_pos_number]\n",
        "del l1[2]\n",
        "print(l1)"
      ],
      "metadata": {
        "colab": {
          "base_uri": "https://localhost:8080/"
        },
        "id": "6MfOlcfXOjmw",
        "outputId": "a597e2f6-caae-46ac-bb2a-5483043cce75"
      },
      "execution_count": 66,
      "outputs": [
        {
          "output_type": "stream",
          "name": "stdout",
          "text": [
            "['apple', 'banana', 'Blueberry', 'grapes', '@', '&']\n"
          ]
        }
      ]
    },
    {
      "cell_type": "code",
      "source": [
        "#4th clear\n",
        "l1 = ['apple',\"banana\",'mango','strawberry','Blueberry','grapes','@',\"&\"]\n",
        "l1.clear()\n",
        "print(l1)"
      ],
      "metadata": {
        "colab": {
          "base_uri": "https://localhost:8080/"
        },
        "id": "amdl9YwKOjsx",
        "outputId": "6031029b-639b-407b-8411-93b1939289a1"
      },
      "execution_count": 67,
      "outputs": [
        {
          "output_type": "stream",
          "name": "stdout",
          "text": [
            "[]\n"
          ]
        }
      ]
    },
    {
      "cell_type": "code",
      "source": [
        "l1 = ['apple',\"banana\",'mango','strawberry','Blueberry','grapes','@',\"&\"]\n",
        "del l1\n",
        "print(l1)\n"
      ],
      "metadata": {
        "id": "9qRv_VAMOjxy"
      },
      "execution_count": null,
      "outputs": []
    },
    {
      "cell_type": "code",
      "source": [
        "#tuple--> ()\n",
        "#ordered, immutable, allows duplicates\n",
        "t1 = ('apple','banana','mango','strawberry','Blueberry','grapes')\n",
        "print(t1)\n",
        "print(type(t1))"
      ],
      "metadata": {
        "colab": {
          "base_uri": "https://localhost:8080/"
        },
        "id": "X75qNEFYOj10",
        "outputId": "e9c04e24-0a70-49dd-d80e-b196283fccea"
      },
      "execution_count": 69,
      "outputs": [
        {
          "output_type": "stream",
          "name": "stdout",
          "text": [
            "('apple', 'banana', 'mango', 'strawberry', 'Blueberry', 'grapes')\n",
            "<class 'tuple'>\n"
          ]
        }
      ]
    },
    {
      "cell_type": "code",
      "source": [
        "#allows duplicates\n",
        "t1 = ('apple','banana','mango','strawberry','Blueberry','grapes','apple','banana','grapes')\n",
        "print(t1)"
      ],
      "metadata": {
        "colab": {
          "base_uri": "https://localhost:8080/"
        },
        "id": "ffM65-eMOj5d",
        "outputId": "1a5152e9-869d-4558-ee32-903d4c4fa8a8"
      },
      "execution_count": 70,
      "outputs": [
        {
          "output_type": "stream",
          "name": "stdout",
          "text": [
            "('apple', 'banana', 'mango', 'strawberry', 'Blueberry', 'grapes', 'apple', 'banana', 'grapes')\n"
          ]
        }
      ]
    },
    {
      "cell_type": "code",
      "source": [
        "#tuple are ordered\n",
        "t1 = ('apple','banana','mango','strawberry','Blueberry','grapes')\n",
        "print(t1[3])\n",
        "#print 'banana','mango','strawberry','Blueberry' from above collection?\n",
        "print(t1[1:5])\n",
        "#print even position elements of above collection?\n",
        "print(t1[::2])\n",
        "#print revere of above collection\n",
        "print(t1[::-1])\n"
      ],
      "metadata": {
        "colab": {
          "base_uri": "https://localhost:8080/"
        },
        "id": "1nuTtWthOj8y",
        "outputId": "7db3fd45-49eb-412d-d81c-ee9190e7e56c"
      },
      "execution_count": 71,
      "outputs": [
        {
          "output_type": "stream",
          "name": "stdout",
          "text": [
            "strawberry\n",
            "('banana', 'mango', 'strawberry', 'Blueberry')\n",
            "('apple', 'mango', 'Blueberry')\n",
            "('grapes', 'Blueberry', 'strawberry', 'mango', 'banana', 'apple')\n"
          ]
        }
      ]
    },
    {
      "cell_type": "code",
      "source": [
        "#tuple is mmutable\n",
        "t1 = ('apple','banana','mango','strawberry','Blueberry','grapes')\n",
        "l = list(t1)"
      ],
      "metadata": {
        "id": "fmO6Z3G0OkAQ"
      },
      "execution_count": null,
      "outputs": []
    },
    {
      "cell_type": "code",
      "source": [
        "#How can you add new items in the given tuple? take an example and do it?\n",
        "#what is diff b\\w list and tuple?\n",
        "#when i should use list and when i should use tuple?"
      ],
      "metadata": {
        "id": "XFOzkGNdOkDj"
      },
      "execution_count": null,
      "outputs": []
    },
    {
      "cell_type": "code",
      "source": [
        "#set-->{}\n",
        "#unordered, it wont allow duplicates, immutable\n",
        "s1 = {'apple','banana','mango','strawberry','Blueberry','grapes','apple','banana','grapes' }\n",
        "print(s1)\n",
        "print(type(s1))"
      ],
      "metadata": {
        "colab": {
          "base_uri": "https://localhost:8080/"
        },
        "id": "ZAnhbjFVOkHI",
        "outputId": "88a10789-832d-4036-850f-75520d84273b"
      },
      "execution_count": 73,
      "outputs": [
        {
          "output_type": "stream",
          "name": "stdout",
          "text": [
            "{'Blueberry', 'mango', 'apple', 'grapes', 'banana', 'strawberry'}\n",
            "<class 'set'>\n"
          ]
        }
      ]
    },
    {
      "cell_type": "code",
      "source": [
        "#sets are unoredered\n",
        "print(s1[0])"
      ],
      "metadata": {
        "id": "O4BE2n6UOkKA"
      },
      "execution_count": null,
      "outputs": []
    },
    {
      "cell_type": "code",
      "source": [
        "#why sets are immutable?\n",
        "\"\"\"so in sets we can can add new elements/items and we can remove the items but we\n",
        " cannot swap(replace) items because sets desont have specific index position\"\"\""
      ],
      "metadata": {
        "colab": {
          "base_uri": "https://localhost:8080/",
          "height": 52
        },
        "id": "PJBqW5xzOkNx",
        "outputId": "ef039e6f-2c0e-4774-a0cd-e781411cde1a"
      },
      "execution_count": 75,
      "outputs": [
        {
          "output_type": "execute_result",
          "data": {
            "text/plain": [
              "'so in sets we can can add new elements/items and we can remove the items but we\\n cannot swap(replace) items because sets desont have specific index position'"
            ],
            "application/vnd.google.colaboratory.intrinsic+json": {
              "type": "string"
            }
          },
          "metadata": {},
          "execution_count": 75
        }
      ]
    },
    {
      "cell_type": "code",
      "source": [
        "#add items in to set\n",
        "#1.add(item name)\n",
        "s1 ={\"dog\",\"horse\",\"hen\",\"elephant\"}\n",
        "s1.add(\"cow\")\n",
        "print(s1)"
      ],
      "metadata": {
        "colab": {
          "base_uri": "https://localhost:8080/"
        },
        "id": "AAytygUKOkRD",
        "outputId": "edc55f9e-058c-4435-f673-d3f5f6c54a9c"
      },
      "execution_count": 76,
      "outputs": [
        {
          "output_type": "stream",
          "name": "stdout",
          "text": [
            "{'hen', 'horse', 'dog', 'elephant', 'cow'}\n"
          ]
        }
      ]
    },
    {
      "cell_type": "code",
      "source": [
        "#update method:- we can update other collection values in the taken set\\\\\n",
        "l = [1,2,3,4,5,6]\n",
        "s1.update(l)\n",
        "print(s1)\n"
      ],
      "metadata": {
        "colab": {
          "base_uri": "https://localhost:8080/"
        },
        "id": "d5eZhTWgOkUZ",
        "outputId": "e7adf641-4d53-4e71-bdd8-d5f1001f1e3e"
      },
      "execution_count": 77,
      "outputs": [
        {
          "output_type": "stream",
          "name": "stdout",
          "text": [
            "{1, 'hen', 2, 3, 4, 5, 6, 'horse', 'dog', 'elephant', 'cow'}\n"
          ]
        }
      ]
    },
    {
      "cell_type": "code",
      "source": [
        "#1. remove\n",
        "s1.remove(\"elephant\")\n",
        "print(s1)"
      ],
      "metadata": {
        "colab": {
          "base_uri": "https://localhost:8080/"
        },
        "id": "Yo6g16vROkXg",
        "outputId": "2c9daa44-9657-459f-bc47-713c4616c7af"
      },
      "execution_count": 78,
      "outputs": [
        {
          "output_type": "stream",
          "name": "stdout",
          "text": [
            "{1, 'hen', 2, 3, 4, 5, 6, 'horse', 'dog', 'cow'}\n"
          ]
        }
      ]
    },
    {
      "cell_type": "code",
      "source": [
        "#discard method:-\n",
        "s1.discard(\"hen\")\n",
        "print(s1)"
      ],
      "metadata": {
        "colab": {
          "base_uri": "https://localhost:8080/"
        },
        "id": "c_dX6ylLOkax",
        "outputId": "4e197033-2311-4e0a-bf1c-c8651008c427"
      },
      "execution_count": 79,
      "outputs": [
        {
          "output_type": "stream",
          "name": "stdout",
          "text": [
            "{1, 2, 3, 4, 5, 6, 'horse', 'dog', 'cow'}\n"
          ]
        }
      ]
    },
    {
      "cell_type": "code",
      "source": [
        "#pop method\n",
        "s1.pop()\n",
        "print(s1)"
      ],
      "metadata": {
        "colab": {
          "base_uri": "https://localhost:8080/"
        },
        "id": "Cj6XBnt0Oket",
        "outputId": "037154c5-a269-4f13-d2fa-a132e32c12af"
      },
      "execution_count": 80,
      "outputs": [
        {
          "output_type": "stream",
          "name": "stdout",
          "text": [
            "{2, 3, 4, 5, 6, 'horse', 'dog', 'cow'}\n"
          ]
        }
      ]
    },
    {
      "cell_type": "code",
      "source": [
        "#del\n",
        "del s1\n",
        "print(s1)"
      ],
      "metadata": {
        "id": "OI_jz_wROkht"
      },
      "execution_count": null,
      "outputs": []
    },
    {
      "cell_type": "code",
      "source": [
        "#clear\n",
        "s2 = {1,2,3,4,5,6,7,8,9,10}\n",
        "s2.clear()\n",
        "print(s2)"
      ],
      "metadata": {
        "colab": {
          "base_uri": "https://localhost:8080/"
        },
        "id": "sX6KfoIKOklA",
        "outputId": "6d082f79-5eab-4786-dd21-a0bb6e9aff53"
      },
      "execution_count": 82,
      "outputs": [
        {
          "output_type": "stream",
          "name": "stdout",
          "text": [
            "set()\n"
          ]
        }
      ]
    },
    {
      "cell_type": "code",
      "source": [
        "#what is the main reason we use sets?\n",
        "s1 = {'a','b','c','d'}\n",
        "s2 = {'d','e', 'f','g'}\n",
        "s4 = s1.intersection(s2)\n",
        "print(s4)"
      ],
      "metadata": {
        "colab": {
          "base_uri": "https://localhost:8080/"
        },
        "id": "Rc0xLYHIOkoC",
        "outputId": "18c443d8-e09d-4d22-bc6b-61da073481da"
      },
      "execution_count": 83,
      "outputs": [
        {
          "output_type": "stream",
          "name": "stdout",
          "text": [
            "{'d'}\n"
          ]
        }
      ]
    },
    {
      "cell_type": "code",
      "source": [
        "s3 = s1.union(s2)\n",
        "print(s3)"
      ],
      "metadata": {
        "colab": {
          "base_uri": "https://localhost:8080/"
        },
        "id": "Kjn7Cu6hOkr4",
        "outputId": "f812e4cb-e1fe-44b6-e68e-0f9d59f99c91"
      },
      "execution_count": 84,
      "outputs": [
        {
          "output_type": "stream",
          "name": "stdout",
          "text": [
            "{'a', 'c', 'f', 'e', 'd', 'g', 'b'}\n"
          ]
        }
      ]
    },
    {
      "cell_type": "markdown",
      "source": [
        "**Heterogenous data and homogenous data**"
      ],
      "metadata": {
        "id": "nhgm0yUdPfBF"
      }
    },
    {
      "cell_type": "markdown",
      "source": [
        "**Dictionary**"
      ],
      "metadata": {
        "id": "6uS3E6GLPkyY"
      }
    },
    {
      "cell_type": "code",
      "source": [
        "#where we can store our items in a dictionary?\n",
        "#A) key:value pairs\n",
        "#dictionary--> {}\n",
        "#-->unordered, it won't allow duplicates, mutable\n"
      ],
      "metadata": {
        "id": "i7BQ3-lzOkvH"
      },
      "execution_count": 85,
      "outputs": []
    },
    {
      "cell_type": "code",
      "source": [
        "d1 = {\n",
        "    \"name\":\"python\",\n",
        "    \"last_name\": \"programming\",\n",
        "    \"age\":29,\n",
        "    \"module\":True\n",
        "}\n",
        "print(d1)\n",
        "print(type(d1))"
      ],
      "metadata": {
        "colab": {
          "base_uri": "https://localhost:8080/"
        },
        "id": "t87MBHz9OkyQ",
        "outputId": "9e09256a-36e5-4172-b27a-c47bcd74b00e"
      },
      "execution_count": 86,
      "outputs": [
        {
          "output_type": "stream",
          "name": "stdout",
          "text": [
            "{'name': 'python', 'last_name': 'programming', 'age': 29, 'module': True}\n",
            "<class 'dict'>\n"
          ]
        }
      ]
    },
    {
      "cell_type": "code",
      "source": [
        "#how can we print keys and values separetly?\n",
        "print(d1.keys())\n",
        "print(d1.values())"
      ],
      "metadata": {
        "colab": {
          "base_uri": "https://localhost:8080/"
        },
        "id": "xzeR4SZnOk13",
        "outputId": "bf9885b5-3d97-4a25-d95b-c883af61c3c2"
      },
      "execution_count": 87,
      "outputs": [
        {
          "output_type": "stream",
          "name": "stdout",
          "text": [
            "dict_keys(['name', 'last_name', 'age', 'module'])\n",
            "dict_values(['python', 'programming', 29, True])\n"
          ]
        }
      ]
    },
    {
      "cell_type": "code",
      "source": [
        "#print each item()\n",
        "print(d1.items())"
      ],
      "metadata": {
        "colab": {
          "base_uri": "https://localhost:8080/"
        },
        "id": "IacK5ZuBOk5k",
        "outputId": "1896e0ad-dda3-4232-9196-ae2542f71ca6"
      },
      "execution_count": 88,
      "outputs": [
        {
          "output_type": "stream",
          "name": "stdout",
          "text": [
            "dict_items([('name', 'python'), ('last_name', 'programming'), ('age', 29), ('module', True)])\n"
          ]
        }
      ]
    },
    {
      "cell_type": "code",
      "source": [
        "#python is an interpreted langugae?\n",
        "#yes\n",
        "d1 = {\n",
        "    \"name\":\"python\",\n",
        "    \"last_name\": \"programming\",\n",
        "    \"age\":29,\n",
        "    \"module\":True,\n",
        "    \"name\":\"java\",\n",
        "    \"age\": 50\n",
        "}\n",
        "print(d1)"
      ],
      "metadata": {
        "colab": {
          "base_uri": "https://localhost:8080/"
        },
        "id": "lyhdsLP6Ok82",
        "outputId": "cdde18a0-40fd-451b-f30b-d24522d5e9e7"
      },
      "execution_count": 89,
      "outputs": [
        {
          "output_type": "stream",
          "name": "stdout",
          "text": [
            "{'name': 'java', 'last_name': 'programming', 'age': 50, 'module': True}\n"
          ]
        }
      ]
    },
    {
      "cell_type": "code",
      "source": [
        "#dict wont allow duplicates\n",
        "d1 = {\n",
        "    \"name\":\"python\",\n",
        "    \"last_name\": \"programming\",\n",
        "    \"age\":29,\n",
        "    \"module\":True,\n",
        "    \"name\":\"python\",\n",
        "    \"last_name\": \"programming\",\n",
        "    \"age\":29,\n",
        "    \"module\":True\n",
        "}\n",
        "print(d1)"
      ],
      "metadata": {
        "colab": {
          "base_uri": "https://localhost:8080/"
        },
        "id": "xk66WimIOlAn",
        "outputId": "dc604055-62d9-455d-a751-babe16c65fe5"
      },
      "execution_count": 90,
      "outputs": [
        {
          "output_type": "stream",
          "name": "stdout",
          "text": [
            "{'name': 'python', 'last_name': 'programming', 'age': 29, 'module': True}\n"
          ]
        }
      ]
    },
    {
      "cell_type": "code",
      "source": [
        "#find lenghth of dict1?\n",
        "print(len(d1))"
      ],
      "metadata": {
        "colab": {
          "base_uri": "https://localhost:8080/"
        },
        "id": "PI2vG5wOOlDT",
        "outputId": "5776d179-65f8-42ed-8c2b-1788452f915c"
      },
      "execution_count": 91,
      "outputs": [
        {
          "output_type": "stream",
          "name": "stdout",
          "text": [
            "4\n"
          ]
        }
      ]
    },
    {
      "cell_type": "code",
      "source": [
        "#dict is an unordered?\n",
        "print(d1[0])\n",
        "#note:- from the above example we can say dict is unordered"
      ],
      "metadata": {
        "id": "NU_pvDxDOlHb"
      },
      "execution_count": null,
      "outputs": []
    },
    {
      "cell_type": "code",
      "source": [
        "#how can we access elements from the dictionary?\n",
        "#by usin keys we can access the elements from dictionary\n",
        "print(d1['name'])\n",
        "print(d1.get('name'))"
      ],
      "metadata": {
        "colab": {
          "base_uri": "https://localhost:8080/"
        },
        "id": "fDGgD04DOlKW",
        "outputId": "044153a7-43f0-4c92-b4dc-ad501a984002"
      },
      "execution_count": 94,
      "outputs": [
        {
          "output_type": "stream",
          "name": "stdout",
          "text": [
            "python\n",
            "python\n"
          ]
        }
      ]
    },
    {
      "cell_type": "code",
      "source": [
        "#How can we change values to the particular key?\n",
        "d1['name'] = 'c++'\n",
        "print(d1)"
      ],
      "metadata": {
        "colab": {
          "base_uri": "https://localhost:8080/"
        },
        "id": "D_zt33H8OlQ3",
        "outputId": "77d09f2f-4673-417e-aafb-e336cab08017"
      },
      "execution_count": 95,
      "outputs": [
        {
          "output_type": "stream",
          "name": "stdout",
          "text": [
            "{'name': 'c++', 'last_name': 'programming', 'age': 29, 'module': True}\n"
          ]
        }
      ]
    },
    {
      "cell_type": "code",
      "source": [
        "#update is also similar method we are using to update/replace values in dict\n",
        "d1.update({'module':'yes'})\n",
        "print(d1)"
      ],
      "metadata": {
        "colab": {
          "base_uri": "https://localhost:8080/"
        },
        "id": "bLw9Cnc6OlXD",
        "outputId": "4571146a-d631-4bcd-828e-8ac43e32f41c"
      },
      "execution_count": 96,
      "outputs": [
        {
          "output_type": "stream",
          "name": "stdout",
          "text": [
            "{'name': 'c++', 'last_name': 'programming', 'age': 29, 'module': 'yes'}\n"
          ]
        }
      ]
    },
    {
      "cell_type": "code",
      "source": [
        "#how can i add new elements in to dictionary\n",
        "d1['typed'] = 'Dynamicall typed'\n",
        "print(d1)\n",
        "\n",
        "#note:-\n"
      ],
      "metadata": {
        "colab": {
          "base_uri": "https://localhost:8080/"
        },
        "id": "Gy6AGXs8OlaE",
        "outputId": "5fd6fd2e-66ac-4521-b297-f27b9d0fdeb1"
      },
      "execution_count": 97,
      "outputs": [
        {
          "output_type": "stream",
          "name": "stdout",
          "text": [
            "{'name': 'c++', 'last_name': 'programming', 'age': 29, 'module': 'yes', 'typed': 'Dynamicall typed'}\n"
          ]
        }
      ]
    },
    {
      "cell_type": "code",
      "source": [
        "d1['typed'] = 'statistically typed'\n",
        "print(d1)"
      ],
      "metadata": {
        "colab": {
          "base_uri": "https://localhost:8080/"
        },
        "id": "xuFDLUrtQLbi",
        "outputId": "86e9227d-bc76-4293-a05d-19273e0688dd"
      },
      "execution_count": 98,
      "outputs": [
        {
          "output_type": "stream",
          "name": "stdout",
          "text": [
            "{'name': 'c++', 'last_name': 'programming', 'age': 29, 'module': 'yes', 'typed': 'statistically typed'}\n"
          ]
        }
      ]
    },
    {
      "cell_type": "code",
      "source": [
        "d1['typed2'] = \"dynamiccaly typed\"\n",
        "print(d1)\n",
        "#Note: if the input keys are preset the value get updated if it is not present new key:value pairs added"
      ],
      "metadata": {
        "colab": {
          "base_uri": "https://localhost:8080/"
        },
        "id": "8zUQO6V-QLiN",
        "outputId": "c7d98af9-0499-49a1-cd2e-55fd58543aaf"
      },
      "execution_count": 99,
      "outputs": [
        {
          "output_type": "stream",
          "name": "stdout",
          "text": [
            "{'name': 'c++', 'last_name': 'programming', 'age': 29, 'module': 'yes', 'typed': 'statistically typed', 'typed2': 'dynamiccaly typed'}\n"
          ]
        }
      ]
    },
    {
      "cell_type": "code",
      "source": [
        "#how can we remove the items in dict?\n",
        "#pop(key)\n",
        "d1.pop('typed2')\n",
        "print(d1)"
      ],
      "metadata": {
        "colab": {
          "base_uri": "https://localhost:8080/"
        },
        "id": "kFYi-KaOQLmg",
        "outputId": "d261e480-5629-4001-96e9-dc39ae385bfa"
      },
      "execution_count": 100,
      "outputs": [
        {
          "output_type": "stream",
          "name": "stdout",
          "text": [
            "{'name': 'c++', 'last_name': 'programming', 'age': 29, 'module': 'yes', 'typed': 'statistically typed'}\n"
          ]
        }
      ]
    },
    {
      "cell_type": "code",
      "source": [
        "d1 = {\n",
        "    \"name\":[\"python\",\"c++\",\"java\"],\n",
        "    \"last_name\": \"programming\",\n",
        "    \"age\":29,\n",
        "    \"module\":True\n",
        "}\n",
        "print(d1)"
      ],
      "metadata": {
        "colab": {
          "base_uri": "https://localhost:8080/"
        },
        "id": "38mNIWESQLrF",
        "outputId": "8c379326-d662-4ad8-d720-0260bd8e1ccd"
      },
      "execution_count": 101,
      "outputs": [
        {
          "output_type": "stream",
          "name": "stdout",
          "text": [
            "{'name': ['python', 'c++', 'java'], 'last_name': 'programming', 'age': 29, 'module': True}\n"
          ]
        }
      ]
    },
    {
      "cell_type": "code",
      "source": [
        "#print c++ from d1\n",
        "# print(d1['name'])\n",
        "print(d1['name'][1])"
      ],
      "metadata": {
        "colab": {
          "base_uri": "https://localhost:8080/"
        },
        "id": "AK1h6CL-QLvT",
        "outputId": "865722e9-114b-4242-eb55-dc843f88f001"
      },
      "execution_count": 102,
      "outputs": [
        {
          "output_type": "stream",
          "name": "stdout",
          "text": [
            "c++\n"
          ]
        }
      ]
    },
    {
      "cell_type": "code",
      "source": [
        "d1['name'][1]='c'\n",
        "print(d1)"
      ],
      "metadata": {
        "colab": {
          "base_uri": "https://localhost:8080/"
        },
        "id": "--PJpeR-QLz5",
        "outputId": "520de18b-c3c3-4a23-97ea-40b8f3cadfc3"
      },
      "execution_count": 103,
      "outputs": [
        {
          "output_type": "stream",
          "name": "stdout",
          "text": [
            "{'name': ['python', 'c', 'java'], 'last_name': 'programming', 'age': 29, 'module': True}\n"
          ]
        }
      ]
    },
    {
      "cell_type": "code",
      "source": [
        "#add new items in to the list in name?\n",
        "d1['name'].append('R')\n",
        "print(d1)"
      ],
      "metadata": {
        "colab": {
          "base_uri": "https://localhost:8080/"
        },
        "id": "z1hk4D5sQL3V",
        "outputId": "07257003-2625-46ed-a11f-0ab4148a6901"
      },
      "execution_count": 104,
      "outputs": [
        {
          "output_type": "stream",
          "name": "stdout",
          "text": [
            "{'name': ['python', 'c', 'java', 'R'], 'last_name': 'programming', 'age': 29, 'module': True}\n"
          ]
        }
      ]
    },
    {
      "cell_type": "code",
      "source": [
        "#print only R from name of d1?\n",
        "print(d1['name'][3])\n"
      ],
      "metadata": {
        "colab": {
          "base_uri": "https://localhost:8080/"
        },
        "id": "DMGZea5xQL7h",
        "outputId": "79d01e83-610f-4444-be97-7396a53709a6"
      },
      "execution_count": 105,
      "outputs": [
        {
          "output_type": "stream",
          "name": "stdout",
          "text": [
            "R\n"
          ]
        }
      ]
    },
    {
      "cell_type": "code",
      "source": [
        "#delete java from the name?\n",
        "del d1['name'][2]\n",
        "print(d1)"
      ],
      "metadata": {
        "colab": {
          "base_uri": "https://localhost:8080/"
        },
        "id": "-3tbbqfsQL_k",
        "outputId": "df8b57c8-d854-4aab-e2b6-de8ffa20bd17"
      },
      "execution_count": 106,
      "outputs": [
        {
          "output_type": "stream",
          "name": "stdout",
          "text": [
            "{'name': ['python', 'c', 'R'], 'last_name': 'programming', 'age': 29, 'module': True}\n"
          ]
        }
      ]
    },
    {
      "cell_type": "code",
      "source": [
        "#clear entire dictionar\n",
        "d1.clear()\n",
        "print(d1)"
      ],
      "metadata": {
        "colab": {
          "base_uri": "https://localhost:8080/"
        },
        "id": "Pwog6guxQMC7",
        "outputId": "50cc889e-e0c0-43e5-bddc-2f38d2fddcf4"
      },
      "execution_count": 107,
      "outputs": [
        {
          "output_type": "stream",
          "name": "stdout",
          "text": [
            "{}\n"
          ]
        }
      ]
    },
    {
      "cell_type": "code",
      "source": [
        "d2 = {\n",
        "    \"name\":\"python\",\n",
        "    \"last_name\": \"programming\",\n",
        "    \"age\":29,\n",
        "    \"module\":True\n",
        "}\n",
        "print(d2)"
      ],
      "metadata": {
        "colab": {
          "base_uri": "https://localhost:8080/"
        },
        "id": "iP6RVEfbQ40D",
        "outputId": "4b5929e9-0fb5-4fa3-cf6a-acd32468272a"
      },
      "execution_count": 108,
      "outputs": [
        {
          "output_type": "stream",
          "name": "stdout",
          "text": [
            "{'name': 'python', 'last_name': 'programming', 'age': 29, 'module': True}\n"
          ]
        }
      ]
    },
    {
      "cell_type": "code",
      "source": [
        "del d2\n",
        "print(d2)"
      ],
      "metadata": {
        "id": "IbjPG6wNQ45W"
      },
      "execution_count": null,
      "outputs": []
    },
    {
      "cell_type": "code",
      "source": [
        "#working with loops in dictionary\n",
        "d3= {'name': ['python', 'c', 'java'],\n",
        "     'last_name': 'programming',\n",
        "     'age': 29,\n",
        "     'module': True}\n",
        "#print keys() dict by using loops\n",
        "for i in d3.keys():\n",
        "  print(i)\n"
      ],
      "metadata": {
        "colab": {
          "base_uri": "https://localhost:8080/"
        },
        "id": "jkW1Ew-wQ49V",
        "outputId": "5fcf59fb-b218-41ac-b095-0edfdad29c4d"
      },
      "execution_count": 110,
      "outputs": [
        {
          "output_type": "stream",
          "name": "stdout",
          "text": [
            "name\n",
            "last_name\n",
            "age\n",
            "module\n"
          ]
        }
      ]
    },
    {
      "cell_type": "code",
      "source": [
        "#print the values?\n",
        "for i in d3.values():\n",
        "  print(i)"
      ],
      "metadata": {
        "colab": {
          "base_uri": "https://localhost:8080/"
        },
        "id": "Boy8VTWPQ5BU",
        "outputId": "8d24d169-f424-4b19-b4f2-2ed3455495d6"
      },
      "execution_count": 111,
      "outputs": [
        {
          "output_type": "stream",
          "name": "stdout",
          "text": [
            "['python', 'c', 'java']\n",
            "programming\n",
            "29\n",
            "True\n"
          ]
        }
      ]
    },
    {
      "cell_type": "code",
      "source": [
        "#by using for loop print key:value pair in separate lines\n",
        "# for i,j in d3.items():\n",
        "#   print(i,j)\n",
        "#i want o/p in dict format?\n",
        "for x in d3.keys():\n",
        "  print(f'{x}:{d3[x]}')"
      ],
      "metadata": {
        "colab": {
          "base_uri": "https://localhost:8080/"
        },
        "id": "X4kDMxhrQ5Fr",
        "outputId": "273dd6eb-1a52-4787-b96b-6971c7148d9e"
      },
      "execution_count": 112,
      "outputs": [
        {
          "output_type": "stream",
          "name": "stdout",
          "text": [
            "name:['python', 'c', 'java']\n",
            "last_name:programming\n",
            "age:29\n",
            "module:True\n"
          ]
        }
      ]
    },
    {
      "cell_type": "code",
      "source": [
        "#dict-->{}-->unordered, key:value pairs,won't allow duplicates,where values are changable and keys are unchangable\n",
        "#list-->[]-->ordered,allows the duplicates, mutable\n",
        "#tuple-->()-->ordered,allows the duplicates, immutable\n",
        "#set-->{}-->unordered, it wont allow duplicates, immutable"
      ],
      "metadata": {
        "id": "ulNgcJluQ5Jx"
      },
      "execution_count": null,
      "outputs": []
    },
    {
      "cell_type": "markdown",
      "source": [
        "**Escape Characters**"
      ],
      "metadata": {
        "id": "N3SuFBqqRO1T"
      }
    },
    {
      "cell_type": "code",
      "source": [
        "#escape characters are used to print the illegeal characters.\n",
        "print('dwyane \\\"The Rock\\\" Kohnson')\n",
        "#Note:- give the backward slash before illegel characters"
      ],
      "metadata": {
        "colab": {
          "base_uri": "https://localhost:8080/"
        },
        "id": "5YnJKPWjQ5NY",
        "outputId": "7be64924-b2c9-442e-fafd-147e57ed8266"
      },
      "execution_count": 113,
      "outputs": [
        {
          "output_type": "stream",
          "name": "stdout",
          "text": [
            "dwyane \"The Rock\" Kohnson\n"
          ]
        }
      ]
    },
    {
      "cell_type": "markdown",
      "source": [
        "24-06-2024"
      ],
      "metadata": {
        "id": "GM-Zy89_RVK9"
      }
    },
    {
      "cell_type": "markdown",
      "source": [
        "**functions**"
      ],
      "metadata": {
        "id": "5i7X3BULRX0v"
      }
    },
    {
      "cell_type": "code",
      "source": [
        "#Function:- is nothing a block of code which can runs when you call it, where you want\n",
        "#How ac we create a function?\n",
        "#A)\"def\" is th key word\n",
        "#lets create a function\n",
        "def f1():\n",
        "  print(\"hello world\")\n",
        "  print(\"this is my first function\")\n",
        "  print(\"==============================\")"
      ],
      "metadata": {
        "id": "vs_8YDtcQ5Q8"
      },
      "execution_count": 114,
      "outputs": []
    },
    {
      "cell_type": "code",
      "source": [
        "#how to call the function\n",
        "f1()"
      ],
      "metadata": {
        "colab": {
          "base_uri": "https://localhost:8080/"
        },
        "id": "9dzu9nK1Q5UX",
        "outputId": "917f0db6-c7b6-4d3f-f125-d9dd350d2ffb"
      },
      "execution_count": 115,
      "outputs": [
        {
          "output_type": "stream",
          "name": "stdout",
          "text": [
            "hello world\n",
            "this is my first function\n",
            "==============================\n"
          ]
        }
      ]
    },
    {
      "cell_type": "code",
      "source": [
        "#A function can seen in parameters and arguments\n",
        "\n",
        "def f2(name):\n",
        "  print(f'hello {name}')\n",
        "#call this function\n",
        "f2(\"python\")\n"
      ],
      "metadata": {
        "colab": {
          "base_uri": "https://localhost:8080/"
        },
        "id": "sR-B-g8TQ5Yx",
        "outputId": "27e419c4-58d7-4c32-bc98-ab7b92266ea9"
      },
      "execution_count": 116,
      "outputs": [
        {
          "output_type": "stream",
          "name": "stdout",
          "text": [
            "hello python\n"
          ]
        }
      ]
    },
    {
      "cell_type": "code",
      "source": [
        "#what is an argument?\n",
        "#defining a varible when you create a function  is knows as parameter\n",
        "#what is an perameter?\n",
        "#the value your given to the varaible/parameter when you call the function\n",
        "#why we are using arguments and paramets?\n",
        "#both are use  to pass some information."
      ],
      "metadata": {
        "id": "basx32I5Q5ck"
      },
      "execution_count": null,
      "outputs": []
    },
    {
      "cell_type": "code",
      "source": [
        "#How many arguments do we have?\n",
        "def f2(name):\n",
        "  print(f'hello {name}')\n",
        "#call this function\n",
        "f2(\"python\")"
      ],
      "metadata": {
        "colab": {
          "base_uri": "https://localhost:8080/"
        },
        "id": "9xJ2i_T6Q5fz",
        "outputId": "c470ffd7-1437-42f6-f763-f3b82738283b"
      },
      "execution_count": 117,
      "outputs": [
        {
          "output_type": "stream",
          "name": "stdout",
          "text": [
            "hello python\n"
          ]
        }
      ]
    },
    {
      "cell_type": "code",
      "source": [
        "def f3(nam,age):\n",
        "  print(f'hello {nam}, you have enetered {age}')\n",
        "#call this function\n",
        "f3(\"python\",29)\n",
        "\n"
      ],
      "metadata": {
        "colab": {
          "base_uri": "https://localhost:8080/"
        },
        "id": "kqLFZGTARtKK",
        "outputId": "991203a4-b508-454c-d50f-0403fb4da595"
      },
      "execution_count": 118,
      "outputs": [
        {
          "output_type": "stream",
          "name": "stdout",
          "text": [
            "hello python, you have enetered 29\n"
          ]
        }
      ]
    },
    {
      "cell_type": "code",
      "source": [
        "#use the default parameter  to not rise the error when youar calling the function without argument\n",
        "def f2(name=\"user\"):  #giving default parameter =\"user\" you can use the specific string string\n",
        "  print(f'hello {name}')\n",
        "#call this function\n",
        "f2()"
      ],
      "metadata": {
        "colab": {
          "base_uri": "https://localhost:8080/"
        },
        "id": "-PxiKn3JRtQI",
        "outputId": "6d59f545-933a-4c81-ae99-f2affd8e004b"
      },
      "execution_count": 119,
      "outputs": [
        {
          "output_type": "stream",
          "name": "stdout",
          "text": [
            "hello user\n"
          ]
        }
      ]
    },
    {
      "cell_type": "code",
      "source": [
        "#what do i do when i dont know howmany arguments do i need to pass?\n",
        "def f2(*name):\n",
        "  for i in name:\n",
        "      print(f'hello {i}')\n",
        "#call this function\n",
        "f2(\"python\",\"java\",\"c++\",\"c\")\n"
      ],
      "metadata": {
        "colab": {
          "base_uri": "https://localhost:8080/"
        },
        "id": "QW8r1OUURtU4",
        "outputId": "98a9a79c-ea14-4e96-92da-3d5594787afc"
      },
      "execution_count": 120,
      "outputs": [
        {
          "output_type": "stream",
          "name": "stdout",
          "text": [
            "hello python\n",
            "hello java\n",
            "hello c++\n",
            "hello c\n"
          ]
        }
      ]
    },
    {
      "cell_type": "code",
      "source": [
        "#when i don't know how many parameters do i have to pass?\n",
        "def f4(**name):\n",
        "  for x in name:\n",
        "    print(f'hello {x}!')\n",
        "  print(\"+++++++++++++++++++++\")\n",
        "f4(Name = \"python\", last_name = \"programming\")\n"
      ],
      "metadata": {
        "colab": {
          "base_uri": "https://localhost:8080/"
        },
        "id": "idt9bTIsRtZG",
        "outputId": "94658d3f-c41b-49a3-f908-8a6a905c2569"
      },
      "execution_count": 121,
      "outputs": [
        {
          "output_type": "stream",
          "name": "stdout",
          "text": [
            "hello Name!\n",
            "hello last_name!\n",
            "+++++++++++++++++++++\n"
          ]
        }
      ]
    },
    {
      "cell_type": "code",
      "source": [
        "def f4(**name):\n",
        "  for x,y in name.items():\n",
        "    print(f'hello {y}!')\n",
        "  print(\"+++++++++++++++++++++\")\n",
        "f4(Name = \"python\", last_name = \"programming\")\n"
      ],
      "metadata": {
        "colab": {
          "base_uri": "https://localhost:8080/"
        },
        "id": "DL4sLSZSRtdQ",
        "outputId": "d1cacc23-6031-4e31-e538-4f2a93f31692"
      },
      "execution_count": 122,
      "outputs": [
        {
          "output_type": "stream",
          "name": "stdout",
          "text": [
            "hello python!\n",
            "hello programming!\n",
            "+++++++++++++++++++++\n"
          ]
        }
      ]
    },
    {
      "cell_type": "code",
      "source": [
        "print(10,20,30,40,50,60,sep=\"\\n\") #print in sep line"
      ],
      "metadata": {
        "colab": {
          "base_uri": "https://localhost:8080/"
        },
        "id": "v7V7igMARthf",
        "outputId": "0f85a298-7dcf-430b-f427-6b0616c1821d"
      },
      "execution_count": 123,
      "outputs": [
        {
          "output_type": "stream",
          "name": "stdout",
          "text": [
            "10\n",
            "20\n",
            "30\n",
            "40\n",
            "50\n",
            "60\n"
          ]
        }
      ]
    },
    {
      "cell_type": "code",
      "source": [
        "def f5(name,age,last_name):\n",
        "  print(f'hello {name} you have entered {age} and your last name is {last_name}')\n",
        "\n",
        "f5(\"python\",29,\"programming\")\n"
      ],
      "metadata": {
        "colab": {
          "base_uri": "https://localhost:8080/"
        },
        "id": "ssuDcrMGRtk5",
        "outputId": "e7fc3e3d-54d4-4e66-9842-b3e3320762d2"
      },
      "execution_count": 124,
      "outputs": [
        {
          "output_type": "stream",
          "name": "stdout",
          "text": [
            "hello python you have entered 29 and your last name is programming\n"
          ]
        }
      ]
    },
    {
      "cell_type": "code",
      "source": [
        "def f1(**details):\n",
        "  print(details)\n",
        "\n",
        "f1(name=\"python\",last_name=\"programming\",age=29)\n"
      ],
      "metadata": {
        "colab": {
          "base_uri": "https://localhost:8080/"
        },
        "id": "_0SmVEi5Rto0",
        "outputId": "9d6749f9-965f-4dd0-9d09-5b822fafc717"
      },
      "execution_count": 125,
      "outputs": [
        {
          "output_type": "stream",
          "name": "stdout",
          "text": [
            "{'name': 'python', 'last_name': 'programming', 'age': 29}\n"
          ]
        }
      ]
    },
    {
      "cell_type": "code",
      "source": [
        "#when i am usin * don't know how many arguments your passing.what default dtype?\n",
        "#tuple\n",
        "#when i use ** means don't know how many parameter your passing.what default dtype?\n",
        "#dictionary"
      ],
      "metadata": {
        "id": "y-Yns3aVRtsv"
      },
      "execution_count": null,
      "outputs": []
    },
    {
      "cell_type": "code",
      "source": [
        "\n",
        "def f1(**details):\n",
        "  for key,values in details.items():\n",
        "    print(f'{key} : {values}')\n",
        "\n",
        "\n",
        "f1(name=\"python\",last_name=\"programming\",age=29)"
      ],
      "metadata": {
        "colab": {
          "base_uri": "https://localhost:8080/"
        },
        "id": "iCEoYMXNRtv9",
        "outputId": "6bfe5ff2-9d33-40b3-f663-c047839a1fae"
      },
      "execution_count": 126,
      "outputs": [
        {
          "output_type": "stream",
          "name": "stdout",
          "text": [
            "name : python\n",
            "last_name : programming\n",
            "age : 29\n"
          ]
        }
      ]
    },
    {
      "cell_type": "code",
      "source": [
        "#Technical name for * and **\n",
        "\"\"\" *-->args-->arbitrary arguments-->tuple\n",
        "    **-->kwargs-->keyword arguments-->dictionay\n",
        "\"\"\""
      ],
      "metadata": {
        "colab": {
          "base_uri": "https://localhost:8080/",
          "height": 35
        },
        "id": "mw1nfG4RRtzy",
        "outputId": "d185e1b0-61d7-4b66-9e99-c5ed37c005d0"
      },
      "execution_count": 127,
      "outputs": [
        {
          "output_type": "execute_result",
          "data": {
            "text/plain": [
              "' *-->args-->arbitrary arguments-->tuple\\n    **-->kwargs-->keyword arguments-->dictionay\\n'"
            ],
            "application/vnd.google.colaboratory.intrinsic+json": {
              "type": "string"
            }
          },
          "metadata": {},
          "execution_count": 127
        }
      ]
    },
    {
      "cell_type": "code",
      "source": [
        "#retur() keyword\n",
        "def f1(x):\n",
        "  return x\n",
        "print(f1(10))"
      ],
      "metadata": {
        "colab": {
          "base_uri": "https://localhost:8080/"
        },
        "id": "m8oo1xaUSL9c",
        "outputId": "469d6c2d-bfbd-479a-c921-fa75e95cf687"
      },
      "execution_count": 128,
      "outputs": [
        {
          "output_type": "stream",
          "name": "stdout",
          "text": [
            "10\n"
          ]
        }
      ]
    },
    {
      "cell_type": "code",
      "source": [
        "#create a sum function\n",
        "def sum(a,b):\n",
        "  return a + b\n",
        "print(sum(2,4))"
      ],
      "metadata": {
        "colab": {
          "base_uri": "https://localhost:8080/"
        },
        "id": "x2_mZiK6SMCz",
        "outputId": "5afc2e3d-7f05-4209-c164-bc79da482d26"
      },
      "execution_count": 129,
      "outputs": [
        {
          "output_type": "stream",
          "name": "stdout",
          "text": [
            "6\n"
          ]
        }
      ]
    },
    {
      "cell_type": "code",
      "source": [
        "def mul(a,b):\n",
        "  print(a*b)\n",
        "\n",
        "mul(2,4)"
      ],
      "metadata": {
        "colab": {
          "base_uri": "https://localhost:8080/"
        },
        "id": "iGpNhBwBSMG1",
        "outputId": "9bf18b58-f961-4b88-979e-c7d193ba477d"
      },
      "execution_count": 130,
      "outputs": [
        {
          "output_type": "stream",
          "name": "stdout",
          "text": [
            "8\n"
          ]
        }
      ]
    },
    {
      "cell_type": "code",
      "source": [
        "#create all the arthamatic function-->HW"
      ],
      "metadata": {
        "id": "sJ1u_xwiSMKo"
      },
      "execution_count": null,
      "outputs": []
    },
    {
      "cell_type": "markdown",
      "source": [
        "**List comprehension**"
      ],
      "metadata": {
        "id": "-ZfY5BvgSYfF"
      }
    },
    {
      "cell_type": "code",
      "source": [
        "#what is LC?\n",
        "#A LC offers you smaller line of code that you can use to create new_list from existing list\n",
        "fruits =['apple','banana','mango','strawberry','Blueberry','grapes']\n",
        "#create a new list can have letter \"a\" in the above items\n",
        "new_list = []\n",
        "for i in fruits:\n",
        "  if \"a\" in i:\n",
        "    new_list.append(i)\n",
        "print(new_list)\n"
      ],
      "metadata": {
        "colab": {
          "base_uri": "https://localhost:8080/"
        },
        "id": "WFxULsV7SYMH",
        "outputId": "5e02ed5b-fb2b-4040-bc85-fdbfac541562"
      },
      "execution_count": 131,
      "outputs": [
        {
          "output_type": "stream",
          "name": "stdout",
          "text": [
            "['apple', 'banana', 'mango', 'strawberry', 'grapes']\n"
          ]
        }
      ]
    },
    {
      "cell_type": "code",
      "source": [
        "a =['apple', 'banana', 'mango', 'kiwi', 'grpes']\n",
        "new_list = [i for i in a if \"a\" in i]\n",
        "print(new_list)"
      ],
      "metadata": {
        "colab": {
          "base_uri": "https://localhost:8080/"
        },
        "id": "vQL03uWKSMN7",
        "outputId": "8b832c4a-bce9-4870-8efc-cdf9e80a6aa8"
      },
      "execution_count": 132,
      "outputs": [
        {
          "output_type": "stream",
          "name": "stdout",
          "text": [
            "['apple', 'banana', 'mango']\n"
          ]
        }
      ]
    },
    {
      "cell_type": "code",
      "source": [
        "#[item for items in collection_name apply condition]"
      ],
      "metadata": {
        "id": "1bUGNgV3SMRg"
      },
      "execution_count": null,
      "outputs": []
    },
    {
      "cell_type": "code",
      "source": [
        "#write a program to print multiples of 2 in the new list?\n",
        "list = [1,2,3,4,5,6,7,8,9,10]\n",
        "new = [i*2 for i in list]\n",
        "print(new)"
      ],
      "metadata": {
        "colab": {
          "base_uri": "https://localhost:8080/"
        },
        "id": "-ktxU57sSMVL",
        "outputId": "f8a14119-0e1e-4ac3-c1be-d62cf765b06a"
      },
      "execution_count": 133,
      "outputs": [
        {
          "output_type": "stream",
          "name": "stdout",
          "text": [
            "[2, 4, 6, 8, 10, 12, 14, 16, 18, 20]\n"
          ]
        }
      ]
    },
    {
      "cell_type": "code",
      "source": [
        "#write a program to even numbers in the new list?\n",
        "list = [1,2,3,4,5,6,7,8,9,10]\n",
        "new = [i % 2 == 0 for i in list] #boolen output\n",
        "new1 = [i for i in list if i % 2 == 0] #even numbers\n",
        "print(new)\n",
        "print(new1)\n"
      ],
      "metadata": {
        "colab": {
          "base_uri": "https://localhost:8080/"
        },
        "id": "h-r4vjYZSMY0",
        "outputId": "b121fe1a-5cb6-46c2-e688-12a0a02a65de"
      },
      "execution_count": 134,
      "outputs": [
        {
          "output_type": "stream",
          "name": "stdout",
          "text": [
            "[False, True, False, True, False, True, False, True, False, True]\n",
            "[2, 4, 6, 8, 10]\n"
          ]
        }
      ]
    },
    {
      "cell_type": "code",
      "source": [
        "a =['apple', 'banana', 'mango', 'kiwi', 'grpes']\n",
        "#print a new list where it doesn't have banana in it?\n",
        "new_fruit_list = [i for i in a if i != \"banana\"]\n",
        "print(new_fruit_list)\n",
        "#another method\n",
        "new = [i for i in a if 'banana' not in i]\n",
        "print(new)\n",
        "\n"
      ],
      "metadata": {
        "colab": {
          "base_uri": "https://localhost:8080/"
        },
        "id": "zTs5gbPfSMbS",
        "outputId": "19bc8e92-342f-41da-d9fa-168debd9e4c5"
      },
      "execution_count": 135,
      "outputs": [
        {
          "output_type": "stream",
          "name": "stdout",
          "text": [
            "['apple', 'mango', 'kiwi', 'grpes']\n",
            "['apple', 'mango', 'kiwi', 'grpes']\n"
          ]
        }
      ]
    },
    {
      "cell_type": "code",
      "source": [
        "#write a program to print  numbers greater than 6?\n",
        "list = [1,2,3,4,5,6,7,8,9,10]\n",
        "new = [i for i in list if i > 6]\n",
        "print(new)\n",
        "new1 = [i>6 for i in list]\n",
        "print(new1)\n"
      ],
      "metadata": {
        "colab": {
          "base_uri": "https://localhost:8080/"
        },
        "id": "F8eY0f_5SsyQ",
        "outputId": "7eacada5-f58a-479f-8a74-1f8881ffb376"
      },
      "execution_count": 136,
      "outputs": [
        {
          "output_type": "stream",
          "name": "stdout",
          "text": [
            "[7, 8, 9, 10]\n",
            "[False, False, False, False, False, False, True, True, True, True]\n"
          ]
        }
      ]
    },
    {
      "cell_type": "code",
      "source": [
        "#using the string methods in the LC\n",
        "fruits =['apple','banana','mango','strawberry','Blueberry','grapes']\n",
        "#wrte a prgrom to print the fruits in upper cases?\n",
        "new = [i.upper() for i in fruits]\n",
        "print(new)\n"
      ],
      "metadata": {
        "colab": {
          "base_uri": "https://localhost:8080/"
        },
        "id": "kw4Bu0TVSs4Q",
        "outputId": "59279b80-ce4e-42f2-ad2d-70315fac4efe"
      },
      "execution_count": 137,
      "outputs": [
        {
          "output_type": "stream",
          "name": "stdout",
          "text": [
            "['APPLE', 'BANANA', 'MANGO', 'STRAWBERRY', 'BLUEBERRY', 'GRAPES']\n"
          ]
        }
      ]
    },
    {
      "cell_type": "code",
      "source": [
        "#Replace the banan with orange by using LC\n",
        "fruits =['apple','banana','mango','strawberry','Blueberry','grapes']\n",
        "new = [i.replace('banana','kiwi') for i in fruits]\n",
        "print(new)"
      ],
      "metadata": {
        "colab": {
          "base_uri": "https://localhost:8080/"
        },
        "id": "L9K4TTVMSs7n",
        "outputId": "4acdccdc-4ce3-4a63-ec45-59f5d33174fe"
      },
      "execution_count": 138,
      "outputs": [
        {
          "output_type": "stream",
          "name": "stdout",
          "text": [
            "['apple', 'kiwi', 'mango', 'strawberry', 'Blueberry', 'grapes']\n"
          ]
        }
      ]
    },
    {
      "cell_type": "code",
      "source": [
        "#print the range of numbers upt 20 in newlist?\n",
        "new = [i for i in range(20)]\n",
        "print(new)"
      ],
      "metadata": {
        "colab": {
          "base_uri": "https://localhost:8080/"
        },
        "id": "d2kkEdIMSs_R",
        "outputId": "90fab91f-54a5-42e0-d484-b1adc5d54d5c"
      },
      "execution_count": 139,
      "outputs": [
        {
          "output_type": "stream",
          "name": "stdout",
          "text": [
            "[0, 1, 2, 3, 4, 5, 6, 7, 8, 9, 10, 11, 12, 13, 14, 15, 16, 17, 18, 19]\n"
          ]
        }
      ]
    },
    {
      "cell_type": "markdown",
      "source": [
        "**Lambda, filter, map**"
      ],
      "metadata": {
        "id": "iuRkOkSIS8br"
      }
    },
    {
      "cell_type": "code",
      "source": [
        "#what is lambda?\n",
        "#A lambda is a small anonymous function\n",
        "#what is anonymous function?\n",
        "#a function without any name.\n",
        "def f1(x):\n",
        "  return x\n",
        "print(f1(10))"
      ],
      "metadata": {
        "colab": {
          "base_uri": "https://localhost:8080/"
        },
        "id": "xJWUg2goStC7",
        "outputId": "2982e2bc-98dc-48d5-cf2a-78060bf2cb68"
      },
      "execution_count": 140,
      "outputs": [
        {
          "output_type": "stream",
          "name": "stdout",
          "text": [
            "10\n"
          ]
        }
      ]
    },
    {
      "cell_type": "code",
      "source": [
        "#syntax for lambda\n",
        "#lambda arguments:expression\n",
        "#what is expression\n",
        "#is some statements/ calculations/steps using that values to give single value"
      ],
      "metadata": {
        "id": "RiCFGxCeStGv"
      },
      "execution_count": null,
      "outputs": []
    },
    {
      "cell_type": "code",
      "source": [
        "#lambda is an anonymous function whwre it can have many argumnets and 1 expression"
      ],
      "metadata": {
        "id": "A8bBK0VUStKk"
      },
      "execution_count": null,
      "outputs": []
    },
    {
      "cell_type": "code",
      "source": [
        "#How to call this anonymous function?\n",
        "#by using the variables\n",
        "x = lambda a : a +10\n",
        "print(x(5))"
      ],
      "metadata": {
        "colab": {
          "base_uri": "https://localhost:8080/"
        },
        "id": "ooUv7EZ_StNl",
        "outputId": "be528f29-8762-4e82-f5ad-780d08c2bc14"
      },
      "execution_count": 141,
      "outputs": [
        {
          "output_type": "stream",
          "name": "stdout",
          "text": [
            "15\n"
          ]
        }
      ]
    },
    {
      "cell_type": "code",
      "source": [
        "#take many aruments\n",
        "x = lambda a,b,c:\n",
        "print(x(5,6,7))"
      ],
      "metadata": {
        "id": "xzuSITqHStPq"
      },
      "execution_count": null,
      "outputs": []
    },
    {
      "cell_type": "code",
      "source": [
        "#creat diff function i..e\n",
        "#.squre\n",
        "#cube\n",
        "#four\n",
        "#sqrt -->0.5"
      ],
      "metadata": {
        "id": "jo3nmWobStSB"
      },
      "execution_count": null,
      "outputs": []
    },
    {
      "cell_type": "code",
      "source": [
        "def squrae(x):\n",
        "  return x**2\n",
        "def cube(x):\n",
        "  return x** 3\n",
        "def four(x):\n",
        "  return x ** 4\n",
        "def sqrt(x):\n",
        "  return x ** 0.5"
      ],
      "metadata": {
        "id": "Mi9FW25bTT_W"
      },
      "execution_count": 144,
      "outputs": []
    },
    {
      "cell_type": "code",
      "source": [
        "print(squrae(5))\n",
        "print(cube(5))\n",
        "print(four(5))\n",
        "print(sqrt(5))"
      ],
      "metadata": {
        "colab": {
          "base_uri": "https://localhost:8080/"
        },
        "id": "pBqc5uw7TUE2",
        "outputId": "4fda0592-8b45-4039-ddad-6bd127abbf45"
      },
      "execution_count": 145,
      "outputs": [
        {
          "output_type": "stream",
          "name": "stdout",
          "text": [
            "25\n",
            "125\n",
            "625\n",
            "2.23606797749979\n"
          ]
        }
      ]
    },
    {
      "cell_type": "code",
      "source": [
        "def power(n):\n",
        "  return lambda x: x**n\n",
        "\n",
        "sq = power(2)\n",
        "cube = power(3)\n",
        "\n",
        "sqr = int(input(\"eneter you squrae number;\"))\n",
        "cub = int(input(\"enetr cube number: \"))\n",
        "\n",
        "print(sq(sqr))\n",
        "print(cube(cub))\n",
        "\n"
      ],
      "metadata": {
        "colab": {
          "base_uri": "https://localhost:8080/"
        },
        "id": "pe8anl0LTUMJ",
        "outputId": "ff53e7a5-449d-45c3-e60f-4e0de7886438"
      },
      "execution_count": 146,
      "outputs": [
        {
          "output_type": "stream",
          "name": "stdout",
          "text": [
            "eneter you squrae number;7\n",
            "enetr cube number: 2\n",
            "49\n",
            "8\n"
          ]
        }
      ]
    },
    {
      "cell_type": "code",
      "source": [
        "x = \"Amazon\"\n",
        "print(x)"
      ],
      "metadata": {
        "colab": {
          "base_uri": "https://localhost:8080/"
        },
        "id": "GPOK_9u9TUPQ",
        "outputId": "b572e48e-a9fa-47d9-acd6-32adee54670d"
      },
      "execution_count": 147,
      "outputs": [
        {
          "output_type": "stream",
          "name": "stdout",
          "text": [
            "Amazon\n"
          ]
        }
      ]
    },
    {
      "cell_type": "code",
      "source": [
        "def f1():\n",
        "  return x\n",
        "print(f1())"
      ],
      "metadata": {
        "colab": {
          "base_uri": "https://localhost:8080/"
        },
        "id": "rNgxmJpZTUS5",
        "outputId": "6350356c-ef97-4daa-b132-f9fed4f4a545"
      },
      "execution_count": 148,
      "outputs": [
        {
          "output_type": "stream",
          "name": "stdout",
          "text": [
            "Amazon\n"
          ]
        }
      ]
    },
    {
      "cell_type": "code",
      "source": [
        "#Types of variable\n",
        "#global variable :- create a varible outside the function\n",
        "#local variable: creating varible inside the function is known as local variable\n",
        "def f1():\n",
        "  x = 'fantastic'\n",
        "  return x\n",
        "print(f1())\n"
      ],
      "metadata": {
        "colab": {
          "base_uri": "https://localhost:8080/"
        },
        "id": "TLTY6ZojTUWX",
        "outputId": "7c543e8a-654b-4143-87aa-c86045692418"
      },
      "execution_count": 149,
      "outputs": [
        {
          "output_type": "stream",
          "name": "stdout",
          "text": [
            "fantastic\n"
          ]
        }
      ]
    },
    {
      "cell_type": "code",
      "source": [
        "print(x)"
      ],
      "metadata": {
        "colab": {
          "base_uri": "https://localhost:8080/"
        },
        "id": "zzSPV59DTUZP",
        "outputId": "d9ea8d62-6481-4062-c94a-9956534f44db"
      },
      "execution_count": 150,
      "outputs": [
        {
          "output_type": "stream",
          "name": "stdout",
          "text": [
            "Amazon\n"
          ]
        }
      ]
    },
    {
      "cell_type": "markdown",
      "source": [
        "**Map()**"
      ],
      "metadata": {
        "id": "VXzWSFWFTwDJ"
      }
    },
    {
      "cell_type": "code",
      "source": [
        "#what is map?\n",
        "#it uses a function on iterables.\n",
        "#syntax--> map(function,iterable)\n",
        "#map will run function on every item in a collection\n"
      ],
      "metadata": {
        "id": "8YF6XJyjTsYY"
      },
      "execution_count": null,
      "outputs": []
    },
    {
      "cell_type": "code",
      "source": [
        "fruits =['apple','banana','mango','strawberry','Blueberry','grapes']\n",
        "#claculate length of certain fruits from list\n",
        "print(len(fruits[0]))\n",
        "print(len(fruits[1]))\n",
        "print(len(fruits[2]))\n",
        "print(len(fruits[3]))\n",
        "print(len(fruits[4]))\n",
        "print(len(fruits[5]))"
      ],
      "metadata": {
        "colab": {
          "base_uri": "https://localhost:8080/"
        },
        "id": "kH07ki3gTsxH",
        "outputId": "62089d34-ebe4-401d-bc67-0970e91afe0f"
      },
      "execution_count": 151,
      "outputs": [
        {
          "output_type": "stream",
          "name": "stdout",
          "text": [
            "5\n",
            "6\n",
            "5\n",
            "10\n",
            "9\n",
            "6\n"
          ]
        }
      ]
    },
    {
      "cell_type": "code",
      "source": [
        "length = [len(a) for a in fruits]\n",
        "print(length)"
      ],
      "metadata": {
        "colab": {
          "base_uri": "https://localhost:8080/"
        },
        "id": "9dcW0o5MTs3Q",
        "outputId": "caead9d9-ac6a-45b3-82e0-478ec808683e"
      },
      "execution_count": 152,
      "outputs": [
        {
          "output_type": "stream",
          "name": "stdout",
          "text": [
            "[5, 6, 5, 10, 9, 6]\n"
          ]
        }
      ]
    },
    {
      "cell_type": "code",
      "source": [
        "length = list(map(len,fruits))\n",
        "print(length)\n",
        "#Note:when your using length function you have to denote/define the data type"
      ],
      "metadata": {
        "id": "9tTboX2NTs66"
      },
      "execution_count": null,
      "outputs": []
    },
    {
      "cell_type": "code",
      "source": [
        "length = set(map(len,fruits))\n",
        "print(length)"
      ],
      "metadata": {
        "colab": {
          "base_uri": "https://localhost:8080/"
        },
        "id": "zF1brnGeTs_y",
        "outputId": "56cd3b32-cdc8-480b-b4d2-b96e580024b7"
      },
      "execution_count": 154,
      "outputs": [
        {
          "output_type": "stream",
          "name": "stdout",
          "text": [
            "{9, 10, 5, 6}\n"
          ]
        }
      ]
    },
    {
      "cell_type": "code",
      "source": [
        "#cRRATE A FUNCTION THAT WISHE EVERY ONE IN THE DATASET\n",
        "fruits =['apple','banana','mango','strawberry','Blueberry','grapes']\n",
        "def f2(x):\n",
        "  return \"hello\" +\" \"+ x\n",
        "new = list(map(f2,fruits))\n",
        "print(new)"
      ],
      "metadata": {
        "id": "0kQdgCNgTtDI"
      },
      "execution_count": null,
      "outputs": []
    },
    {
      "cell_type": "code",
      "source": [
        "#when we have to use the maps()?\n",
        "#map most heavily used when we take the input()\n",
        "user = input().split()\n",
        "print(user)\n",
        "print(type(user))"
      ],
      "metadata": {
        "colab": {
          "base_uri": "https://localhost:8080/"
        },
        "id": "LzO8AuydUJBO",
        "outputId": "29bb5b09-db82-47ec-a68a-e032d61a5c28"
      },
      "execution_count": 156,
      "outputs": [
        {
          "output_type": "stream",
          "name": "stdout",
          "text": [
            "apple banana orange\n",
            "['apple', 'banana', 'orange']\n",
            "<class 'list'>\n"
          ]
        }
      ]
    },
    {
      "cell_type": "code",
      "source": [
        "user = input().split()\n",
        "number = []\n",
        "for x in user:\n",
        "  number.append(int(x))\n",
        "print(number)\n",
        "print(type(number))"
      ],
      "metadata": {
        "colab": {
          "base_uri": "https://localhost:8080/"
        },
        "id": "rOYapDKOUI99",
        "outputId": "26228f58-cc44-4a91-db1a-32b6d3d3eeb3"
      },
      "execution_count": 157,
      "outputs": [
        {
          "output_type": "stream",
          "name": "stdout",
          "text": [
            "1 2 3 4 5 6 7\n",
            "[1, 2, 3, 4, 5, 6, 7]\n",
            "<class 'list'>\n"
          ]
        }
      ]
    },
    {
      "cell_type": "code",
      "source": [
        "user = input().split()\n",
        "number = tuple(map(str,user))\n",
        "print(number)\n",
        "print(type(number))"
      ],
      "metadata": {
        "colab": {
          "base_uri": "https://localhost:8080/"
        },
        "id": "SK78menEUI6K",
        "outputId": "23b14283-8676-44d7-c477-5339d19c7f36"
      },
      "execution_count": 158,
      "outputs": [
        {
          "output_type": "stream",
          "name": "stdout",
          "text": [
            "7\n",
            "('7',)\n",
            "<class 'tuple'>\n"
          ]
        }
      ]
    },
    {
      "cell_type": "code",
      "source": [
        "#write a program to print multiples of 2? use LC and Map\n",
        "list = [10,20,30,40,50,60,70,80,90,100]\n",
        "nw_l = [a*2 for a in list]\n",
        "print(nw_l)"
      ],
      "metadata": {
        "colab": {
          "base_uri": "https://localhost:8080/"
        },
        "id": "FDBPln2UUI3k",
        "outputId": "e549249c-2fe9-4115-b055-ce14602b9f7c"
      },
      "execution_count": 159,
      "outputs": [
        {
          "output_type": "stream",
          "name": "stdout",
          "text": [
            "[20, 40, 60, 80, 100, 120, 140, 160, 180, 200]\n"
          ]
        }
      ]
    },
    {
      "cell_type": "code",
      "source": [
        "t = tuple(map(lambda a: a* 2,list))\n",
        "print(t)"
      ],
      "metadata": {
        "colab": {
          "base_uri": "https://localhost:8080/"
        },
        "id": "OjI5snx7UI1N",
        "outputId": "6e47e2e9-c25b-44a2-d45e-e4a8a353a714"
      },
      "execution_count": 160,
      "outputs": [
        {
          "output_type": "stream",
          "name": "stdout",
          "text": [
            "(20, 40, 60, 80, 100, 120, 140, 160, 180, 200)\n"
          ]
        }
      ]
    },
    {
      "cell_type": "code",
      "source": [
        "#use split()\n",
        "t1=(20, 40, 60, 80, 100, 120, 140, 160, 180, 200)\n",
        "number = tuple(map(lambda a: a*2,t1))\n",
        "print(number)"
      ],
      "metadata": {
        "colab": {
          "base_uri": "https://localhost:8080/"
        },
        "id": "uILa7RPcUIyC",
        "outputId": "5aff8cbb-2244-4464-9e4f-2ed267b1063d"
      },
      "execution_count": 161,
      "outputs": [
        {
          "output_type": "stream",
          "name": "stdout",
          "text": [
            "(40, 80, 120, 160, 200, 240, 280, 320, 360, 400)\n"
          ]
        }
      ]
    },
    {
      "cell_type": "code",
      "source": [
        "#please do the same thing with all arthamatic operation"
      ],
      "metadata": {
        "id": "t2Vp2-SZUIu1"
      },
      "execution_count": null,
      "outputs": []
    },
    {
      "cell_type": "code",
      "source": [
        "#write a python program to find factorials of given number?\n",
        "import math\n",
        "num = int(input(\"enter a number: \"))\n",
        "print(math.factorial(num))"
      ],
      "metadata": {
        "colab": {
          "base_uri": "https://localhost:8080/"
        },
        "id": "8nfglUvTUIrK",
        "outputId": "3f1b905f-d39f-48e6-9961-1f95605d788c"
      },
      "execution_count": 162,
      "outputs": [
        {
          "output_type": "stream",
          "name": "stdout",
          "text": [
            "enter a number: 7\n",
            "5040\n"
          ]
        }
      ]
    },
    {
      "cell_type": "code",
      "source": [
        "#do same program with map()\n",
        "fact = list(map(math.factorial,map(int, input().split())))\n",
        "print(fact)\n"
      ],
      "metadata": {
        "id": "IF8XqVnJUIlp"
      },
      "execution_count": null,
      "outputs": []
    },
    {
      "cell_type": "code",
      "source": [
        "fact = tuple(map(math.factorial, map(int, input().split())))\n",
        "print(fact)"
      ],
      "metadata": {
        "colab": {
          "base_uri": "https://localhost:8080/"
        },
        "id": "Nvsqm8a_UIag",
        "outputId": "6d12f697-7aa5-4c59-b82e-52e5a97384d2"
      },
      "execution_count": 167,
      "outputs": [
        {
          "output_type": "stream",
          "name": "stdout",
          "text": [
            "1  2 5 7 \n",
            "(1, 2, 120, 5040)\n"
          ]
        }
      ]
    },
    {
      "cell_type": "markdown",
      "source": [
        "**Filter**"
      ],
      "metadata": {
        "id": "cXiGXQQ5VJAl"
      }
    },
    {
      "cell_type": "markdown",
      "source": [],
      "metadata": {
        "id": "LMlJYc52TtHC"
      }
    },
    {
      "cell_type": "code",
      "source": [
        "#filter(function,iterable)\n",
        "age = [12,15,16,17,18,19,20,21,22,23,24,25,26,27,28,29,30,8,6]\n",
        "def adult(x):\n",
        "  if x >= 18:\n",
        "    return True\n",
        "  else:\n",
        "    return False\n",
        "# M1 = tuple(map(adult,age))\n",
        "# print(M1)\n",
        "#use filter function\n",
        "f1 = tuple(filter(adult,age))\n",
        "print(f1)"
      ],
      "metadata": {
        "colab": {
          "base_uri": "https://localhost:8080/"
        },
        "id": "yHeACBLwTtQ7",
        "outputId": "e3fe79d4-d455-499d-cb80-8695d9f721ac"
      },
      "execution_count": 168,
      "outputs": [
        {
          "output_type": "stream",
          "name": "stdout",
          "text": [
            "(18, 19, 20, 21, 22, 23, 24, 25, 26, 27, 28, 29, 30)\n"
          ]
        }
      ]
    },
    {
      "cell_type": "code",
      "source": [
        "age = [12,15,18,20,80,90]\n",
        "def adult(x):\n",
        "  if x >= 18:\n",
        "    return True\n",
        "f1 = tuple(filter(adult,age))\n",
        "print(f1)"
      ],
      "metadata": {
        "colab": {
          "base_uri": "https://localhost:8080/"
        },
        "id": "PQcyUvBSTtUG",
        "outputId": "982f1971-76e3-4976-cf72-3b1583839c36"
      },
      "execution_count": 169,
      "outputs": [
        {
          "output_type": "stream",
          "name": "stdout",
          "text": [
            "(18, 20, 80, 90)\n"
          ]
        }
      ]
    },
    {
      "cell_type": "markdown",
      "source": [
        "**Class and Objects**\n",
        "\n",
        "**how to create a class**\n",
        "\n",
        "**Attributes types**"
      ],
      "metadata": {
        "id": "fxpw0Hc9VWYq"
      }
    },
    {
      "cell_type": "code",
      "source": [],
      "metadata": {
        "id": "iVXC-gKgVR5V"
      },
      "execution_count": null,
      "outputs": []
    },
    {
      "cell_type": "code",
      "source": [
        "\n",
        "n = 75869\n",
        "# print(len(n))\n",
        "count = 0\n",
        "while n != 0:\n",
        "  count = count + 1\n",
        "  # n = n // 10\n",
        "print(count)\n",
        "\n",
        "\n"
      ],
      "metadata": {
        "id": "P49XerdxVR_z"
      },
      "execution_count": null,
      "outputs": []
    },
    {
      "cell_type": "code",
      "source": [
        "#write a program to print multiples of 2 in the given list?\n",
        "list = [1,2,3,4,5,6,7,8,9,10]\n",
        "new_list = []\n",
        "for i in list:\n",
        "  new_list.append(i * 2)\n",
        "  print(new_list)"
      ],
      "metadata": {
        "id": "Xe3CcosvVSD7"
      },
      "execution_count": null,
      "outputs": []
    },
    {
      "cell_type": "markdown",
      "source": [],
      "metadata": {
        "id": "4qZhbKaxVSIX"
      }
    }
  ]
}